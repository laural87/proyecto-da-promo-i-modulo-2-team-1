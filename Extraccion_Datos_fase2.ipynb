{
 "cells": [
  {
   "cell_type": "markdown",
   "metadata": {},
   "source": [
    "# Fase 2"
   ]
  },
  {
   "cell_type": "code",
   "execution_count": 25,
   "metadata": {},
   "outputs": [],
   "source": [
    "# Importar librerías para tratamiento de datos\n",
    "# -----------------------------------------------------------------------\n",
    "import pandas as pd  \n",
    "\n",
    "# Importar librerías para web scraping y manipulación de datos\n",
    "# -----------------------------------------------------------------------\n",
    "from bs4 import BeautifulSoup\n",
    "import requests\n",
    "\n",
    "# Importar librerías para automatización de navegadores web con Selenium\n",
    "# -----------------------------------------------------------------------\n",
    "from selenium import webdriver  \n",
    "from webdriver_manager.chrome import ChromeDriverManager  \n",
    "from selenium.webdriver.common.keys import Keys  \n",
    "from selenium.webdriver.support.ui import Select \n",
    "\n",
    "# Importar librerías para pausar la ejecución\n",
    "# -----------------------------------------------------------------------\n",
    "from time import sleep  \n"
   ]
  },
  {
   "cell_type": "code",
   "execution_count": 56,
   "metadata": {},
   "outputs": [],
   "source": [
    "# Trasladar todas las tuplas del diccionario a una sola lista\n",
    "# Paso 1: guardar datos de cada extracción en variables \n",
    "\n",
    "extracion_maira = pd.read_json('CSV_JSON/datos_filtrados_2010_2024.json')\n",
    "extracion_yami = pd.read_json('CSV_JSON/datos_filtrados_Yami_2010_2024.json')\n",
    "extracion_carolina = pd.read_json('CSV_JSON/datos_filtrados_2010_2024_carolina.json')\n",
    "extracion_laura = pd.read_json('CSV_JSON/datos_filtrados_2010_2024_laura.json')\n"
   ]
  },
  {
   "cell_type": "code",
   "execution_count": 57,
   "metadata": {},
   "outputs": [],
   "source": [
    "# Paso 2: Creamos una función para iterar por cada variable para guardar los datos en listas de tuplas\n",
    "\n",
    "def itera_variables(extracion):\n",
    "    anios = [i for i in range(2010, 2025)]\n",
    "    generos = ['Action', 'Comedy', 'Drama']\n",
    "    resultados_tuplas = []\n",
    "\n",
    "    for anio in anios:\n",
    "        for genero in generos:\n",
    "            for tupla in extracion[anio][genero]:\n",
    "                resultados_tuplas.append(tuple(tupla))\n",
    "\n",
    "    return resultados_tuplas"
   ]
  },
  {
   "cell_type": "code",
   "execution_count": 58,
   "metadata": {},
   "outputs": [],
   "source": [
    "# Sumamos todas las lista en una\n",
    "resultado_tuplas_total = itera_variables(extracion_maira) + itera_variables(extracion_yami) + itera_variables(extracion_carolina) + itera_variables(extracion_laura)"
   ]
  },
  {
   "cell_type": "code",
   "execution_count": 61,
   "metadata": {},
   "outputs": [
    {
     "data": {
      "text/plain": [
       "17395"
      ]
     },
     "execution_count": 61,
     "metadata": {},
     "output_type": "execute_result"
    }
   ],
   "source": [
    "len(resultado_tuplas_total)"
   ]
  },
  {
   "cell_type": "code",
   "execution_count": 60,
   "metadata": {},
   "outputs": [
    {
     "data": {
      "text/plain": [
       "[('Movie', 'Tekken', 2010, 3, 'tt0411951'),\n",
       " ('Movie', 'Venus & Vegas', 2010, 11, 'tt0423474'),\n",
       " ('Movie', 'The A-Team', 2010, 6, 'tt0429493'),\n",
       " ('Movie', 'Segurança Nacional', 2010, 5, 'tt0439801'),\n",
       " ('Movie', 'Scott Pilgrim vs. the World', 2010, 11, 'tt0446029'),\n",
       " ('Movie', 'Taken by Force', 2010, None, 'tt0465637'),\n",
       " ('Movie', 'Guns, Drugs and Dirty Money', 2011, None, 'tt0464032'),\n",
       " ('Movie', 'Komaram Puli', 2010, 9, 'tt0464162'),\n",
       " ('Movie', 'Prince of Persia: The Sands of Time', 2010, 5, 'tt0473075'),\n",
       " ('Movie', 'Unstoppable', 2010, 12, 'tt0477080')]"
      ]
     },
     "execution_count": 60,
     "metadata": {},
     "output_type": "execute_result"
    }
   ],
   "source": [
    "resultado_tuplas_total[:10]"
   ]
  },
  {
   "cell_type": "code",
   "execution_count": 62,
   "metadata": {},
   "outputs": [
    {
     "name": "stdout",
     "output_type": "stream",
     "text": [
      "Se ha encontrado 2401 elementos repetidos\n",
      "Tras remover las tuplas repetidas, nuestra lista se quedó con 14994 elementos.\n"
     ]
    }
   ],
   "source": [
    "# Verificar que no hay elementos repetidos\n",
    "# Crear un conjunto vacío\n",
    "elementos_vistos = set()\n",
    "\n",
    "# Verificar duplicados\n",
    "contador = 0\n",
    "for elemento in resultado_tuplas_total:\n",
    "    if elemento in elementos_vistos:\n",
    "        contador += 1\n",
    "        resultado_tuplas_total.remove(elemento)\n",
    "    elementos_vistos.add(elemento)\n",
    "    \n",
    "print(f\"Se ha encontrado {contador} elementos repetidos\")\n",
    "print(f\"Tras remover las tuplas repetidas, nuestra lista se quedó con {len(resultado_tuplas_total)} elementos.\")"
   ]
  },
  {
   "cell_type": "code",
   "execution_count": 66,
   "metadata": {},
   "outputs": [],
   "source": [
    "# Guardar lista final de manera permanente\n",
    "df_final = pd.DataFrame(resultado_tuplas_total)\n",
    "df_final[2] = df_final[2].astype('Int64')\n",
    "df_final[3] = df_final[3].astype('Int64')\n",
    "df_final.to_csv('resultado_tuplas_total.csv', index=False)\n",
    "df_final.to_json('resultado_tuplas_total.json')"
   ]
  },
  {
   "cell_type": "code",
   "execution_count": 87,
   "metadata": {},
   "outputs": [
    {
     "data": {
      "text/plain": [
       "14994"
      ]
     },
     "execution_count": 87,
     "metadata": {},
     "output_type": "execute_result"
    }
   ],
   "source": [
    "len(resultado_tuplas_total)"
   ]
  },
  {
   "cell_type": "code",
   "execution_count": 85,
   "metadata": {},
   "outputs": [],
   "source": [
    "url_imdb = \"https://www.imdb.com/\"\n",
    "url_rotten = \"https://www.rottentomatoes.com/\"\n",
    "url_google = 'https://www.google.com/'"
   ]
  },
  {
   "cell_type": "code",
   "execution_count": 86,
   "metadata": {},
   "outputs": [
    {
     "name": "stdout",
     "output_type": "stream",
     "text": [
      "tt0429493\n",
      "The A-Team\n"
     ]
    }
   ],
   "source": [
    "for peli in resultado_tuplas_total:\n",
    "    id_imdb = peli[-1]\n",
    "    nombre = peli[1]\n",
    "    print(id_imdb)\n",
    "    print(nombre)\n",
    "    break"
   ]
  },
  {
   "cell_type": "code",
   "execution_count": 88,
   "metadata": {},
   "outputs": [
    {
     "data": {
      "text/plain": [
       "'tt0429493 The A-Team tomatometer'"
      ]
     },
     "execution_count": 88,
     "metadata": {},
     "output_type": "execute_result"
    }
   ],
   "source": [
    "search_tomato = id_imdb + ' ' + nombre + ' ' + 'tomatometer'\n",
    "search_tomato"
   ]
  },
  {
   "cell_type": "code",
   "execution_count": 140,
   "metadata": {},
   "outputs": [],
   "source": [
    "resultados_fase2 = []\n",
    "not_found = []"
   ]
  },
  {
   "cell_type": "code",
   "execution_count": 146,
   "metadata": {},
   "outputs": [
    {
     "name": "stdout",
     "output_type": "stream",
     "text": [
      "La tupla de la peli War of the Dead no está completa: ('4.1', None, 'Marko Mäkilaakso', 'Marko Mäkilaakso', 'A platoon of American and Finnish soldiers is driven deep into a Russian forest where its Captain discovers a terrifying secret.', '1h 26m', 'War of the Dead') Vamos por la iteración: 1\n",
      "Hemos añadido la peli Thor a la lista. Vamos por la iteración: 2.\n",
      "La tupla de la peli Spoon no está completa: ('7.9', None, 'Sharlto Copley', 'Sharlto CopleySimon Hansen', 'A thriller with supernatural overtones about a man with a medical condition that causes him to black out during moments of extreme stress and leads him to make a remarkable discovery about himself.', None, 'Spoon') Vamos por la iteración: 3\n",
      "Hemos añadido la peli Conan the Barbarian a la lista. Vamos por la iteración: 4.\n",
      "Hemos añadido la peli Priest a la lista. Vamos por la iteración: 5.\n",
      "Hemos añadido la peli Red State a la lista. Vamos por la iteración: 6.\n",
      "La tupla de la peli Deep Gold no está completa: ('3.2', None, 'Michael Gleissner', 'Michael Gleissner', 'Deep Gold follows Amy Sanchez, a champion free diver who, along with her sister Jess, find themselves thrown into the middle of a deadly conspiracy. After a government plane carrying a fortune in gold goes missing over Philippine waters, Amy and Jess struggle to investigate the disappearance with help from Lulu and the mysterious Benny Simpson. Soon, the girls learn t... Read all', '1h 26m', 'Deep Gold') Vamos por la iteración: 7\n",
      "Hemos añadido la peli Sucker Punch a la lista. Vamos por la iteración: 8.\n",
      "Hemos añadido la peli The Adventures of Tintin: The Secret of the Unicorn a la lista. Vamos por la iteración: 9.\n",
      "La tupla de la peli Two Knives no está completa: (None, None, 'Michael Mandell', 'Shelley BourneMary Sweeney', 'Two romantically involved secret agents are assigned to eliminate each other.', '1h 47m', 'Two Knives') Vamos por la iteración: 10\n",
      "La tupla de la peli The Ride Home no está completa: (None, None, 'Christopher Jayawardena', 'Christopher Jayawardena', 'A man waiting for the train home encounters an electrical phenomenon, then finds himself hunted by three mysterious men with violent intentions.', '8m', 'The Ride Home') Vamos por la iteración: 11\n",
      "La tupla de la peli Eliminating Order no está completa: (None, None, 'Dang Cao Cuong', 'Tran Kim HoangBùi Chí Vinh', '', None, 'Eliminating Order') Vamos por la iteración: 12\n",
      "Hemos añadido la peli The Eagle a la lista. Vamos por la iteración: 13.\n",
      "La tupla de la peli Wasteland no está completa: ('2.8', None, 'Kantz', 'Lucas James CulshawKantz', 'When a group of religious zealots destroy everything that he loves and leaves him for dead; A man embarks on a journey of revenge that will take him through all the post-apocalyptic dangers that is WASTELAND.', '1h 20m', 'Wasteland') Vamos por la iteración: 14\n",
      "La tupla de la peli Heaven and Earth no está completa: (None, '43%', None, None, None, '6m', 'Heaven and Earth') Vamos por la iteración: 15\n",
      "La tupla de la peli My Way no está completa: (None, None, None, None, None, None, 'My Way') Vamos por la iteración: 16\n",
      "La tupla de la peli Milkshake Fight no está completa: (None, None, 'Patrick Willems', 'Matt Torpey', 'A guy fights the person who stole his milkshake.', '1m', 'Milkshake Fight') Vamos por la iteración: 17\n",
      "La tupla de la peli Züri Zoo no está completa: ('7.0', None, 'Gregory D. Widmer', 'Gregory D. Widmer', \"Fed up with their lives among the shady creatures of Zurich's seedy underworld, a brother and a sister risk everything to win it all.\", '1h', 'Züri Zoo') Vamos por la iteración: 18\n",
      "Hemos añadido la peli Ghost Rider: Spirit of Vengeance a la lista. Vamos por la iteración: 19.\n",
      "La tupla de la peli Kote no está completa: (None, None, None, None, None, None, 'Kote') Vamos por la iteración: 20\n",
      "La tupla de la peli Novices and Novi no está completa: (None, None, 'Eric Whiteley', 'Shane FarleyEric Whiteley', 'An entry into The Lightsaber Choreography Competition IX. We originally weren\\'t going to into this year into the LCC, but eventually decided to do an \"easy\" and non-serious attempt. Choreography takes a back seat to humor, so enjoy.', '6m', 'Novices and Novi') Vamos por la iteración: 21\n",
      "Hemos añadido la peli The Darkest Hour a la lista. Vamos por la iteración: 22.\n",
      "La tupla de la peli Eric no está completa: (None, '71%', \"Joshua van 't Hoff\", 'Eric van der Reep', '', '4m', 'Eric') Vamos por la iteración: 23\n",
      "La tupla de la peli 7 Minutes no está completa: (None, None, None, None, None, None, '7 Minutes') Vamos por la iteración: 24\n",
      "La tupla de la peli LEGO Green Lantern no está completa: (None, None, None, None, None, '4m', 'LEGO Green Lantern') Vamos por la iteración: 25\n",
      "La tupla de la peli Lazio vs Genoa no está completa: (None, None, None, None, None, '1h 39m', 'Lazio vs Genoa') Vamos por la iteración: 26\n",
      "La tupla de la peli Green Lantern no está completa: ('5.5', None, 'Martin Campbell', 'Greg Berlanti', 'Reckless test pilot Hal Jordan is granted an alien ring that bestows him with otherworldly powers that inducts him into an intergalactic police force, the Green Lantern Corps.', '1h 54m', 'Green Lantern') Vamos por la iteración: 27\n",
      "La tupla de la peli Repeat Offenders: Jamais Vu no está completa: ('5.5', None, 'J.D. Cochran', 'Lei Mowatt', 'Alexander (Taimak) leads a team of martial arts experts to save a beautiful, kidnapped queen. As things start to go wrong, they could get trapped in a Hell they never imagined.', None, 'Repeat Offenders: Jamais Vu') Vamos por la iteración: 28\n",
      "La tupla de la peli The Blood Reich - Bloodrayne 3 no está completa: ('3.0', None, 'Uwe Boll', 'Michael Nachoff', 'Rayne joins a resistence group to fight against the Nazis during World War II.', '18', 'The Blood Reich - Bloodrayne 3') Vamos por la iteración: 29\n",
      "La tupla de la peli Serpiente no está completa: (None, None, None, None, None, None, 'Serpiente') Vamos por la iteración: 30\n",
      "La tupla de la peli Bunker no está completa: (None, None, 'Sylvain Pelissier', 'Sylvain Pelissier', '', None, 'Bunker') Vamos por la iteración: 31\n",
      "La tupla de la peli Reshma Te Shera no está completa: (None, None, 'Malik Imdad Hussain', 'Saima KhanMoammar RanaAnjuman Shehzadi', '', None, 'Reshma Te Shera') Vamos por la iteración: 32\n",
      "La tupla de la peli Rajveer Rahasmay Prem katha no está completa: (None, None, None, None, None, None, 'Rajveer Rahasmay Prem katha') Vamos por la iteración: 33\n",
      "La tupla de la peli Wasp Woman in Tokyo no está completa: ('3.9', None, 'Takao Nakano', 'Alice OzawaYayoi Yanagida', 'A female office worker takes a diet supplement made from wasps which transforms her into a sex hungry wasp woman.', '1h 32m', 'Wasp Woman in Tokyo') Vamos por la iteración: 34\n",
      "La tupla de la peli Millions no está completa: (None, None, 'Vit Fic', 'Vit Fic', \"I need money, that's what I want.\", '20m', 'Millions') Vamos por la iteración: 35\n",
      "La tupla de la peli Rango no está completa: ('7.3', None, 'Gore Verbinski', 'John Logan', 'Rango is an ordinary chameleon who accidentally winds up in the town of Dirt, a lawless outpost in the Wild West in desperate need of a new sheriff.', '1h 47m', 'Rango') Vamos por la iteración: 36\n",
      "La tupla de la peli Youngstown Shakedown no está completa: (None, None, 'John R. Kovach Jr.', None, \"The 1940's in Youngstown, Ohio was a breeding ground of Union anger mixed with horrible work conditions in the Steel mills. This led to rival mob families competing for the rights to control the town.\", 'R', 'Youngstown Shakedown') Vamos por la iteración: 37\n",
      "La tupla de la peli Manchester City vs Newcastle United no está completa: (None, None, 'Hatem Ben Arfa', None, '', '1h 30m', 'Manchester City vs Newcastle United') Vamos por la iteración: 38\n",
      "La tupla de la peli Borussia Mönchengladbach vs SV Werder Bremen no está completa: (None, None, None, None, '', '1h 32m', 'Borussia Mönchengladbach vs SV Werder Bremen') Vamos por la iteración: 39\n",
      "La tupla de la peli Arsenal FC vs Sunderland AFC no está completa: (None, None, 'Andrey Arshavin', None, '', '1h 34m', 'Arsenal FC vs Sunderland AFC') Vamos por la iteración: 40\n",
      "La tupla de la peli Norwich City vs Arsenal FC no está completa: (None, None, 'Mikel Arteta', None, '', '1h 34m', 'Norwich City vs Arsenal FC') Vamos por la iteración: 41\n",
      "Hemos añadido la peli Justice a la lista. Vamos por la iteración: 42.\n",
      "La tupla de la peli Fps Mass no está completa: (None, None, 'Jamison M. LoCascio', 'Jamison M. LoCascio', '', None, 'Fps Mass') Vamos por la iteración: 43\n",
      "Hemos añadido la peli Battle: Los Angeles a la lista. Vamos por la iteración: 44.\n",
      "La tupla de la peli The Legend of Hell's Gate: An American Conspiracy no está completa: ('4.1', None, 'Tanner Beard', 'Tanner Beard', \"The story of how 'Hell's Gate' at Possum Kingdom Lake, Texas came to have its name. Relive the story of how three outlaws' expeditions and encounters through historical 1870s Texas were remembered for a lifetime.\", '1h 48m', \"The Legend of Hell's Gate: An American Conspiracy\") Vamos por la iteración: 45\n",
      "Hemos añadido la peli Mission: Impossible - Ghost Protocol a la lista. Vamos por la iteración: 46.\n",
      "La tupla de la peli El Capitán Trueno y el Santo Grial no está completa: ('3.1', None, 'Antonio Hernández', 'Víctor Mora', 'A 12th-century knight-errant wanders the world fighting injustice and is accompanied by his faithful friends Crispin and Goliath.', '1h 48m', 'El Capitán Trueno y el Santo Grial') Vamos por la iteración: 47\n",
      "Hemos añadido la peli Ironclad a la lista. Vamos por la iteración: 48.\n",
      "La tupla de la peli Rip Curl's Gum: The Movie no está completa: (None, None, None, None, None, '22m', \"Rip Curl's Gum: The Movie\") Vamos por la iteración: 49\n",
      "La tupla de la peli D4 no está completa: ('3.4', None, 'Darrin Dickerson', 'Darrin Dickerson', 'A team of special ops mercenaries is sent on a mission to rescue a kidnapped kid, believed to be held in an abandoned government facility but this simple search and rescue turns into a fight for survival.', '1h 38m', 'D4') Vamos por la iteración: 50\n",
      "La tupla de la peli Bellflower no está completa: ('6.3', None, 'Evan Glodell', 'Evan Glodell', 'Two friends spend all their free time building flame-throwers and weapons of mass destruction in hopes that a global apocalypse will occur and clear the runway for their imaginary gang \"Mother Medusa\".', '1h 43m', 'Bellflower') Vamos por la iteración: 51\n",
      "Hemos añadido la peli Rebellion a la lista. Vamos por la iteración: 52.\n",
      "Hemos añadido la peli Immortals a la lista. Vamos por la iteración: 53.\n",
      "La tupla de la peli Ek Wada Pran Jaaie Par Vachan Na Jaaie no está completa: (None, None, 'K. D.', 'Anil Singh', '', '2h 18m', 'Ek Wada Pran Jaaie Par Vachan Na Jaaie') Vamos por la iteración: 54\n",
      "La tupla de la peli Pathfinders: In the Company of Strangers no está completa: ('3.4', None, 'Curt A. Sindelar', 'Charlie Armstrong', 'Three companies of paratroopers travel in a deadly mission to France to prepare the drop zone for the airborne attack on the D-Day. They have to install an Eureka transmitter and searchlight to guide the planes in the Normandy invasion.', '1h 40m', 'Pathfinders: In the Company of Strangers') Vamos por la iteración: 55\n",
      "La tupla de la peli Saluda al diablo de mi parte no está completa: ('6.0', None, 'Juan Felipe Orozco', 'Esteban Orozco', 'A former guerrilla is reluctantly drawn into the vengeance scheme of one of his victims.', '1h 30m', 'Saluda al diablo de mi parte') Vamos por la iteración: 56\n",
      "La tupla de la peli Memphis Rising: Elvis Returns no está completa: ('6.9', None, 'Marv Z Silverman', 'Marv Z Silverman', \"It's been almost 30 years since the King died. But was he really dead? In 1977, he was whisked away to another galaxy, but now, the King returns. As he doesn't want anyone to know who he really is, he enters an Elvis impersonator contest in Las Vegas. And the trouble begins...\", '1h 41m', 'Memphis Rising: Elvis Returns') Vamos por la iteración: 57\n",
      "La tupla de la peli Battle of the Brick: Built for Combat no está completa: ('9.8', None, 'Alex Kobbs', 'Alex Kobbs', 'In this epic game of capture the flag, the blue and red team fight on the shores of Zanzibar.', '27m', 'Battle of the Brick: Built for Combat') Vamos por la iteración: 58\n",
      "La tupla de la peli Dandam Dashagunam no está completa: ('6.1', None, 'K. Madesh', 'K. MadeshK.V. RajuGautham Vasudev Menon', 'The conscientious policeman ACP Surya is a powerful and efficient officer who works for law and order and protects people. One day when he is chasing criminals, he meets Maya and falls in love with her. He had previously thought that no woman could ever touch his heart again. Therefore he behaves a little awkwardly and cannot find the right words. Maya, on the other h... Read all', '2h 23m', 'Dandam Dashagunam') Vamos por la iteración: 59\n",
      "Hemos añadido la peli X-Men: First Class a la lista. Vamos por la iteración: 60.\n",
      "La tupla de la peli Blackpool vs Tottenham Hotspur no está completa: (None, None, None, None, '', None, 'Blackpool vs Tottenham Hotspur') Vamos por la iteración: 61\n",
      "La tupla de la peli Blackpool vs Liverpool no está completa: (None, None, None, None, '', None, 'Blackpool vs Liverpool') Vamos por la iteración: 62\n",
      "La tupla de la peli Wolverhampton Wanderers vs West Bromwich Albion no está completa: (None, None, None, None, '', None, 'Wolverhampton Wanderers vs West Bromwich Albion') Vamos por la iteración: 63\n",
      "Hemos añadido la peli Don 2 a la lista. Vamos por la iteración: 64.\n",
      "La tupla de la peli Gibney's Island no está completa: (None, None, 'Kristine Meling Enoksen', 'Kristine Meling Enoksen', 'A couple find themselves marooned on an island and hunted by a madman, who makes a bargain for his freedom.', '14m', \"Gibney's Island\") Vamos por la iteración: 65\n",
      "La tupla de la peli Bloodlust no está completa: (None, None, 'Manoj Raj', 'Manoj Raj', '', None, 'Bloodlust') Vamos por la iteración: 66\n",
      "Hemos añadido la peli The Rum Diary a la lista. Vamos por la iteración: 67.\n",
      "Hemos añadido la peli Gnomeo & Juliet a la lista. Vamos por la iteración: 68.\n",
      "La tupla de la peli Satin no está completa: ('4.5', None, 'Christopher Olness', 'Christopher Olness', 'A washed up Vegas lounge singer, Jack Satin (Hamilton von Watts), has no money, no job, and delusional aspirations of fame. When Jack is forced to leave Vegas, he packs up his old Cadillac and hits the road for Atlantic City. But his car dies in the desert and Jack is left stranded in the small town of Lost Springs. There, Jack meets jazz legend turned mechanic, Doc B... Read all', '1h 24m', 'Satin') Vamos por la iteración: 69\n",
      "Hemos añadido la peli Puss in Boots a la lista. Vamos por la iteración: 70.\n",
      "La tupla de la peli Private Pérez no está completa: ('5.9', None, 'Beto Gómez', 'Francisco Payó González', 'A Mexican crime lord is forced by his mother to plan a suicidal rescue mission to find his lost brother in the most unexpected place on Earth...', '1h 45m', 'Private Pérez') Vamos por la iteración: 71\n",
      "La tupla de la peli Act Your Age no está completa: ('6.6', None, 'Robin Christian', 'Robin Christian', 'An out of work young actor with no respect for the elderly makes himself into an old man to get a part in a play. When research requires him to spend a week at a nursing home, he is forced to review his life choices.', '1h 41m', 'Act Your Age') Vamos por la iteración: 72\n",
      "Hemos añadido la peli The Smurfs a la lista. Vamos por la iteración: 73.\n",
      "La tupla de la peli Stan no está completa: ('8.5', None, 'Evald Johnson', 'Evald Johnson', 'Stan likes Mary. Ann likes Stan. Mary likes Nick and Nick likes Nick too. Mr Frankle likes Ann, but not in a good way. Stan still likes Mary, and Ann still likes Stan, but now Stan thinks he has Herpes.', None, 'Stan') Vamos por la iteración: 74\n",
      "Hemos añadido la peli Tower Heist a la lista. Vamos por la iteración: 75.\n",
      "La tupla de la peli Bamboo Shark no está completa: ('6.5', None, 'Dennis Ward', 'Brad PerkinsDennis Ward', 'Several MIT students drop out of school to make a movie and quickly realize that no one will ever take them seriously without a big name star, so they decide to fool everybody by using celebrity impersonators.', None, 'Bamboo Shark') Vamos por la iteración: 76\n",
      "Hemos añadido la peli Hall Pass a la lista. Vamos por la iteración: 77.\n",
      "La tupla de la peli Monkey Man no está completa: ('7.7', '88%', 'Billy Joseph', 'Billy JosephJohn Lambertson', 'The story of a tree trimmer who makes satirical comedy shows in his off time.', None, 'Monkey Man') Vamos por la iteración: 78\n",
      "La tupla de la peli La daga de Rasputín no está completa: ('2.9', None, 'Jesús Bonilla', 'Joaquín AndújarJesús Bonilla', 'Forged in ancient Egypt, Dagger of Rasputin is a legendary jewel that gives almost absolute power to its possessor. Caesar, Attila and Napoleon were some of their illustrious owners. The track jewel is lost in Russia, with the death of its last owner, the mad monk Rasputin. Since then, governments and powerful people have searched in vain. But suddenly, in a Spanish p... Read all', '1h 39m', 'La daga de Rasputín') Vamos por la iteración: 79\n",
      "Hemos añadido la peli What's Your Number? a la lista. Vamos por la iteración: 80.\n",
      "La tupla de la peli Kill no está completa: ('4.5', None, 'Chad Archibald', 'Chad ArchibaldRy BarrettGabriel Carrer', 'Six strangers awake to find themselves the new tenants of a mysterious old house. Terrorized by insane Tiki-men in masks and taunted by their deranged captors,it soon becomes clear that only one singular action will save them: Kill.', '1h 30m', 'Kill') Vamos por la iteración: 81\n",
      "Hemos añadido la peli Jack and Jill a la lista. Vamos por la iteración: 82.\n",
      "La tupla de la peli Hoodwinked Too! Hood vs. Evil no está completa: ('4.7', None, 'Mike Disa', 'Cory Edwards', 'Red Riding Hood is training in the group of Sister Hoods, when she and the Wolf are called to examine the sudden mysterious disappearance of Hansel and Gretel.', '1h 27m', 'Hoodwinked Too! Hood vs. Evil') Vamos por la iteración: 83\n",
      "La tupla de la peli Pox no está completa: ('7.9', None, 'Lisa Hammer', 'Ben Edlund', 'The Manson family meets Austin Powers.', '1h 40m', 'Pox') Vamos por la iteración: 84\n",
      "La tupla de la peli Naked Run no está completa: ('5.2', None, 'Vincent Foster', 'Vincent Foster', 'Eve Malone runs against a crooked Congressman...but does it in the nude. Starring Academy Award nominees Charles Durning (\"The Best Little Whorehouse in Texas\") and Eileen Brennan (\"Private Benjamin\"), and Richard Tyson (\"Black Hawk Down\". \"There\\'s Something About Mary\").', '1h 24m', 'Naked Run') Vamos por la iteración: 85\n",
      "Hemos añadido la peli 6 Month Rule a la lista. Vamos por la iteración: 86.\n",
      "La tupla de la peli From Prada to Nada no está completa: ('5.5', None, 'Angel Gracia', 'Fina Torres', 'A Latina spin on Jane Austen\\'s \"Sense and Sensibility\": two spoiled sisters who have been left penniless after their father\\'s sudden death are forced to move in with their estranged aunt in East Los Angeles.', '1h 47m', 'From Prada to Nada') Vamos por la iteración: 87\n",
      "Hemos añadido la peli A Monster in Paris a la lista. Vamos por la iteración: 88.\n",
      "La tupla de la peli Saxána a Lexikon kouzel no está completa: ('3.2', None, 'Václav Vorlícek', 'Milos MacourekVáclav VorlícekDavid Bros', 'A sequel to a cult Czech fantasy comedy The Girl on a Broomstick (1972). Once upon a time, there was a young and very stubborn pupil of magic, Saxana (Petra Cernocká), who escaped from Fairyland into the human world, fell in love with a mortal and lived happily ever after - keeping her past a secret from everyone. Now, her 9-year old daughter, Saxanka, discovers her m... Read all', '1h 30m', 'Saxána a Lexikon kouzel') Vamos por la iteración: 89\n",
      "La tupla de la peli Lives and Deaths of the Poets no está completa: ('7.7', None, 'Leland Steigs', 'Leland Steigs', 'Lives and Deaths of the Poets spoofs and parodies incidents taken from the lives of famous writers, artists, and musicians (collectively \"Poets\") throughout history. Comprising a series of approximately 50 comic vignettes, the movie is the fictional story of what really did not happen to these famed Poets, who have so enriched all of our lives.', '1h 33m', 'Lives and Deaths of the Poets') Vamos por la iteración: 90\n",
      "La tupla de la peli The Magic Crystal no está completa: ('3.9', None, 'Antti Haikala', 'Mikael Wahlforss', \"When a powerful crystal falls into the wrong hands, a young orphan must return it to safety before it's too late.\", '1h 20m', 'The Magic Crystal') Vamos por la iteración: 91\n",
      "Hemos añadido la peli The Green Hornet a la lista. Vamos por la iteración: 92.\n",
      "Hemos añadido la peli Eden a la lista. Vamos por la iteración: 93.\n",
      "La tupla de la peli The Tragedy of Man no está completa: ('8.0', None, 'Marcell Jankovics', 'Marcell JankovicsImre Madách', \"Adam's and Eve's epic journey throughout history trying to find the meaning of human life. Do we grow in wisdom as centuries pass, or just drift towards an inevitable doom?\", '2h 40m', 'The Tragedy of Man') Vamos por la iteración: 94\n",
      "La tupla de la peli Los pájaros se van con la muerte no está completa: ('4.6', None, 'Thaelman Urgelles', 'Edilio PeñaThaelman Urgelles', \"The obsession of The Mother for The Negro causes her sick relationship with The Daughter. Mother and daughter perform a daily routine of rites to conjure The Negro's soul. It pushes them into the dolorous tragedy which will consume them.\", '1h 50m', 'Los pájaros se van con la muerte') Vamos por la iteración: 95\n",
      "La tupla de la peli Lives No Longer Ours no está completa: (None, None, 'Paul Sanderson', 'Briggs SandersonPaul Sanderson', \"In 1650 an adventurer returns to his castle to take down his deceased wife's portrait, but his long first night back is filled with revelations about her death. At dawn a swordfight with his prospective brother-in-law finally forces him into coming to terms with his loss.\", '1h 30m', 'Lives No Longer Ours') Vamos por la iteración: 96\n",
      "Hemos añadido la peli The Wicker Tree a la lista. Vamos por la iteración: 97.\n",
      "La tupla de la peli Spy no está completa: ('6.5', None, 'Alexander Klymko', 'Charles MessinaLynwood Shiva SawyerFrank Hickey', 'Jonathan, an electronics expert and spy, is hired to track a beautiful woman with a harrowing past. Little does he know that this will be an assignment like no other. As he carries on with his surveillance, he cannot ignore that his feelings are growing for this woman, his \"target\". He is getting too involved. It\\'s getting too real. He finally crosses a professional l... Read all', '1h 50m', 'Spy') Vamos por la iteración: 98\n",
      "Hemos añadido la peli The Rum Diary a la lista. Vamos por la iteración: 99.\n",
      "La tupla de la peli Bubbles no está completa: ('8.7', None, 'Kasper Syhler', 'Kasper Syhler', \"A man blames himself for the death of his girlfriend, which makes him go into emotional isolation. He lives in his own little mental bubble, from which he can't see out of. A woman then comes as sent from above, and he can see her through the wall of the bubble. But the bubble has to burst, for him to reach her... to reach her world... to find himself.\", '1h 20m', 'Bubbles') Vamos por la iteración: 100\n"
     ]
    }
   ],
   "source": [
    "# Inicializa el navegador Chrome y maximiza la ventana\n",
    "driver1 = webdriver.Chrome()\n",
    "sleep(3)\n",
    "driver1.maximize_window()\n",
    "\n",
    "# Navega a la página web \"https://www.imdb.com/\"\n",
    "driver1.get(url_imdb)\n",
    "sleep(3)\n",
    "\n",
    "# Acepta las cookies haciendo clic en el elemento con el selector CSS \"#didomi-notice-agree-button\"\n",
    "driver1.find_element(\"css selector\", \"#__next > div > div > div.sc-jrcTuL.bPmWiM > div > button.icb-btn.sc-bcXHqe.sc-dkrFOg.sc-iBYQkv.dcvrLS.ddtuHe.dRCGjd\").click()\n",
    "sleep(3)\n",
    "\n",
    "# Inicializa el navegador Chrome y maximiza la ventana\n",
    "driver2 = webdriver.Chrome()\n",
    "sleep(3)\n",
    "driver2.maximize_window()\n",
    "\n",
    "# Navega al buscador\n",
    "driver2.get(url_google)\n",
    "sleep(3)\n",
    "\n",
    "# Acepta las cookies haciendo clic\n",
    "driver2.find_element(\"css selector\", \"#L2AGLb > div\").click()\n",
    "sleep(3)\n",
    "\n",
    "contador = 0\n",
    "on_off = True\n",
    "\n",
    "'''\n",
    "Maíra: 0:50, 200:400 ok, next = 400:1000\n",
    "Yami: 50:100\n",
    "Laura: 100:150\n",
    "Carolina: 150:200\n",
    "'''\n",
    "\n",
    "# Iterar por los ids_imdbs para pasarlos por el campo search:\n",
    "for peli in resultado_tuplas_total[300:400]:\n",
    "    id_imdb = peli[-1]\n",
    "    nombre = peli[1]\n",
    "\n",
    "    driver1.find_element(\"css selector\", \"#suggestion-search\").send_keys(id_imdb, Keys.ENTER)\n",
    "    sleep(3)\n",
    "\n",
    "    try:\n",
    "        imdb_rating = driver1.find_element(\"css selector\", \"#__next > main > div > section.ipc-page-background.ipc-page-background--base.sc-c41b9732-0.NeSef > section > div:nth-child(5) > section > section > div.sc-491663c0-3.bdjVSf > div.sc-3a4309f8-0.bjXIAP.sc-1f50b7c-1.bfrqUc > div > div:nth-child(1) > a > span > div > div.sc-eb51e184-0.kFvAju > div.sc-eb51e184-2.czkfBq > span.sc-eb51e184-1.cxhhrI\").text\n",
    "        sleep(2)\n",
    "    except Exception as e:\n",
    "        imdb_rating = None\n",
    "        error = f\"No hay imdb_rating para la peli {peli[1]} con id_imdb {peli[-1]}, error de tipo: {e}.\"\n",
    "        not_found.append(error)\n",
    "\n",
    "    try:                                                  \n",
    "        direccion = driver1.find_element(\"css selector\", \"#__next > main > div > section.ipc-page-background.ipc-page-background--base.sc-c41b9732-0.NeSef > section > div:nth-child(5) > section > section > div.sc-491663c0-4.yjUiO > div.sc-491663c0-6.lnlBxO > div.sc-491663c0-10.rbXFE > section > div.sc-1f50b7c-3.ZYFjc > div > ul > li:nth-child(1) > div > ul > li > a\").text\n",
    "        sleep(2)\n",
    "    except:\n",
    "        try:\n",
    "            direccion = driver1.find_element(\"css selector\", \"#__next > main > div > section.ipc-page-background.ipc-page-background--base.sc-c41b9732-0.NeSef > section > div:nth-child(5) > section > section > div.sc-491663c0-4.gEsAEH > div.sc-491663c0-6.eQRCDK > div.sc-491663c0-10.emoxHI > section > div.sc-1f50b7c-3.ZYFjc > div > ul > li:nth-child(1) > div > ul > li > a\").text\n",
    "            sleep(2)\n",
    "        except Exception as e:\n",
    "            direccion = None\n",
    "            error = f\"No hay director(es) para la peli {peli[1]} con id_imdb {peli[-1]}, error de tipo: {e}.\"\n",
    "            not_found.append(error)\n",
    "\n",
    "    try:                                                  \n",
    "        guionista = driver1.find_element(\"css selector\", \"#__next > main > div > section.ipc-page-background.ipc-page-background--base.sc-c41b9732-0.NeSef > section > div:nth-child(5) > section > section > div.sc-491663c0-4.yjUiO > div.sc-491663c0-6.lnlBxO > div.sc-491663c0-10.rbXFE > section > div.sc-1f50b7c-3.ZYFjc > div > ul > li:nth-child(2) > div > ul > li > a\").text\n",
    "        sleep(2)\n",
    "    except:\n",
    "        try:\n",
    "            guionista = driver1.find_element(\"css selector\", \"#__next > main > div > section.ipc-page-background.ipc-page-background--base.sc-c41b9732-0.NeSef > section > div:nth-child(5) > section > section > div.sc-491663c0-4.gEsAEH > div.sc-491663c0-6.eQRCDK > div.sc-491663c0-10.emoxHI > section > div.sc-1f50b7c-3.ZYFjc > div > ul > li:nth-child(2) > div > ul\").text\n",
    "            sleep(2)\n",
    "        except Exception as e:\n",
    "            guionista = None\n",
    "            error = f\"No hay guionista para la peli {peli[1]} con id_imdb {peli[-1]}, error de tipo: {e}.\"\n",
    "            not_found.append(error)\n",
    "\n",
    "    try:                                                  \n",
    "        argumento = driver1.find_element(\"css selector\", \"#__next > main > div > section.ipc-page-background.ipc-page-background--base.sc-c41b9732-0.NeSef > section > div:nth-child(5) > section > section > div.sc-491663c0-4.yjUiO > div.sc-491663c0-6.lnlBxO > div.sc-491663c0-10.rbXFE > section > p > span.sc-2d37a7c7-2.PeLXr\").text\n",
    "        sleep(2)\n",
    "    except:\n",
    "        try:\n",
    "            argumento = driver1.find_element(\"css selector\", \"#__next > main > div > section.ipc-page-background.ipc-page-background--base.sc-c41b9732-0.NeSef > section > div:nth-child(5) > section > section > div.sc-491663c0-4.gEsAEH > div.sc-491663c0-6.eQRCDK > div.sc-491663c0-10.emoxHI > section > p > span.sc-2d37a7c7-2.PeLXr\").text\n",
    "            sleep(2)\n",
    "        except Exception as e:\n",
    "            argumento = None\n",
    "            error = f\"No hay argumento para la peli {peli[1]} con id_imdb {peli[-1]}, error de tipo: {e}.\"\n",
    "            not_found.append(error)\n",
    "\n",
    "    try:                                                 \n",
    "        duracion = driver1.find_element(\"css selector\", \"#__next > main > div > section.ipc-page-background.ipc-page-background--base.sc-c41b9732-0.NeSef > section > div:nth-child(5) > section > section > div.sc-491663c0-3.bdjVSf > div.sc-1f50b7c-0.PUxFE > ul > li:nth-child(3)\").text\n",
    "        sleep(2)\n",
    "    except:\n",
    "        try: \n",
    "            duracion = driver1.find_element(\"css selector\", \"#__next > main > div > section.ipc-page-background.ipc-page-background--base.sc-c41b9732-0.NeSef > section > div:nth-child(5) > section > section > div.sc-491663c0-3.bdjVSf > div.sc-1f50b7c-0.PUxFE > ul > li:nth-child(2)\").text\n",
    "            sleep(2)  \n",
    "        except Exception as e:  \n",
    "            duracion = None\n",
    "            error = f\"No hay duracion para la peli {peli[1]} con id_imdb {peli[-1]}, error de tipo: {e}.\"\n",
    "            not_found.append(error)\n",
    "\n",
    "    try:\n",
    "        nombre = driver1.find_element(\"css selector\", \"#__next > main > div > section.ipc-page-background.ipc-page-background--base.sc-c41b9732-0.NeSef > section > div:nth-child(5) > section > section > div.sc-491663c0-3.bdjVSf > div.sc-1f50b7c-0.PUxFE > h1 > span\").text\n",
    "        sleep(2)\n",
    "    except Exception as e:\n",
    "        nombre = None\n",
    "        error = f\"No hay nombre para la peli {peli[1]} con id_imdb {peli[-1]}, error de tipo: {e}.\"\n",
    "        not_found.append(error)\n",
    "\n",
    "\n",
    "    search_tomato = id_imdb + ' ' + nombre + ' ' + 'tomatometer'\n",
    "\n",
    "    driver2.find_element(\"css selector\", \"#APjFqb\").send_keys(search_tomato, Keys.ENTER) # Paso el string al buscador de google\n",
    "    sleep(5)\n",
    "\n",
    "\n",
    "    try:\n",
    "        sleep(5)\n",
    "        driver2.find_element(\"css selector\", \"#rso > div:nth-child(1) > div > div > div.kb0PBd.cvP2Ce.A9Y9g.jGGQ5e > div > div > span > a > h3\").click() # Pincho en el primer resultado de la búsqueda de google\n",
    "        sleep(4)\n",
    "\n",
    "        if on_off:\n",
    "            driver2.find_element(\"css selector\", \"#onetrust-accept-btn-handler\").click() # Acepta cookies\n",
    "            on_off = False\n",
    "            sleep(2)     \n",
    "\n",
    "        try:                                                   \n",
    "            tomatometer = driver2.find_element(\"css selector\", \"#modules-wrap > div.media-scorecard.no-border > media-scorecard > rt-button:nth-child(3) > rt-text\").text # Extrae el Rating tomatometer\n",
    "            sleep(3)\n",
    "        \n",
    "        except Exception as e:\n",
    "            tomatometer = None\n",
    "            error = f\"No hay tomatometer para la peli {peli[1]} con id_imdb {peli[-1]}, error de tipo: {e}.\"\n",
    "            not_found.append(error)\n",
    "\n",
    "        driver2.back()\n",
    "        sleep(3)\n",
    "\n",
    "        driver2.back()\n",
    "        sleep(3)\n",
    "                            \n",
    "    except:\n",
    "        try: \n",
    "            sleep(5)\n",
    "            driver2.find_element(\"css selector\", \"#rso > div.MjjYud > div > div > div.kb0PBd.cvP2Ce.A9Y9g.jGGQ5e > div > div > span > a > h3\").click() # Pincho en el primer resultado de la búsqueda de google\n",
    "            sleep(4)\n",
    "\n",
    "            if on_off:\n",
    "                driver2.find_element(\"css selector\", \"#onetrust-accept-btn-handler\").click() # Acepta cookies\n",
    "                on_off = False\n",
    "                sleep(2) \n",
    "\n",
    "            try:                                                   \n",
    "                tomatometer = driver2.find_element(\"css selector\", \"#modules-wrap > div.media-scorecard.no-border > media-scorecard > rt-button:nth-child(3) > rt-text\").text # Extrae el Rating tomatometer\n",
    "                sleep(3)\n",
    "            \n",
    "            except Exception as e:\n",
    "                tomatometer = None\n",
    "                error = f\"No hay tomatometer para la peli {peli[1]} con id_imdb {peli[-1]}, error de tipo: {e}.\"\n",
    "                not_found.append(error)\n",
    "\n",
    "            driver2.back()\n",
    "            sleep(3)\n",
    "\n",
    "            driver2.back()\n",
    "            sleep(3)\n",
    "\n",
    "        except Exception as e:\n",
    "            tomatometer = None\n",
    "            error = f\"No hay tomatometer para la peli {peli[1]} con id_imdb {peli[-1]}, error de tipo: {e}.\"\n",
    "            not_found.append(error)\n",
    "            \n",
    "            driver2.back()\n",
    "            sleep(3)\n",
    "\n",
    "\n",
    "    tupla = imdb_rating, tomatometer, direccion, guionista, argumento, duracion, nombre        \n",
    "\n",
    "    if None in tupla:\n",
    "        contador += 1\n",
    "        print(f\"La tupla de la peli {nombre} no está completa: {tupla} Vamos por la iteración: {contador}\")\n",
    "    else:\n",
    "        resultados_fase2.append(tupla)\n",
    "        contador += 1\n",
    "        print(f\"Hemos añadido la peli {nombre} a la lista. Vamos por la iteración: {contador}.\")\n",
    "\n",
    "driver1.close()\n",
    "driver2.close()"
   ]
  },
  {
   "cell_type": "code",
   "execution_count": 147,
   "metadata": {},
   "outputs": [
    {
     "data": {
      "text/plain": [
       "73"
      ]
     },
     "execution_count": 147,
     "metadata": {},
     "output_type": "execute_result"
    }
   ],
   "source": [
    "len(resultados_fase2)"
   ]
  },
  {
   "cell_type": "code",
   "execution_count": 145,
   "metadata": {},
   "outputs": [],
   "source": [
    "# Se tarda aproximadamente 33 minutos para extraer 50 peliculas.\n",
    "# Se tarda aproximadamente 67 minutos para extraer 100 peliculas."
   ]
  },
  {
   "cell_type": "code",
   "execution_count": 139,
   "metadata": {},
   "outputs": [],
   "source": [
    "# not_found.clear()\n",
    "# resultados_fase2.clear()"
   ]
  },
  {
   "cell_type": "code",
   "execution_count": 148,
   "metadata": {},
   "outputs": [],
   "source": [
    "# Guardar los datos de manera permanente\n",
    "df_resultados = pd.DataFrame(resultados_fase2)\n",
    "df_errores = pd.DataFrame(not_found)\n",
    "df_resultados.to_csv('resultados_fase2_maira_0-50_200-400.csv') # Cambiar nombre !!! \n",
    "df_resultados.to_json('resultados_fase2_maira_0-50_200-400.json')\n",
    "df_errores.to_csv('errores_fase2_maira_0-50_200-400.csv')\n",
    "df_errores.to_json('errores_fase2_maira_0-50_200-400.json')"
   ]
  },
  {
   "cell_type": "markdown",
   "metadata": {},
   "source": [
    "2 - Para sacar datos del Rotten Tomatoes, hacerlo directamente desde el buscador o buscar otra página que sea mas sencilla de extraer que el propio Rotten.\n",
    "\n",
    "3 - Añadir el genero en Fase 2 es opcional: Lo añadimos. \n",
    "\n",
    "4 - La conversion de horas a minutos no es obligatoria: Añadir tal cuál está sin convertir \n",
    "\n",
    "5 - En los try except, meter mas selectores: el código actual tiene el objetivo de capturar errores. \n",
    "\n",
    "6 - Queremos la info en Inglés o en Español?\n",
    "\n",
    "7 - Convertir todo el notebook a funciones."
   ]
  },
  {
   "cell_type": "code",
   "execution_count": null,
   "metadata": {},
   "outputs": [],
   "source": [
    "# Puntuacion de IMDB (en caso de que la tenga).\n",
    "\n",
    "# Puntuación de Rotten Tomatoes (Tomatometer).\n",
    "\n",
    "# Dirección (director/a o directore/as de cada película).\n",
    "\n",
    "# Gionistas (de cada película).\n",
    "\n",
    "# Argumento.\n",
    "\n",
    "# Duración. >> Tal cuál está \n",
    "\n",
    "# Nombre de la película\n",
    "\n",
    "# Genero !!! \n",
    "\n",
    "# NOTA: La información de la API deberá ser almacenada en una lista de tuplas. Cada tupla corresponderá a una película. Siguiendo el siguiente ejemplo:\n",
    "\n",
    "# [(7.7, 77, \"Richard Donner\", [\"Chris ColumbusSteven\", \"Spielberg\"], \"Los Goonies son un grupo de amigos que viven en Goon Docks, Astoria, pero sus casas han sido compradas y van a ser demolidas. Sin embargo, vivirán su última aventura en busca de un tesoro que pueda salvar el barrio.\", \"Aventura\", \"1h 54min\", \"Los Gonnies\"), ...]"
   ]
  }
 ],
 "metadata": {
  "kernelspec": {
   "display_name": "base",
   "language": "python",
   "name": "python3"
  },
  "language_info": {
   "codemirror_mode": {
    "name": "ipython",
    "version": 3
   },
   "file_extension": ".py",
   "mimetype": "text/x-python",
   "name": "python",
   "nbconvert_exporter": "python",
   "pygments_lexer": "ipython3",
   "version": "3.11.9"
  }
 },
 "nbformat": 4,
 "nbformat_minor": 2
}
