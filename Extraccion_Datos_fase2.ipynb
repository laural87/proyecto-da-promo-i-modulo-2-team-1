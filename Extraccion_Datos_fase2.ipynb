{
 "cells": [
  {
   "cell_type": "markdown",
   "metadata": {},
   "source": [
    "# Fase 2"
   ]
  },
  {
   "cell_type": "code",
   "execution_count": 1,
   "metadata": {},
   "outputs": [],
   "source": [
    "# Importar librerías para tratamiento de datos\n",
    "# -----------------------------------------------------------------------\n",
    "import pandas as pd  \n",
    "\n",
    "# Importar librerías para web scraping y manipulación de datos\n",
    "# -----------------------------------------------------------------------\n",
    "from bs4 import BeautifulSoup\n",
    "import requests\n",
    "\n",
    "# Importar librerías para automatización de navegadores web con Selenium\n",
    "# -----------------------------------------------------------------------\n",
    "from selenium import webdriver  \n",
    "from webdriver_manager.chrome import ChromeDriverManager  \n",
    "from selenium.webdriver.common.keys import Keys  \n",
    "from selenium.webdriver.support.ui import Select \n",
    "\n",
    "# Importar librerías para pausar la ejecución\n",
    "# -----------------------------------------------------------------------\n",
    "from time import sleep  \n"
   ]
  },
  {
   "cell_type": "code",
   "execution_count": 56,
   "metadata": {},
   "outputs": [],
   "source": [
    "# Trasladar todas las tuplas del diccionario a una sola lista\n",
    "# Paso 1: guardar datos de cada extracción en variables \n",
    "\n",
    "extracion_maira = pd.read_json('CSV_JSON/datos_filtrados_2010_2024.json')\n",
    "extracion_yami = pd.read_json('CSV_JSON/datos_filtrados_Yami_2010_2024.json')\n",
    "extracion_carolina = pd.read_json('CSV_JSON/datos_filtrados_2010_2024_carolina.json')\n",
    "extracion_laura = pd.read_json('CSV_JSON/datos_filtrados_2010_2024_laura.json')\n"
   ]
  },
  {
   "cell_type": "code",
   "execution_count": 57,
   "metadata": {},
   "outputs": [],
   "source": [
    "# Paso 2: Creamos una función para iterar por cada variable para guardar los datos en listas de tuplas\n",
    "\n",
    "def itera_variables(extracion):\n",
    "    anios = [i for i in range(2010, 2025)]\n",
    "    generos = ['Action', 'Comedy', 'Drama']\n",
    "    resultados_tuplas = []\n",
    "\n",
    "    for anio in anios:\n",
    "        for genero in generos:\n",
    "            for tupla in extracion[anio][genero]:\n",
    "                resultados_tuplas.append(tuple(tupla))\n",
    "\n",
    "    return resultados_tuplas"
   ]
  },
  {
   "cell_type": "code",
   "execution_count": 58,
   "metadata": {},
   "outputs": [],
   "source": [
    "# Sumamos todas las lista en una\n",
    "resultado_tuplas_total = itera_variables(extracion_maira) + itera_variables(extracion_yami) + itera_variables(extracion_carolina) + itera_variables(extracion_laura)"
   ]
  },
  {
   "cell_type": "code",
   "execution_count": 61,
   "metadata": {},
   "outputs": [
    {
     "data": {
      "text/plain": [
       "17395"
      ]
     },
     "execution_count": 61,
     "metadata": {},
     "output_type": "execute_result"
    }
   ],
   "source": [
    "len(resultado_tuplas_total)"
   ]
  },
  {
   "cell_type": "code",
   "execution_count": 60,
   "metadata": {},
   "outputs": [
    {
     "data": {
      "text/plain": [
       "[('Movie', 'Tekken', 2010, 3, 'tt0411951'),\n",
       " ('Movie', 'Venus & Vegas', 2010, 11, 'tt0423474'),\n",
       " ('Movie', 'The A-Team', 2010, 6, 'tt0429493'),\n",
       " ('Movie', 'Segurança Nacional', 2010, 5, 'tt0439801'),\n",
       " ('Movie', 'Scott Pilgrim vs. the World', 2010, 11, 'tt0446029'),\n",
       " ('Movie', 'Taken by Force', 2010, None, 'tt0465637'),\n",
       " ('Movie', 'Guns, Drugs and Dirty Money', 2011, None, 'tt0464032'),\n",
       " ('Movie', 'Komaram Puli', 2010, 9, 'tt0464162'),\n",
       " ('Movie', 'Prince of Persia: The Sands of Time', 2010, 5, 'tt0473075'),\n",
       " ('Movie', 'Unstoppable', 2010, 12, 'tt0477080')]"
      ]
     },
     "execution_count": 60,
     "metadata": {},
     "output_type": "execute_result"
    }
   ],
   "source": [
    "resultado_tuplas_total[:10]"
   ]
  },
  {
   "cell_type": "code",
   "execution_count": 62,
   "metadata": {},
   "outputs": [
    {
     "name": "stdout",
     "output_type": "stream",
     "text": [
      "Se ha encontrado 2401 elementos repetidos\n",
      "Tras remover las tuplas repetidas, nuestra lista se quedó con 14994 elementos.\n"
     ]
    }
   ],
   "source": [
    "# Verificar que no hay elementos repetidos\n",
    "# Crear un conjunto vacío\n",
    "elementos_vistos = set()\n",
    "\n",
    "# Verificar duplicados\n",
    "contador = 0\n",
    "for elemento in resultado_tuplas_total:\n",
    "    if elemento in elementos_vistos:\n",
    "        contador += 1\n",
    "        resultado_tuplas_total.remove(elemento)\n",
    "    elementos_vistos.add(elemento)\n",
    "    \n",
    "print(f\"Se ha encontrado {contador} elementos repetidos\")\n",
    "print(f\"Tras remover las tuplas repetidas, nuestra lista se quedó con {len(resultado_tuplas_total)} elementos.\")"
   ]
  },
  {
   "cell_type": "code",
   "execution_count": 66,
   "metadata": {},
   "outputs": [],
   "source": [
    "# Guardar lista final de manera permanente\n",
    "df_final = pd.DataFrame(resultado_tuplas_total)\n",
    "df_final[2] = df_final[2].astype('Int64')\n",
    "df_final[3] = df_final[3].astype('Int64')\n",
    "df_final.to_csv('resultado_tuplas_total.csv', index=False)\n",
    "df_final.to_json('resultado_tuplas_total.json')"
   ]
  },
  {
   "cell_type": "code",
   "execution_count": 8,
   "metadata": {},
   "outputs": [],
   "source": [
    "resultado_tuplas_total = pd.read_csv('resultado_tuplas_total.csv', header=None) # Ejecutar a partir de aquí"
   ]
  },
  {
   "cell_type": "code",
   "execution_count": 9,
   "metadata": {},
   "outputs": [],
   "source": [
    "resultado_tuplas_total = [tuple(fila) for fila in resultado_tuplas_total.values]\n",
    "resultado_tuplas_total = resultado_tuplas_total[1:]"
   ]
  },
  {
   "cell_type": "code",
   "execution_count": 10,
   "metadata": {},
   "outputs": [
    {
     "data": {
      "text/plain": [
       "14994"
      ]
     },
     "execution_count": 10,
     "metadata": {},
     "output_type": "execute_result"
    }
   ],
   "source": [
    "len(resultado_tuplas_total)"
   ]
  },
  {
   "cell_type": "code",
   "execution_count": 11,
   "metadata": {},
   "outputs": [],
   "source": [
    "url_imdb = \"https://www.imdb.com/\"\n",
    "url_rotten = \"https://www.rottentomatoes.com/\"\n",
    "url_google = 'https://www.google.com/'"
   ]
  },
  {
   "cell_type": "code",
   "execution_count": 17,
   "metadata": {},
   "outputs": [
    {
     "name": "stdout",
     "output_type": "stream",
     "text": [
      "tt1228705\n",
      "Iron Man 2\n"
     ]
    }
   ],
   "source": [
    "for peli in resultado_tuplas_total[100:]:\n",
    "    id_imdb = peli[-1]\n",
    "    nombre = peli[1]\n",
    "    print(id_imdb)\n",
    "    print(nombre)\n",
    "    break"
   ]
  },
  {
   "cell_type": "code",
   "execution_count": 18,
   "metadata": {},
   "outputs": [
    {
     "data": {
      "text/plain": [
       "'tt1228705 Iron Man 2 tomatometer'"
      ]
     },
     "execution_count": 18,
     "metadata": {},
     "output_type": "execute_result"
    }
   ],
   "source": [
    "search_tomato = id_imdb + ' ' + nombre + ' ' + 'tomatometer'\n",
    "search_tomato"
   ]
  },
  {
   "cell_type": "code",
   "execution_count": 22,
   "metadata": {},
   "outputs": [],
   "source": [
    "resultados_fase2 = []\n",
    "not_found = []"
   ]
  },
  {
   "cell_type": "code",
   "execution_count": 23,
   "metadata": {},
   "outputs": [
    {
     "name": "stdout",
     "output_type": "stream",
     "text": [
      "La tupla de la peli Iron Man 2 no está completa: ('6,9', None, 'Jon Favreau', 'Justin Theroux', 'Con el mundo sabiendo que es Iron Man, Tony Stark debe lidiar tanto con su salud en declive como con un loco vengativo con vínculos con el legado de su padre.', '2h 4min', 'Iron Man 2') Vamos por la iteración: 1\n",
      "La tupla de la peli Downstream no está completa: ('3,6', None, 'Simone Bartesaghi', 'Philip KimNeil Kinsella', 'El futuro de Estados Unidos, cuando el mundo se quede sin petróleo.', '1h 41min', 'Downstream') Vamos por la iteración: 2\n",
      "La tupla de la peli Collide no está completa: ('5,9', '24%', 'June Daguiso', 'June Daguiso', '', None, 'Collide') Vamos por la iteración: 3\n",
      "La tupla de la peli The Yellow Sea no está completa: ('7,3', None, 'Na Hong-jin', 'Won-Chan HongNa Hong-jin', 'Cuando el intento de matar a un profesor sale mal, se desencadenan una serie de eventos violentos que obligan al taxista a correr por su vida.', '2h 37min', 'The Yellow Sea') Vamos por la iteración: 4\n",
      "La tupla de la peli Blanco escurridizo no está completa: ('6,7', None, 'Jonathan Lynn', 'Lucinda Coxon', 'Un asesino a sueldo intenta retirarse, pero una hermosa ladrona puede cambiar sus planes.', '1h 38min', 'Blanco escurridizo') Vamos por la iteración: 5\n",
      "La tupla de la peli How to Own a Corner no está completa: (None, None, None, None, None, '7min', 'How to Own a Corner') Vamos por la iteración: 6\n",
      "La tupla de la peli Desarmado no está completa: ('3,0', None, 'Tom Shell', 'Jennifer Lee Loy', \"When Captain Kyle Fierson's unit is ambushed during a raid to rescue a deadly nuclear device, he must run for his life - not only to track down the missing time bomb, but also to clear his name when he is accused of aiding the terrorists.\", '1h 38min', 'Desarmado') Vamos por la iteración: 7\n",
      "La tupla de la peli Tour de Force no está completa: ('4,3', None, 'Kim Sønderholm', 'Kim Sønderholm', 'Frank is a police officer who loses his family in a tragedy. In desperation he turns to crime and makes a living as a hitman for the mob.', '1h 31min', 'Tour de Force') Vamos por la iteración: 8\n",
      "Hemos añadido la peli The Tourist a la lista. Vamos por la iteración: 9.\n",
      "La tupla de la peli RED no está completa: ('7,0', None, 'Robert Schwentke', 'Jon Hoeber', 'Cuando su pacífica vida se ve amenazada por un asesino de alta tecnología, el exagente de operaciones encubiertas Frank Moses vuelve a reunir a su antiguo equipo en un último esfuerzo por sobrevivir y descubrir a sus agresores.', '1h 51min', 'RED') Vamos por la iteración: 10\n",
      "La tupla de la peli Viaje mágico a África no está completa: ('3,3', None, 'Jordi Llompart', 'Jordi Llompart', 'A young girl named Jana takes a magical journey to Africa.', '1h 30min', 'Viaje mágico a África') Vamos por la iteración: 11\n",
      "La tupla de la peli The Lazarus Papers no está completa: ('2,9', None, 'Jeremiah Hundley', 'Jeremiah Hundley', '\"In the deep jungles of South East Asia a blood thirsty mercenary Sebastian, hunts for the thrill of the chase and victims to sell into slavery. In one operation he kills a peaceful local shaman Aroon, and his family. As Sebastian leaves with his catch, Aroon dies... only to come to life the next day. Something has happened to Aroon, a gift to some, but a curse to him... Leer todo', '1h 30min', 'The Lazarus Papers') Vamos por la iteración: 12\n"
     ]
    },
    {
     "ename": "KeyboardInterrupt",
     "evalue": "",
     "output_type": "error",
     "traceback": [
      "\u001b[1;31m---------------------------------------------------------------------------\u001b[0m",
      "\u001b[1;31mKeyboardInterrupt\u001b[0m                         Traceback (most recent call last)",
      "Cell \u001b[1;32mIn[23], line 47\u001b[0m\n\u001b[0;32m     45\u001b[0m \u001b[38;5;28;01mtry\u001b[39;00m:\n\u001b[0;32m     46\u001b[0m     imdb_rating \u001b[38;5;241m=\u001b[39m driver1\u001b[38;5;241m.\u001b[39mfind_element(\u001b[38;5;124m\"\u001b[39m\u001b[38;5;124mcss selector\u001b[39m\u001b[38;5;124m\"\u001b[39m, \u001b[38;5;124m\"\u001b[39m\u001b[38;5;124m#__next > main > div > section.ipc-page-background.ipc-page-background--base.sc-c41b9732-0.NeSef > section > div:nth-child(5) > section > section > div.sc-491663c0-3.bdjVSf > div.sc-3a4309f8-0.bjXIAP.sc-1f50b7c-1.bfrqUc > div > div:nth-child(1) > a > span > div > div.sc-eb51e184-0.kFvAju > div.sc-eb51e184-2.czkfBq > span.sc-eb51e184-1.cxhhrI\u001b[39m\u001b[38;5;124m\"\u001b[39m)\u001b[38;5;241m.\u001b[39mtext\n\u001b[1;32m---> 47\u001b[0m     sleep(\u001b[38;5;241m2\u001b[39m)\n\u001b[0;32m     48\u001b[0m \u001b[38;5;28;01mexcept\u001b[39;00m \u001b[38;5;167;01mException\u001b[39;00m \u001b[38;5;28;01mas\u001b[39;00m e:\n\u001b[0;32m     49\u001b[0m     imdb_rating \u001b[38;5;241m=\u001b[39m \u001b[38;5;28;01mNone\u001b[39;00m\n",
      "\u001b[1;31mKeyboardInterrupt\u001b[0m: "
     ]
    }
   ],
   "source": [
    "# Inicializa el navegador Chrome y maximiza la ventana\n",
    "driver1 = webdriver.Chrome()\n",
    "sleep(3)\n",
    "driver1.maximize_window()\n",
    "\n",
    "# Navega a la página web \"https://www.imdb.com/\"\n",
    "driver1.get(url_imdb)\n",
    "sleep(3)\n",
    "\n",
    "# Acepta las cookies haciendo clic en el elemento con el selector CSS \"#didomi-notice-agree-button\"\n",
    "driver1.find_element(\"css selector\", \"#__next > div > div > div.sc-jrcTuL.bPmWiM > div > button.icb-btn.sc-bcXHqe.sc-dkrFOg.sc-iBYQkv.dcvrLS.ddtuHe.dRCGjd\").click()\n",
    "sleep(3)\n",
    "\n",
    "# Inicializa el navegador Chrome y maximiza la ventana\n",
    "driver2 = webdriver.Chrome()\n",
    "sleep(3)\n",
    "driver2.maximize_window()\n",
    "\n",
    "# Navega al buscador\n",
    "driver2.get(url_google)\n",
    "sleep(3)\n",
    "\n",
    "# Acepta las cookies haciendo clic\n",
    "driver2.find_element(\"css selector\", \"#L2AGLb > div\").click()\n",
    "sleep(3)\n",
    "\n",
    "contador = 0\n",
    "on_off = True\n",
    "\n",
    "'''\n",
    "Maíra: 0:50, 200:400 ok, next = 400:1000\n",
    "Yami: 50:100\n",
    "Laura: 100:150\n",
    "Carolina: 150:200\n",
    "'''\n",
    "\n",
    "# Iterar por los ids_imdbs para pasarlos por el campo search:\n",
    "for peli in resultado_tuplas_total[100:150]:\n",
    "    id_imdb = peli[-1]\n",
    "    nombre = peli[1]\n",
    "\n",
    "    driver1.find_element(\"css selector\", \"#suggestion-search\").send_keys(id_imdb, Keys.ENTER)\n",
    "    sleep(3)\n",
    "\n",
    "    try:\n",
    "        imdb_rating = driver1.find_element(\"css selector\", \"#__next > main > div > section.ipc-page-background.ipc-page-background--base.sc-c41b9732-0.NeSef > section > div:nth-child(5) > section > section > div.sc-491663c0-3.bdjVSf > div.sc-3a4309f8-0.bjXIAP.sc-1f50b7c-1.bfrqUc > div > div:nth-child(1) > a > span > div > div.sc-eb51e184-0.kFvAju > div.sc-eb51e184-2.czkfBq > span.sc-eb51e184-1.cxhhrI\").text\n",
    "        sleep(2)\n",
    "    except Exception as e:\n",
    "        imdb_rating = None\n",
    "        error = f\"No hay imdb_rating para la peli {peli[1]} con id_imdb {peli[-1]}, error de tipo: {e}.\"\n",
    "        not_found.append(error)\n",
    "\n",
    "    try:                                                  \n",
    "        direccion = driver1.find_element(\"css selector\", \"#__next > main > div > section.ipc-page-background.ipc-page-background--base.sc-c41b9732-0.NeSef > section > div:nth-child(5) > section > section > div.sc-491663c0-4.yjUiO > div.sc-491663c0-6.lnlBxO > div.sc-491663c0-10.rbXFE > section > div.sc-1f50b7c-3.ZYFjc > div > ul > li:nth-child(1) > div > ul > li > a\").text\n",
    "        sleep(2)\n",
    "    except:\n",
    "        try:\n",
    "            direccion = driver1.find_element(\"css selector\", \"#__next > main > div > section.ipc-page-background.ipc-page-background--base.sc-c41b9732-0.NeSef > section > div:nth-child(5) > section > section > div.sc-491663c0-4.gEsAEH > div.sc-491663c0-6.eQRCDK > div.sc-491663c0-10.emoxHI > section > div.sc-1f50b7c-3.ZYFjc > div > ul > li:nth-child(1) > div > ul > li > a\").text\n",
    "            sleep(2)\n",
    "        except Exception as e:\n",
    "            direccion = None\n",
    "            error = f\"No hay director(es) para la peli {peli[1]} con id_imdb {peli[-1]}, error de tipo: {e}.\"\n",
    "            not_found.append(error)\n",
    "\n",
    "    try:                                                  \n",
    "        guionista = driver1.find_element(\"css selector\", \"#__next > main > div > section.ipc-page-background.ipc-page-background--base.sc-c41b9732-0.NeSef > section > div:nth-child(5) > section > section > div.sc-491663c0-4.yjUiO > div.sc-491663c0-6.lnlBxO > div.sc-491663c0-10.rbXFE > section > div.sc-1f50b7c-3.ZYFjc > div > ul > li:nth-child(2) > div > ul > li > a\").text\n",
    "        sleep(2)\n",
    "    except:\n",
    "        try:\n",
    "            guionista = driver1.find_element(\"css selector\", \"#__next > main > div > section.ipc-page-background.ipc-page-background--base.sc-c41b9732-0.NeSef > section > div:nth-child(5) > section > section > div.sc-491663c0-4.gEsAEH > div.sc-491663c0-6.eQRCDK > div.sc-491663c0-10.emoxHI > section > div.sc-1f50b7c-3.ZYFjc > div > ul > li:nth-child(2) > div > ul\").text\n",
    "            sleep(2)\n",
    "        except Exception as e:\n",
    "            guionista = None\n",
    "            error = f\"No hay guionista para la peli {peli[1]} con id_imdb {peli[-1]}, error de tipo: {e}.\"\n",
    "            not_found.append(error)\n",
    "\n",
    "    try:                                                  \n",
    "        argumento = driver1.find_element(\"css selector\", \"#__next > main > div > section.ipc-page-background.ipc-page-background--base.sc-c41b9732-0.NeSef > section > div:nth-child(5) > section > section > div.sc-491663c0-4.yjUiO > div.sc-491663c0-6.lnlBxO > div.sc-491663c0-10.rbXFE > section > p > span.sc-2d37a7c7-2.PeLXr\").text\n",
    "        sleep(2)\n",
    "    except:\n",
    "        try:\n",
    "            argumento = driver1.find_element(\"css selector\", \"#__next > main > div > section.ipc-page-background.ipc-page-background--base.sc-c41b9732-0.NeSef > section > div:nth-child(5) > section > section > div.sc-491663c0-4.gEsAEH > div.sc-491663c0-6.eQRCDK > div.sc-491663c0-10.emoxHI > section > p > span.sc-2d37a7c7-2.PeLXr\").text\n",
    "            sleep(2)\n",
    "        except Exception as e:\n",
    "            argumento = None\n",
    "            error = f\"No hay argumento para la peli {peli[1]} con id_imdb {peli[-1]}, error de tipo: {e}.\"\n",
    "            not_found.append(error)\n",
    "\n",
    "    try:                                                 \n",
    "        duracion = driver1.find_element(\"css selector\", \"#__next > main > div > section.ipc-page-background.ipc-page-background--base.sc-c41b9732-0.NeSef > section > div:nth-child(5) > section > section > div.sc-491663c0-3.bdjVSf > div.sc-1f50b7c-0.PUxFE > ul > li:nth-child(3)\").text\n",
    "        sleep(2)\n",
    "    except:\n",
    "        try: \n",
    "            duracion = driver1.find_element(\"css selector\", \"#__next > main > div > section.ipc-page-background.ipc-page-background--base.sc-c41b9732-0.NeSef > section > div:nth-child(5) > section > section > div.sc-491663c0-3.bdjVSf > div.sc-1f50b7c-0.PUxFE > ul > li:nth-child(2)\").text\n",
    "            sleep(2)  \n",
    "        except Exception as e:  \n",
    "            duracion = None\n",
    "            error = f\"No hay duracion para la peli {peli[1]} con id_imdb {peli[-1]}, error de tipo: {e}.\"\n",
    "            not_found.append(error)\n",
    "\n",
    "    try:\n",
    "        nombre = driver1.find_element(\"css selector\", \"#__next > main > div > section.ipc-page-background.ipc-page-background--base.sc-c41b9732-0.NeSef > section > div:nth-child(5) > section > section > div.sc-491663c0-3.bdjVSf > div.sc-1f50b7c-0.PUxFE > h1 > span\").text\n",
    "        sleep(2)\n",
    "    except Exception as e:\n",
    "        nombre = None\n",
    "        error = f\"No hay nombre para la peli {peli[1]} con id_imdb {peli[-1]}, error de tipo: {e}.\"\n",
    "        not_found.append(error)\n",
    "\n",
    "\n",
    "    search_tomato = id_imdb + ' ' + nombre + ' ' + 'tomatometer'\n",
    "\n",
    "    driver2.find_element(\"css selector\", \"#APjFqb\").send_keys(search_tomato, Keys.ENTER) # Paso el string al buscador de google\n",
    "    sleep(5)\n",
    "\n",
    "\n",
    "    try:                                \n",
    "        sleep(5)                              #rso > div:nth-child(1) > div > div > div > div.kb0PBd.cvP2Ce.A9Y9g.jGGQ5e > div > div > span > a > h3\n",
    "        driver2.find_element(\"css selector\", \"#rso > div:nth-child(1) > div > div > div.kb0PBd.cvP2Ce.A9Y9g.jGGQ5e > div > div > span > a > h3\").click() # Pincho en el primer resultado de la búsqueda de google\n",
    "        sleep(4)\n",
    "\n",
    "        #if on_off:\n",
    "        #    driver2.find_element(\"css selector\", \"#onetrust-accept-btn-handler\").click() # Acepta cookies\n",
    "        #    on_off = False\n",
    "        #   sleep(2)     \n",
    "\n",
    "        try:                                                   \n",
    "            tomatometer = driver2.find_element(\"css selector\", \"#modules-wrap > div.media-scorecard.no-border > media-scorecard > rt-button:nth-child(3) > rt-text\").text # Extrae el Rating tomatometer\n",
    "            sleep(3)\n",
    "        \n",
    "        except Exception as e:\n",
    "            tomatometer = None\n",
    "            error = f\"No hay tomatometer para la peli {peli[1]} con id_imdb {peli[-1]}, error de tipo: {e}.\"\n",
    "            not_found.append(error)\n",
    "\n",
    "        driver2.back()\n",
    "        sleep(3)\n",
    "\n",
    "        driver2.back()\n",
    "        sleep(3)\n",
    "                            \n",
    "    except:\n",
    "        try:                                      #rso > div:nth-child(1) > div > div > div > div.kb0PBd.cvP2Ce.A9Y9g.jGGQ5e > div > div > span > a > h3\n",
    "            sleep(5)\n",
    "            driver2.find_element(\"css selector\", \"#rso > div.MjjYud > div > div > div.kb0PBd.cvP2Ce.A9Y9g.jGGQ5e > div > div > span > a > h3\").click() # Pincho en el primer resultado de la búsqueda de google\n",
    "            sleep(4)\n",
    "\n",
    "            #if on_off:\n",
    "            #   driver2.find_element(\"css selector\", \"#onetrust-accept-btn-handler\").click() # Acepta cookies\n",
    "            #   on_off = False\n",
    "            #   sleep(2) \n",
    "\n",
    "            try:                                                   \n",
    "                tomatometer = driver2.find_element(\"css selector\", \"#modules-wrap > div.media-scorecard.no-border > media-scorecard > rt-button:nth-child(3) > rt-text\").text # Extrae el Rating tomatometer\n",
    "                sleep(3)\n",
    "            \n",
    "            except Exception as e:\n",
    "                tomatometer = None\n",
    "                error = f\"No hay tomatometer para la peli {peli[1]} con id_imdb {peli[-1]}, error de tipo: {e}.\"\n",
    "                not_found.append(error)\n",
    "\n",
    "            driver2.back()\n",
    "            sleep(3)\n",
    "\n",
    "            driver2.back()\n",
    "            sleep(3)\n",
    "\n",
    "        except Exception as e:\n",
    "            tomatometer = None\n",
    "            error = f\"No hay tomatometer para la peli {peli[1]} con id_imdb {peli[-1]}, error de tipo: {e}.\"\n",
    "            not_found.append(error)\n",
    "            \n",
    "            driver2.back()\n",
    "            sleep(3)\n",
    "\n",
    "\n",
    "    tupla = imdb_rating, tomatometer, direccion, guionista, argumento, duracion, nombre        \n",
    "\n",
    "    if None in tupla:\n",
    "        contador += 1\n",
    "        print(f\"La tupla de la peli {nombre} no está completa: {tupla} Vamos por la iteración: {contador}\")\n",
    "    else:\n",
    "        resultados_fase2.append(tupla)\n",
    "        contador += 1\n",
    "        print(f\"Hemos añadido la peli {nombre} a la lista. Vamos por la iteración: {contador}.\")\n",
    "\n",
    "driver1.close()\n",
    "driver2.close()"
   ]
  },
  {
   "cell_type": "code",
   "execution_count": 147,
   "metadata": {},
   "outputs": [
    {
     "data": {
      "text/plain": [
       "73"
      ]
     },
     "execution_count": 147,
     "metadata": {},
     "output_type": "execute_result"
    }
   ],
   "source": [
    "len(resultados_fase2)"
   ]
  },
  {
   "cell_type": "code",
   "execution_count": 145,
   "metadata": {},
   "outputs": [],
   "source": [
    "# Se tarda aproximadamente 33 minutos para extraer 50 peliculas.\n",
    "# Se tarda aproximadamente 67 minutos para extraer 100 peliculas."
   ]
  },
  {
   "cell_type": "code",
   "execution_count": 139,
   "metadata": {},
   "outputs": [],
   "source": [
    "# not_found.clear()\n",
    "# resultados_fase2.clear()"
   ]
  },
  {
   "cell_type": "code",
   "execution_count": 148,
   "metadata": {},
   "outputs": [],
   "source": [
    "# Guardar los datos de manera permanente\n",
    "df_resultados = pd.DataFrame(resultados_fase2)\n",
    "df_errores = pd.DataFrame(not_found)\n",
    "df_resultados.to_csv('resultados_fase2_maira_0-50_200-400.csv') # Cambiar nombre !!! \n",
    "df_resultados.to_json('resultados_fase2_maira_0-50_200-400.json')\n",
    "df_errores.to_csv('errores_fase2_maira_0-50_200-400.csv')\n",
    "df_errores.to_json('errores_fase2_maira_0-50_200-400.json')"
   ]
  },
  {
   "cell_type": "markdown",
   "metadata": {},
   "source": [
    "2 - Para sacar datos del Rotten Tomatoes, hacerlo directamente desde el buscador o buscar otra página que sea mas sencilla de extraer que el propio Rotten.\n",
    "\n",
    "3 - Añadir el genero en Fase 2 es opcional: Lo añadimos. \n",
    "\n",
    "4 - La conversion de horas a minutos no es obligatoria: Añadir tal cuál está sin convertir \n",
    "\n",
    "5 - En los try except, meter mas selectores: el código actual tiene el objetivo de capturar errores. \n",
    "\n",
    "6 - Queremos la info en Inglés o en Español?\n",
    "\n",
    "7 - Convertir todo el notebook a funciones."
   ]
  },
  {
   "cell_type": "code",
   "execution_count": null,
   "metadata": {},
   "outputs": [],
   "source": [
    "# Puntuacion de IMDB (en caso de que la tenga).\n",
    "\n",
    "# Puntuación de Rotten Tomatoes (Tomatometer).\n",
    "\n",
    "# Dirección (director/a o directore/as de cada película).\n",
    "\n",
    "# Gionistas (de cada película).\n",
    "\n",
    "# Argumento.\n",
    "\n",
    "# Duración. >> Tal cuál está \n",
    "\n",
    "# Nombre de la película\n",
    "\n",
    "# Genero !!! \n",
    "\n",
    "# NOTA: La información de la API deberá ser almacenada en una lista de tuplas. Cada tupla corresponderá a una película. Siguiendo el siguiente ejemplo:\n",
    "\n",
    "# [(7.7, 77, \"Richard Donner\", [\"Chris ColumbusSteven\", \"Spielberg\"], \"Los Goonies son un grupo de amigos que viven en Goon Docks, Astoria, pero sus casas han sido compradas y van a ser demolidas. Sin embargo, vivirán su última aventura en busca de un tesoro que pueda salvar el barrio.\", \"Aventura\", \"1h 54min\", \"Los Gonnies\"), ...]"
   ]
  }
 ],
 "metadata": {
  "kernelspec": {
   "display_name": "base",
   "language": "python",
   "name": "python3"
  },
  "language_info": {
   "codemirror_mode": {
    "name": "ipython",
    "version": 3
   },
   "file_extension": ".py",
   "mimetype": "text/x-python",
   "name": "python",
   "nbconvert_exporter": "python",
   "pygments_lexer": "ipython3",
   "version": "3.11.7"
  }
 },
 "nbformat": 4,
 "nbformat_minor": 2
}
