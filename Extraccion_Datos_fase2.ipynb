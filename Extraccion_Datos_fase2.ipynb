{
 "cells": [
  {
   "cell_type": "markdown",
   "metadata": {},
   "source": [
    "# Fase 2"
   ]
  },
  {
   "cell_type": "code",
   "execution_count": 2,
   "metadata": {},
   "outputs": [],
   "source": [
    "# Importar librerías para tratamiento de datos\n",
    "# -----------------------------------------------------------------------\n",
    "import pandas as pd  \n",
    "\n",
    "# Importar librerías para web scraping y manipulación de datos\n",
    "# -----------------------------------------------------------------------\n",
    "from bs4 import BeautifulSoup\n",
    "import requests\n",
    "\n",
    "# Importar librerías para automatización de navegadores web con Selenium\n",
    "# -----------------------------------------------------------------------\n",
    "from selenium import webdriver  \n",
    "from webdriver_manager.chrome import ChromeDriverManager  \n",
    "from selenium.webdriver.common.keys import Keys  \n",
    "from selenium.webdriver.support.ui import Select \n",
    "\n",
    "# Importar librerías para pausar la ejecución\n",
    "# -----------------------------------------------------------------------\n",
    "from time import sleep  \n"
   ]
  },
  {
   "cell_type": "markdown",
   "metadata": {},
   "source": [
    "# Código para cargar y concatenar los resultados de las extracciones de la Fase 1"
   ]
  },
  {
   "cell_type": "code",
   "execution_count": 56,
   "metadata": {},
   "outputs": [],
   "source": [
    "# Trasladar todas las tuplas del diccionario a una sola lista\n",
    "# Paso 1: guardar datos de cada extracción en variables \n",
    "\n",
    "extracion_maira = pd.read_json('CSV_JSON/datos_filtrados_2010_2024.json')\n",
    "extracion_yami = pd.read_json('CSV_JSON/datos_filtrados_Yami_2010_2024.json')\n",
    "extracion_carolina = pd.read_json('CSV_JSON/datos_filtrados_2010_2024_carolina.json')\n",
    "extracion_laura = pd.read_json('CSV_JSON/datos_filtrados_2010_2024_laura.json')\n"
   ]
  },
  {
   "cell_type": "code",
   "execution_count": 57,
   "metadata": {},
   "outputs": [],
   "source": [
    "# Paso 2: Creamos una función para iterar por cada variable para guardar los datos en listas de tuplas\n",
    "\n",
    "def itera_variables(extracion):\n",
    "    anios = [i for i in range(2010, 2025)]\n",
    "    generos = ['Action', 'Comedy', 'Drama']\n",
    "    resultados_tuplas = []\n",
    "\n",
    "    for anio in anios:\n",
    "        for genero in generos:\n",
    "            for tupla in extracion[anio][genero]:\n",
    "                resultados_tuplas.append(tuple(tupla))\n",
    "\n",
    "    return resultados_tuplas"
   ]
  },
  {
   "cell_type": "code",
   "execution_count": 58,
   "metadata": {},
   "outputs": [],
   "source": [
    "# Concatenamos todas las listas\n",
    "resultado_tuplas_total = itera_variables(extracion_maira) + itera_variables(extracion_yami) + itera_variables(extracion_carolina) + itera_variables(extracion_laura)"
   ]
  },
  {
   "cell_type": "code",
   "execution_count": 61,
   "metadata": {},
   "outputs": [
    {
     "data": {
      "text/plain": [
       "17395"
      ]
     },
     "execution_count": 61,
     "metadata": {},
     "output_type": "execute_result"
    }
   ],
   "source": [
    "len(resultado_tuplas_total)"
   ]
  },
  {
   "cell_type": "code",
   "execution_count": 60,
   "metadata": {},
   "outputs": [
    {
     "data": {
      "text/plain": [
       "[('Movie', 'Tekken', 2010, 3, 'tt0411951'),\n",
       " ('Movie', 'Venus & Vegas', 2010, 11, 'tt0423474'),\n",
       " ('Movie', 'The A-Team', 2010, 6, 'tt0429493'),\n",
       " ('Movie', 'Segurança Nacional', 2010, 5, 'tt0439801'),\n",
       " ('Movie', 'Scott Pilgrim vs. the World', 2010, 11, 'tt0446029'),\n",
       " ('Movie', 'Taken by Force', 2010, None, 'tt0465637'),\n",
       " ('Movie', 'Guns, Drugs and Dirty Money', 2011, None, 'tt0464032'),\n",
       " ('Movie', 'Komaram Puli', 2010, 9, 'tt0464162'),\n",
       " ('Movie', 'Prince of Persia: The Sands of Time', 2010, 5, 'tt0473075'),\n",
       " ('Movie', 'Unstoppable', 2010, 12, 'tt0477080')]"
      ]
     },
     "execution_count": 60,
     "metadata": {},
     "output_type": "execute_result"
    }
   ],
   "source": [
    "resultado_tuplas_total[:10]"
   ]
  },
  {
   "cell_type": "code",
   "execution_count": 62,
   "metadata": {},
   "outputs": [
    {
     "name": "stdout",
     "output_type": "stream",
     "text": [
      "Se ha encontrado 2401 elementos repetidos\n",
      "Tras remover las tuplas repetidas, nuestra lista se quedó con 14994 elementos.\n"
     ]
    }
   ],
   "source": [
    "# Verificar que no haya elementos repetidos\n",
    "# Crear un conjunto vacío\n",
    "elementos_vistos = set()\n",
    "\n",
    "# Verificar duplicados\n",
    "contador = 0\n",
    "for elemento in resultado_tuplas_total:\n",
    "    if elemento in elementos_vistos:\n",
    "        contador += 1\n",
    "        resultado_tuplas_total.remove(elemento)\n",
    "    elementos_vistos.add(elemento)\n",
    "    \n",
    "print(f\"Se ha encontrado {contador} elementos repetidos\")\n",
    "print(f\"Tras remover las tuplas repetidas, nuestra lista se quedó con {len(resultado_tuplas_total)} elementos.\")"
   ]
  },
  {
   "cell_type": "code",
   "execution_count": 66,
   "metadata": {},
   "outputs": [],
   "source": [
    "# Guardar lista final de manera permanente\n",
    "df_final = pd.DataFrame(resultado_tuplas_total)\n",
    "df_final[2] = df_final[2].astype('Int64')\n",
    "df_final[3] = df_final[3].astype('Int64')\n",
    "df_final.to_csv('resultado_tuplas_total.csv', index=False)\n",
    "df_final.to_json('resultado_tuplas_total.json')"
   ]
  },
  {
   "cell_type": "markdown",
   "metadata": {},
   "source": [
    "# Código para recuperar la lista final de tuplas"
   ]
  },
  {
   "cell_type": "code",
   "execution_count": 5,
   "metadata": {},
   "outputs": [],
   "source": [
    "resultado_tuplas_total = pd.read_csv('resultado_tuplas_total.csv', header=None) # Ejecutar a partir de aquí"
   ]
  },
  {
   "cell_type": "code",
   "execution_count": 6,
   "metadata": {},
   "outputs": [],
   "source": [
    "resultado_tuplas_total = [tuple(fila) for fila in resultado_tuplas_total.values]\n",
    "resultado_tuplas_total = resultado_tuplas_total[1:]"
   ]
  },
  {
   "cell_type": "code",
   "execution_count": 7,
   "metadata": {},
   "outputs": [
    {
     "data": {
      "text/plain": [
       "14994"
      ]
     },
     "execution_count": 7,
     "metadata": {},
     "output_type": "execute_result"
    }
   ],
   "source": [
    "len(resultado_tuplas_total)"
   ]
  },
  {
   "cell_type": "code",
   "execution_count": 347,
   "metadata": {},
   "outputs": [
    {
     "name": "stdout",
     "output_type": "stream",
     "text": [
      "tt0829150\n",
      "Dracula Untold\n"
     ]
    }
   ],
   "source": [
    "for peli in resultado_tuplas_total[700:]: # Prueba: Iterando para extraer el id_imdb y el nombre \n",
    "    id_imdb = peli[-1]\n",
    "    nombre = peli[1]\n",
    "    print(id_imdb)\n",
    "    print(nombre)\n",
    "    break\n",
    "    "
   ]
  },
  {
   "cell_type": "code",
   "execution_count": 333,
   "metadata": {},
   "outputs": [
    {
     "data": {
      "text/plain": [
       "'tt0763831 A Thousand Words tomatometer'"
      ]
     },
     "execution_count": 333,
     "metadata": {},
     "output_type": "execute_result"
    }
   ],
   "source": [
    "search_tomato = id_imdb + ' ' + nombre + ' ' + 'tomatometer' # Creación de una variable con el contenido de la búsqueda para Rotten Tomatoes\n",
    "search_tomato"
   ]
  },
  {
   "cell_type": "code",
   "execution_count": 334,
   "metadata": {},
   "outputs": [],
   "source": [
    "# Creación de la variables que vamos a usar en la extración con Selenium\n",
    "url_imdb = \"https://www.imdb.com/\"\n",
    "url_rotten = \"https://www.rottentomatoes.com/\"\n",
    "url_google = 'https://www.google.com/'\n",
    "selector_cookies_imdb = \"#__next > div > div > div.sc-jrcTuL.bPmWiM > div > button.icb-btn.sc-bcXHqe.sc-dkrFOg.sc-iBYQkv.dcvrLS.ddtuHe.dRCGjd\"\n",
    "selector_cookies_google = \"#L2AGLb > div\""
   ]
  },
  {
   "cell_type": "code",
   "execution_count": 335,
   "metadata": {},
   "outputs": [],
   "source": [
    "# Creacción de las listas donde vamos a almacenar los resultados de la extración.\n",
    "resultados_completos = []\n",
    "resultados_sin_tomatometer = []\n",
    "not_found = []"
   ]
  },
  {
   "cell_type": "code",
   "execution_count": 336,
   "metadata": {},
   "outputs": [],
   "source": [
    "# Creamos una función para abrir los navegadores \n",
    "def abrir_navegador(driver, url, selector):\n",
    "    driver = webdriver.Chrome() # Inicializa el navegador Chrome\n",
    "    sleep(3)\n",
    "    driver.maximize_window() # Maximiza la ventana\n",
    "    driver.get(url) # Navega a la url pasada por parámetro\n",
    "    sleep(3)\n",
    "    try:\n",
    "        driver.find_element(\"css selector\", selector).click() # Intentamos aceptar las cookies\n",
    "        sleep(3)\n",
    "    except: # Si salta error, imprime un mensaje avisando.\n",
    "        print(\"No ha sido posible aceptar las cookies, puede que no saltó el aviso o que se haya cambiado el selector.\")\n",
    "    \n",
    "    return driver # retorna el driver que será usado para las demás tareas"
   ]
  },
  {
   "cell_type": "code",
   "execution_count": 337,
   "metadata": {},
   "outputs": [],
   "source": [
    "# Creamos listas con selectores css para hacer iteraciones\n",
    "selector_imdb_rating = [\"#__next > main > div > section.ipc-page-background.ipc-page-background--base.sc-c41b9732-0.NeSef > section > div:nth-child(5) > section > section > div.sc-491663c0-3.bdjVSf > div.sc-3a4309f8-0.bjXIAP.sc-1f50b7c-1.bfrqUc > div > div:nth-child(1) > a > span > div > div.sc-eb51e184-0.kFvAju > div.sc-eb51e184-2.czkfBq > span.sc-eb51e184-1.cxhhrI\"]\n",
    "selector_direccion = [\"#__next > main > div > section.ipc-page-background.ipc-page-background--base.sc-c41b9732-0.NeSef > section > div:nth-child(5) > section > section > div.sc-491663c0-4.yjUiO > div.sc-491663c0-6.lnlBxO > div.sc-491663c0-10.rbXFE > section > div.sc-1f50b7c-3.ZYFjc > div > ul > li:nth-child(1) > div > ul > li > a\", \"#__next > main > div > section.ipc-page-background.ipc-page-background--base.sc-c41b9732-0.NeSef > section > div:nth-child(5) > section > section > div.sc-491663c0-4.gEsAEH > div.sc-491663c0-6.eQRCDK > div.sc-491663c0-10.emoxHI > section > div.sc-1f50b7c-3.ZYFjc > div > ul > li:nth-child(1) > div > ul > li > a\"]\n",
    "selector_guionista = [\"#__next > main > div > section.ipc-page-background.ipc-page-background--base.sc-c41b9732-0.NeSef > section > div:nth-child(5) > section > section > div.sc-491663c0-4.yjUiO > div.sc-491663c0-6.lnlBxO > div.sc-491663c0-10.rbXFE > section > div.sc-1f50b7c-3.ZYFjc > div > ul > li:nth-child(2) > div > ul > li > a\", \"#__next > main > div > section.ipc-page-background.ipc-page-background--base.sc-c41b9732-0.NeSef > section > div:nth-child(5) > section > section > div.sc-491663c0-4.gEsAEH > div.sc-491663c0-6.eQRCDK > div.sc-491663c0-10.emoxHI > section > div.sc-1f50b7c-3.ZYFjc > div > ul > li:nth-child(2) > div > ul\"]\n",
    "selector_argumento = [\"#__next > main > div > section.ipc-page-background.ipc-page-background--base.sc-c41b9732-0.NeSef > section > div:nth-child(5) > section > section > div.sc-491663c0-4.yjUiO > div.sc-491663c0-6.lnlBxO > div.sc-491663c0-10.rbXFE > section > p > span.sc-2d37a7c7-2.PeLXr\", \"#__next > main > div > section.ipc-page-background.ipc-page-background--base.sc-c41b9732-0.NeSef > section > div:nth-child(5) > section > section > div.sc-491663c0-4.gEsAEH > div.sc-491663c0-6.eQRCDK > div.sc-491663c0-10.emoxHI > section > p > span.sc-2d37a7c7-2.PeLXr\"]\n",
    "selector_duracion = [\"#__next > main > div > section.ipc-page-background.ipc-page-background--base.sc-c41b9732-0.NeSef > section > div:nth-child(5) > section > section > div.sc-491663c0-3.bdjVSf > div.sc-1f50b7c-0.PUxFE > ul > li:nth-child(3)\", \"#__next > main > div > section.ipc-page-background.ipc-page-background--base.sc-c41b9732-0.NeSef > section > div:nth-child(5) > section > section > div.sc-491663c0-3.bdjVSf > div.sc-1f50b7c-0.PUxFE > ul > li:nth-child(2)\"]\n",
    "selector_nombre = [\"#__next > main > div > section.ipc-page-background.ipc-page-background--base.sc-c41b9732-0.NeSef > section > div:nth-child(5) > section > section > div.sc-491663c0-3.bdjVSf > div.sc-1f50b7c-0.PUxFE > h1 > span\"]\n",
    "selector_genero = [\"#__next > main > div > section.ipc-page-background.ipc-page-background--base.sc-c41b9732-0.NeSef > section > div:nth-child(5) > section > section > div.sc-491663c0-4.yjUiO > div.sc-491663c0-6.lnlBxO > div.sc-491663c0-10.rbXFE > section > div.ipc-chip-list--baseAlt.ipc-chip-list.ipc-chip-list--nowrap.sc-2d37a7c7-4.kEPwNU > div.ipc-chip-list__scroller\", \"#__next > main > div > section.ipc-page-background.ipc-page-background--base.sc-c41b9732-0.NeSef > section > div:nth-child(5) > section > section > div.sc-491663c0-4.gEsAEH > div.sc-491663c0-6.eQRCDK > div.sc-491663c0-10.emoxHI > section > div.ipc-chip-list--baseAlt.ipc-chip-list.ipc-chip-list--nowrap.sc-2d37a7c7-4.kEPwNU > div.ipc-chip-list__scroller > a\"]\n",
    "selector_primer_result_ggle = [\"#rso > div:nth-child(1) > div > div > div.kb0PBd.cvP2Ce.A9Y9g.jGGQ5e > div > div > span > a > h3\", \"#rso > div.MjjYud > div > div > div.kb0PBd.cvP2Ce.A9Y9g.jGGQ5e > div > div > span > a > h3\"]\n",
    "selector_tomatometer = [\"#modules-wrap > div.media-scorecard.no-border > media-scorecard > rt-button:nth-child(3) > rt-text\", \"#rso > div.MjjYud > div > div > div.kb0PBd.cvP2Ce.A9Y9g.jGGQ5e > div > div > span > a > h3\", \"#rso > div:nth-child(1) > div > div > div.kb0PBd.cvP2Ce.A9Y9g.jGGQ5e > div > div > span > a > h3\"]"
   ]
  },
  {
   "cell_type": "code",
   "execution_count": 338,
   "metadata": {},
   "outputs": [],
   "source": [
    "# Creamos una función para iterar por los selectores haciendo los try except para extraer datos de imdb\n",
    "def extrae_datos(lista_selector, driver, id_imdb=id_imdb, nombre=nombre):\n",
    "    for selector in lista_selector:\n",
    "        try:\n",
    "            dato = driver.find_element(\"css selector\", selector).text\n",
    "            sleep(2)\n",
    "            return dato \n",
    "        except Exception as e:\n",
    "            excepcion = e\n",
    "\n",
    "    error = f\"Faltan datos de imdb para la peli: {nombre} id_imdb: {id_imdb}, error de tipo: {excepcion}.\"\n",
    "    not_found.append(error)\n",
    "    dato = None\n",
    "    return dato"
   ]
  },
  {
   "cell_type": "code",
   "execution_count": 339,
   "metadata": {},
   "outputs": [],
   "source": [
    "# Creamos una función para pinchar en el primer resultado de google\n",
    "def clica_primer_result_ggle(lista_selector, driver, id_imdb, nombre):\n",
    "    try:\n",
    "        search_tomato = id_imdb + ' ' + nombre + ' ' + 'tomatometer'\n",
    "        driver.find_element(\"css selector\", \"#APjFqb\").send_keys(search_tomato, Keys.ENTER) # Pasamos el string al buscador de google\n",
    "        sleep(7)\n",
    "        for selector in lista_selector:\n",
    "            try:                                \n",
    "                sleep(7)                            \n",
    "                driver.find_element(\"css selector\", selector).click() # Pinchamos en el primer resultado de la búsqueda de google\n",
    "                sleep(4)\n",
    "                return True\n",
    "            except: # Exception as e:\n",
    "                # excepcion = e\n",
    "                pass\n",
    "    except:\n",
    "        pass\n",
    "    \n",
    "    # error = f\"No hay tomatometer para la peli {nombre} con id_imdb {id_imdb}, error de tipo: {excepcion}.\"\n",
    "    # not_found.append(error)\n",
    "    driver.back()\n",
    "    sleep(5)\n",
    "    return False"
   ]
  },
  {
   "cell_type": "code",
   "execution_count": 340,
   "metadata": {},
   "outputs": [],
   "source": [
    "# Creamos una función para aceptar cookies en el navegador de google\n",
    "def acepta_cookies(driver, on_off):\n",
    "    try:\n",
    "        if on_off:\n",
    "            driver.find_element(\"css selector\", \"#onetrust-accept-btn-handler\").click() # Acepta cookies\n",
    "            on_off = False\n",
    "            sleep(4)\n",
    "    except:\n",
    "        pass\n",
    "        # print(\"No hemos clicado en el aviso de cookies de google: No hubo aviso, el selector ha cambiado o no hubo tiempo suficiente para terminar de cargar la página.\") "
   ]
  },
  {
   "cell_type": "code",
   "execution_count": 341,
   "metadata": {},
   "outputs": [],
   "source": [
    "# Creamos una función para extraer el tomatometer\n",
    "def extrae_tomato(lista_selector, driver, id_imdb, nombre):\n",
    "    for selector in lista_selector:\n",
    "        try:                                                   \n",
    "            tomatometer = driver.find_element(\"css selector\", selector).text # Extrae el Rating tomatometer\n",
    "            sleep(7)\n",
    "            driver.back()\n",
    "            sleep(7)\n",
    "            driver.back()\n",
    "            sleep(7)\n",
    "            return tomatometer\n",
    "        except Exception as e:\n",
    "            excepcion = e\n",
    "            \n",
    "    tomatometer = None\n",
    "    error = f\"No hay tomatometer para la peli {nombre} con id_imdb {id_imdb}, error de tipo: {excepcion}.\"\n",
    "    not_found.append(error)\n",
    "    driver.back()\n",
    "    sleep(5)\n",
    "    driver.back()\n",
    "    sleep(5)\n",
    "    return tomatometer"
   ]
  },
  {
   "cell_type": "code",
   "execution_count": 350,
   "metadata": {},
   "outputs": [
    {
     "name": "stdout",
     "output_type": "stream",
     "text": [
      "Hemos añadido la peli Dracula Untold a la lista sin tomatometer. Vamos por la iteración: 1.\n",
      "Hemos añadido la peli Electric Slide a la lista sin tomatometer. Vamos por la iteración: 2.\n",
      "Hemos añadido la peli Bhopal: A Prayer for Rain a la lista sin tomatometer. Vamos por la iteración: 3.\n",
      "Hemos añadido la peli Suite Française a la lista sin tomatometer. Vamos por la iteración: 4.\n",
      "Hemos añadido la peli Love & Mercy a la lista sin tomatometer. Vamos por la iteración: 5.\n",
      "Hemos añadido la peli A Merry Christmas Miracle a la lista sin tomatometer. Vamos por la iteración: 6.\n",
      "Hemos añadido la peli Coffee Sex You a la lista sin tomatometer. Vamos por la iteración: 7.\n",
      "Hemos añadido la peli Collection a la lista sin tomatometer. Vamos por la iteración: 8.\n",
      "Hemos añadido la peli Avenge a la lista sin tomatometer. Vamos por la iteración: 9.\n",
      "La tupla de la peli Cocoon no está completa: (None, 'Chavi Khare', 'Chavi Khare', '', 'Short', None, 'Cocoon') Vamos por la iteración: 10\n",
      "La tupla de la peli Zahtevam most, pripada mi! no está completa: (None, 'Bostjan Jerse', 'Bostjan Jerse', '', 'Short', '30m', 'Zahtevam most, pripada mi!') Vamos por la iteración: 11\n",
      "La tupla de la peli El Encuentro no está completa: (None, 'Juan Carlos Almeida', 'Juan Carlos Almeida', '', 'Short', '10m', 'El Encuentro') Vamos por la iteración: 12\n",
      "La tupla de la peli Ruby Rouge no está completa: (None, 'Camille van Wessem', 'Froukje BoumanTorsten ColijnLinsey Knibbelaar', '', 'Short', None, 'Ruby Rouge') Vamos por la iteración: 13\n",
      "La tupla de la peli Though I Walk Through the Valley no está completa: (None, 'Danielle MacInnis', 'Danielle MacInnis', 'With their son in a comatose state from a drunk driving accident, Olivia and Matt must decide whether to end the life support of their only child.', 'Short', '15m', 'Though I Walk Through the Valley') Vamos por la iteración: 14\n",
      "La tupla de la peli La novia de Poznan' no está completa: (None, 'Jorge G. Satí', 'Zygmunt Bauman', 'In the big city, the young Eva feels defeated by the world that surrounds her, by the sandpaper of everyday life: the endless hours of her work, the poisonous trap of capitalism, the lack of human communication, the increase of security control and its consequent loss of freedoms, the extinction of values, individualism, social disconnections - Victim of an existentia... Read all', 'Short\\nDrama', '22m', \"La novia de Poznan'\") Vamos por la iteración: 15\n",
      "La tupla de la peli The Soul of a Policeman no está completa: (None, 'Abel Macias', 'Abel Macias', 'After a recent murder case, Detectives Sullivan and Timmons debate on the morality of killing criminals without due process.', 'Short', '6m', 'The Soul of a Policeman') Vamos por la iteración: 16\n",
      "La tupla de la peli Zvyozdy svetyat vsem no está completa: (None, 'Aleksandr Kananovich', 'Ilya KapanetsKostya KapskiyAndrey Karako', '', 'Drama', None, 'Zvyozdy svetyat vsem') Vamos por la iteración: 17\n",
      "La tupla de la peli The Drive no está completa: (None, 'B.D. Reid', 'B.D. Reid', 'A short, silent, art film about a man who spent a night with a beautiful woman and takes a late-night drive to reflect on it.', 'Short', '4m', 'The Drive') Vamos por la iteración: 18\n",
      "La tupla de la peli The Extra Mile no está completa: (None, 'Ethan Calvin', 'Ethan CalvinB.D. Reid', 'An aspiring track star struggles to accept the reality of her condition following devastating news from her doctor. April Hamilton is a award winning track star for her college, with her sights set on becoming a professional. When she goes to the doctor for her routine physical she learns that she has a cancerous tumor in her leg which requires amputation. As her cond... Read all', 'Short', '10m', 'The Extra Mile') Vamos por la iteración: 19\n",
      "Hemos añadido la peli Prathighatana a la lista sin tomatometer. Vamos por la iteración: 20.\n",
      "La tupla de la peli La Nuit no está completa: (None, 'Stéphane Vallée', \"Shy'mStéphane Vallée\", 'A troubled young woman drives a young man back by car, until the situation changes.', 'Short', '8m', 'La Nuit') Vamos por la iteración: 21\n",
      "Hemos añadido la peli The GCPD a la lista sin tomatometer. Vamos por la iteración: 22.\n",
      "La tupla de la peli Gafas de ver no está completa: (None, 'Manu Ochoa', 'Manu Ochoa', '', 'Comedy', '1h 13m', 'Gafas de ver') Vamos por la iteración: 23\n",
      "Hemos añadido la peli Jurassic World a la lista sin tomatometer. Vamos por la iteración: 24.\n",
      "La tupla de la peli Oscar Buzz no está completa: (None, 'Patrick Willems', 'Patrick Willems', 'A Moviegoer kills an annoying moviegoer.', 'Short', None, 'Oscar Buzz') Vamos por la iteración: 25\n",
      "La tupla de la peli Final Descent no está completa: (None, 'Matthew Silva', 'Aniel RiosMatthew Silva', '', 'Short', None, 'Final Descent') Vamos por la iteración: 26\n",
      "La tupla de la peli Operation Pursuit no está completa: (None, 'Matthew Silva', 'Aniel RiosMatthew Silva', '', 'Short', None, 'Operation Pursuit') Vamos por la iteración: 27\n",
      "La tupla de la peli Flamenco Dancer's Revenge no está completa: (None, None, None, None, None, None, \"Flamenco Dancer's Revenge\") Vamos por la iteración: 28\n",
      "La tupla de la peli Left for Dead- The Infection (The Series) no está completa: (None, 'Billy Butler', 'Billy Butler', 'A post-apocalyptic anthology web-series following the story of two best friends on their daring survival journey in a wasteland littered with the undead.', 'Action', '58m', 'Left for Dead- The Infection (The Series)') Vamos por la iteración: 29\n",
      "La tupla de la peli Dushman no está completa: (None, None, None, None, None, '2h', 'Dushman') Vamos por la iteración: 30\n",
      "La tupla de la peli Pele 1 Real no está completa: (None, None, None, None, None, None, 'Pele 1 Real') Vamos por la iteración: 31\n",
      "La tupla de la peli Corazones en Llamas 2 no está completa: (None, 'Juanjo Martínez', 'Juanjo Martínez', 'A Team of former mercenaries now in charge of national security faces a band involved in organ traffic.', 'Action', '1h 32m', 'Corazones en Llamas 2') Vamos por la iteración: 32\n",
      "Hemos añadido la peli Nazi Sharks a la lista sin tomatometer. Vamos por la iteración: 33.\n",
      "La tupla de la peli Beach Tusa - Saltushki! no está completa: (None, 'Xlson137', 'Vitaly GrinevichXlson137', '', 'Short', None, 'Beach Tusa - Saltushki!') Vamos por la iteración: 34\n",
      "La tupla de la peli Beach Tusa - Zakaznoy no está completa: (None, 'Xlson137', 'Xlson137', '', 'Short', None, 'Beach Tusa - Zakaznoy') Vamos por la iteración: 35\n",
      "La tupla de la peli Pirates Airsoft Team no está completa: (None, 'Aris Koulaidis', 'Aris Koulaidis', '', 'Short', None, 'Pirates Airsoft Team') Vamos por la iteración: 36\n",
      "Hemos añadido la peli Fed Up a la lista sin tomatometer. Vamos por la iteración: 37.\n",
      "Hemos añadido la peli Prozac tango a la lista sin tomatometer. Vamos por la iteración: 38.\n",
      "Hemos añadido la peli Ant-Man a la lista sin tomatometer. Vamos por la iteración: 39.\n",
      "Hemos añadido la peli The Wedding Ringer a la lista sin tomatometer. Vamos por la iteración: 40.\n",
      "La tupla de la peli Publicité SAAQ - campagne publicitaire sur les drogues au volant (Pigeon) no está completa: (None, 'François Lallier', 'Maxime Séguin-Durand', '-Awareness campaign on drugs while driving. Using a pigeon and a squirrel, she recalls that the police are able to recognize a drugged driver. The campaign is aimed primarily at drivers aged 16 to 24.', 'Short', '1m', 'Publicité SAAQ - campagne publicitaire sur les drogues au volant (Pigeon)') Vamos por la iteración: 41\n",
      "La tupla de la peli Tracy Smith and the Treasure from the Secret Abyss no está completa: (None, 'Pauli Janhunen Calderón', 'Marina Janhunen CalderónAlvaro Grobet CalderónEmilio Janhunen Calderón', \"Adventurer Tracy Smith embarks on a journey to find the treasure from the Secret Abyss. With the help of Niño Mistico they must face dangers on the way. Silver Servant, Don Maligni's troops and the Guardian will all challenge the mission.\", 'Short', '24m', 'Tracy Smith and the Treasure from the Secret Abyss') Vamos por la iteración: 42\n",
      "La tupla de la peli Rajawali no está completa: (None, 'Zidny Nafian', 'Zidny Nafian', 'On an elevated afternoon, two Boys talked about the cause of a motorbike that was not bought.', 'Short', '5m', 'Rajawali') Vamos por la iteración: 43\n",
      "La tupla de la peli In the Realms of Good and Evil no está completa: (None, 'Andrew Craig', 'Andrew Craig', '', 'Short', '12m', 'In the Realms of Good and Evil') Vamos por la iteración: 44\n",
      "La tupla de la peli The Hungry Buddhists no está completa: (None, 'Yunhao Zhang', 'Yunhao Zhang', '', 'Animation', '2m', 'The Hungry Buddhists') Vamos por la iteración: 45\n",
      "Hemos añadido la peli Shulie a la lista sin tomatometer. Vamos por la iteración: 46.\n",
      "La tupla de la peli Snowblind no está completa: ('7.0', None, None, None, None, None, 'Snowblind') Vamos por la iteración: 47\n",
      "Hemos añadido la peli Chatô: O Rei do Brasil a la lista sin tomatometer. Vamos por la iteración: 48.\n",
      "Hemos añadido la peli Transeúntes a la lista sin tomatometer. Vamos por la iteración: 49.\n",
      "Hemos añadido la peli The Stanford Prison Experiment a la lista sin tomatometer. Vamos por la iteración: 50.\n",
      "Hemos añadido la peli High-Rise a la lista sin tomatometer. Vamos por la iteración: 51.\n",
      "Hemos añadido la peli The Man Who Knew Infinity a la lista sin tomatometer. Vamos por la iteración: 52.\n",
      "Hemos añadido la peli Miles Ahead a la lista sin tomatometer. Vamos por la iteración: 53.\n",
      "Hemos añadido la peli The Danish Girl a la lista sin tomatometer. Vamos por la iteración: 54.\n",
      "La tupla de la peli Chooriyan no está completa: ('5.6', 'Sukhwant Dhadda', 'Sukhwant DhaddaHarinderVivek Kumar', \"Chooriyan is the story of Simran (Gracy Singh), an orphan who has always dreamt of being a part of a family. Her dream finally comes true when Army Office Aman (Sudanshu Pandde) asks her to marry him and she lives happily as part of Aman's family. Aman and Simran cherish every moment before he returns back to his army duty. Before he leaves, Simran makes a vow to him ... Read all\", 'Drama', None, 'Chooriyan') Vamos por la iteración: 55\n",
      "La tupla de la peli Rosie & Me no está completa: (None, 'Armando Milano', 'Armando Milano', 'A young journalist on his first assignment falls in love with his subject, an up and coming nightclub singer.', 'Short', '9m', 'Rosie & Me') Vamos por la iteración: 56\n",
      "La tupla de la peli The Invite no está completa: (None, None, None, None, None, None, 'The Invite') Vamos por la iteración: 57\n",
      "La tupla de la peli Zöld fény no está completa: (None, 'Daniel Molnár', 'Anita Pataki', \"A girl realizes, she's in The Sims.\", 'Short', '11m', 'Zöld fény') Vamos por la iteración: 58\n",
      "La tupla de la peli Memòries no está completa: (None, 'Gerard Dalmau', 'Gerard Dalmau', '', 'Short', None, 'Memòries') Vamos por la iteración: 59\n",
      "La tupla de la peli Dangebaaz no está completa: (None, None, None, None, None, None, 'Dangebaaz') Vamos por la iteración: 60\n",
      "La tupla de la peli Christmas for the Rest of Us no está completa: (None, None, None, None, None, None, 'Christmas for the Rest of Us') Vamos por la iteración: 61\n",
      "Hemos añadido la peli Aman Ke Farishtey a la lista sin tomatometer. Vamos por la iteración: 62.\n",
      "Hemos añadido la peli Cell a la lista sin tomatometer. Vamos por la iteración: 63.\n",
      "Hemos añadido la peli Warcraft: The Beginning a la lista sin tomatometer. Vamos por la iteración: 64.\n",
      "La tupla de la peli SIUAT Sumanth 3 no está completa: ('8.5', 'Larry J. Jacobson', 'Vincent KyiAnna KukharenkoBishnu Kumar', 'A title for testing IMDbPro Stay informed features.', 'Action', None, 'SIUAT Sumanth 3') Vamos por la iteración: 65\n",
      "La tupla de la peli Home Within A Storm no está completa: (None, None, None, None, None, None, 'Home Within A Storm') Vamos por la iteración: 66\n",
      "La tupla de la peli Electric Lady no está completa: (None, 'Jesper Isaksen', 'Jesper Isaksen', \"An old car carrying the Danish rock n' roll band 11th Street Kids is breaking down in the middle of nowhere. They seek help on a nearby farm inhabited by an old Indian and his daughter. At first everything seems fairly normal, but the band soon find themselves enrolled in a mysterious adventure, where they are haunted by wolves and the fierce and warrior like Indian d... Read all\", 'Action', '4m', 'Electric Lady') Vamos por la iteración: 67\n",
      "La tupla de la peli Chevrolet Malibu: Bundesliga no está completa: (None, 'Victor Garcia', 'Jair AbarcaHarrison JonesHarding Junior', '', 'Short', '1m', 'Chevrolet Malibu: Bundesliga') Vamos por la iteración: 68\n",
      "La tupla de la peli Mercenarios en acción no está completa: (None, 'Pablo Martínez', 'Torres HéctorMartínez Pablo', '', 'Action', '45m', 'Mercenarios en acción') Vamos por la iteración: 69\n",
      "La tupla de la peli Doodh Ka Karz no está completa: (None, None, None, None, None, None, 'Doodh Ka Karz') Vamos por la iteración: 70\n",
      "La tupla de la peli The Secret no está completa: (None, 'Carlos Burley', 'Carlos Burley', \"Aiza is a hit-woman, hired by the worlds most elite criminals, but she is requested to do a job that she refuses to do and is ultimately set-up by the one person she least expected it from. That's when everything falls apart.\", 'Short', '15m', 'The Secret') Vamos por la iteración: 71\n",
      "La tupla de la peli Il vizio no está completa: (None, 'Evis Nako', 'Evis Nako', '', 'Short', '24m', 'Il vizio') Vamos por la iteración: 72\n",
      "La tupla de la peli The Last Mission no está completa: (None, 'Jaro Jääskeläinen', 'Jaro Jääskeläinen', \"The sins of the past return to haunt the man's life as his girlfriend is suddenly taken away in the middle of a beautiful summer day. As the life of the woman he loves is at stake, the man has no other choice but to return - for one last time - to his former employer's service. (a.k.a. The Last Mission: REDAX)\", 'Short', '28m', 'The Last Mission') Vamos por la iteración: 73\n",
      "La tupla de la peli Special Forces no está completa: ('5.2', 'Michael Chuah', None, '', 'Action', '1h 28m', 'Special Forces') Vamos por la iteración: 74\n",
      "La tupla de la peli Made in Maharashtra no está completa: (None, 'Nitesh Pawar', 'Deepak AngewarNitesh PawarHemant Salve', 'the lives of two rich children who lose their ways and end up commiting a serious offense while having fun.', 'Action', '2h 8m', 'Made in Maharashtra') Vamos por la iteración: 75\n",
      "La tupla de la peli Resbak no está completa: (None, 'Toto Natividad', 'Toto NatividadWilly LaconsayMichael Bernaldez', 'A father learns that his teenage son is heading down to the same path he treaded. In order to stop his son from being a criminal, he returns to his old ways so that his son may live.', 'Action', '1h 39m', 'Resbak') Vamos por la iteración: 76\n",
      "La tupla de la peli Xlsinyalta : Water Splash no está completa: (None, 'Xlson137', 'Xlson137', '', 'Short', None, 'Xlsinyalta : Water Splash') Vamos por la iteración: 77\n",
      "Hemos añadido la peli Juara a la lista sin tomatometer. Vamos por la iteración: 78.\n",
      "La tupla de la peli A Guy Walks Into a Bar no está completa: (None, None, None, None, None, None, 'A Guy Walks Into a Bar') Vamos por la iteración: 79\n",
      "La tupla de la peli Shootout no está completa: (None, 'Shailesh Leuva', 'Shain Leuva', '', 'Action', None, 'Shootout') Vamos por la iteración: 80\n",
      "La tupla de la peli Nikki no está completa: (None, 'Michael Peristeris', 'Michael Peristeris', \"A desperate man who is in need of quick cash in order to help pay for his sister's medical bills takes an illegal chance to win the money he needs. He soon finds out that the price he will pay to get what he needs may be more than what he bargained for.\", 'Short', '6m', 'Nikki') Vamos por la iteración: 81\n",
      "La tupla de la peli Foreshadow no está completa: (None, 'Julien Turner', 'Julien Turner', 'After witnessing the shooting of a loved one on the streets, a young African-American vigilante is born.', 'Short', '17m', 'Foreshadow') Vamos por la iteración: 82\n",
      "La tupla de la peli Once a Soja: Agubiri the Gateman no está completa: (None, 'Nabwana I.G.G.', 'Nabwana I.G.G.', '', 'Action', '1h 4m', 'Once a Soja: Agubiri the Gateman') Vamos por la iteración: 83\n",
      "Hemos añadido la peli Kapitano a la lista sin tomatometer. Vamos por la iteración: 84.\n",
      "Hemos añadido la peli The Ivory Trap: Akanawuusu a la lista sin tomatometer. Vamos por la iteración: 85.\n",
      "La tupla de la peli Osu 2 no está completa: (None, 'Vlad Rimburg', 'Vlad Rimburg', '', 'Short', None, 'Osu 2') Vamos por la iteración: 86\n",
      "La tupla de la peli Xue zhan Tong Luo Wan no está completa: (None, 'Jiajun Chen', 'Jimmy AuNorman ChuMeiying Du', '', 'Action', '1h 4m', 'Xue zhan Tong Luo Wan') Vamos por la iteración: 87\n",
      "La tupla de la peli Xue zhan Tong Luo Wan 2 no está completa: (None, 'Bowie Lau', 'Lap-Keung ShumYuenian Su', '', 'Action', None, 'Xue zhan Tong Luo Wan 2') Vamos por la iteración: 88\n",
      "La tupla de la peli Ora no está completa: (None, 'Ariel Otero', 'Alecs Garxia', '', 'Short', None, 'Ora') Vamos por la iteración: 89\n",
      "La tupla de la peli Akoran no está completa: (None, 'Dinesh Ravi', 'Dinesh', '', 'Action', '2h 28m', 'Akoran') Vamos por la iteración: 90\n",
      "La tupla de la peli The Worst Batman Fanfilm Ever... Period no está completa: ('5.9', None, None, None, None, '3m', 'The Worst Batman Fanfilm Ever... Period') Vamos por la iteración: 91\n",
      "La tupla de la peli The Sexlife of a Chair no está completa: ('5.6', 'Phil Mulloy', None, '', 'Animation', '7m', 'The Sexlife of a Chair') Vamos por la iteración: 92\n",
      "La tupla de la peli Cowboys: Outrage! no está completa: ('6.0', 'Phil Mulloy', None, '', 'Animation', '3m', 'Cowboys: Outrage!') Vamos por la iteración: 93\n",
      "La tupla de la peli Cowboys: That's Nothin' no está completa: ('5.8', 'Phil Mulloy', None, '', 'Short', '3m', \"Cowboys: That's Nothin'\") Vamos por la iteración: 94\n",
      "La tupla de la peli Cowboys: The Conformist no está completa: ('6.1', 'Phil Mulloy', None, '', 'Animation', '3m', 'Cowboys: The Conformist') Vamos por la iteración: 95\n",
      "La tupla de la peli The Ten Commandments Number 5: Thou Shalt Not Kill no está completa: ('6.7', 'Phil Mulloy', None, '', 'Animation', '3m', 'The Ten Commandments Number 5: Thou Shalt Not Kill') Vamos por la iteración: 96\n",
      "La tupla de la peli Nonkina tosan Yamazaki kaido no está completa: (None, None, None, None, None, None, 'Nonkina tosan Yamazaki kaido') Vamos por la iteración: 97\n",
      "La tupla de la peli Have You Seen Me? no está completa: (None, None, None, None, None, None, 'Have You Seen Me?') Vamos por la iteración: 98\n",
      "Hemos añadido la peli Manhattan Minutiae a la lista sin tomatometer. Vamos por la iteración: 99.\n",
      "Hemos añadido la peli Maximum Ride a la lista sin tomatometer. Vamos por la iteración: 100.\n",
      "Hemos añadido la peli Pee-wee's Big Holiday a la lista sin tomatometer. Vamos por la iteración: 101.\n",
      "La tupla de la peli Pool Fart no está completa: ('6.0', 'Tamara Bruketta', None, 'A pool party, rambunctious teen fun, what harm could one little fart do? Right?', 'Short', '3m', 'Pool Fart') Vamos por la iteración: 102\n",
      "La tupla de la peli Culture Club no está completa: (None, None, None, None, None, None, 'Culture Club') Vamos por la iteración: 103\n",
      "La tupla de la peli Hospital Head Doctor no está completa: ('5.8', None, None, None, None, '4m', 'Hospital Head Doctor') Vamos por la iteración: 104\n",
      "La tupla de la peli Something Remotely Beautiful no está completa: (None, None, None, None, None, '4m', 'Something Remotely Beautiful') Vamos por la iteración: 105\n",
      "La tupla de la peli Dadz no está completa: (None, 'Quinn Wilson', 'Sean Cooley', \"It's hard being a dad, but it rewarding being a dad. They are each others Dad, don't think about it too much.\", 'Short', None, 'Dadz') Vamos por la iteración: 106\n",
      "Hemos añadido la peli Wazir a la lista sin tomatometer. Vamos por la iteración: 107.\n",
      "Hemos añadido la peli American Pastoral a la lista sin tomatometer. Vamos por la iteración: 108.\n",
      "Hemos añadido la peli The History of Love a la lista sin tomatometer. Vamos por la iteración: 109.\n",
      "Hemos añadido la peli Hot Country, Cold Winter a la lista sin tomatometer. Vamos por la iteración: 110.\n",
      "Hemos añadido la peli Hail, Caesar! a la lista sin tomatometer. Vamos por la iteración: 111.\n",
      "Hemos añadido la peli Silence a la lista sin tomatometer. Vamos por la iteración: 112.\n",
      "Hemos añadido la peli Nina a la lista sin tomatometer. Vamos por la iteración: 113.\n",
      "La tupla de la peli Retreat! no está completa: ('7.9', 'Scott Slone', 'Scott Slone', \"Inspired by war films from the 1950's, Retreat! tells the story of nine U.S. Soldiers who were forced to retreat into unknown territories deep in the heart of Korea.\", 'Comedy', None, 'Retreat!') Vamos por la iteración: 114\n",
      "La tupla de la peli Gangster Kittens no está completa: ('7.1', 'Ash Mahmood', 'Naeem Mahmood', 'An uncompromising portrait of the struggles of a resplendent teenager with an anarchic spirit, fighting to maintain her existence in the bleak urban landscape of London. Angel is a cool but troubled nymphet, disillusioned by the tedium and meaninglessness of her uninviting working class future, her eyes filled with ferocious pique. Neglected by her abusive uncle and a... Read all', 'Drama', None, 'Gangster Kittens') Vamos por la iteración: 115\n",
      "Hemos añadido la peli The Legend of Tarzan a la lista sin tomatometer. Vamos por la iteración: 116.\n",
      "Hemos añadido la peli The Man in the Silo a la lista completa. Vamos por la iteración: 117.\n",
      "Hemos añadido la peli Pelé: Birth of a Legend a la lista sin tomatometer. Vamos por la iteración: 118.\n",
      "La tupla de la peli Alalá no está completa: ('6.8', 'Remedios Malvárez', 'Arturo AndújarRemedios Malvárez', '', 'Documentary', None, 'Alalá') Vamos por la iteración: 119\n",
      "Hemos añadido la peli La notte è piccola per noi a la lista sin tomatometer. Vamos por la iteración: 120.\n",
      "La tupla de la peli Hum Kuchh Keh Na Sake no está completa: (None, 'Karan Kashyap', 'Pratyusha BanerjeeKamya Punjabi', '', 'Short', None, 'Hum Kuchh Keh Na Sake') Vamos por la iteración: 121\n",
      "Hemos añadido la peli Blood of Hatred a la lista sin tomatometer. Vamos por la iteración: 122.\n",
      "La tupla de la peli Saalaiyoram no está completa: ('7.0', None, None, None, None, '2h 5m', 'Saalaiyoram') Vamos por la iteración: 123\n",
      "La tupla de la peli Miss Pepper 2016 no está completa: (None, None, None, None, None, None, 'Miss Pepper 2016') Vamos por la iteración: 124\n",
      "La tupla de la peli Waiting for the Boatman no está completa: (None, 'Sasha Yevtushenko', 'Stephen Wakelam', \"It's an audio play boadcast on radio.\", 'Drama', '45m', 'Waiting for the Boatman') Vamos por la iteración: 125\n",
      "La tupla de la peli Deep Swimmer no está completa: (None, None, None, None, None, '45m', 'Deep Swimmer') Vamos por la iteración: 126\n",
      "Hemos añadido la peli The Young Messiah a la lista sin tomatometer. Vamos por la iteración: 127.\n",
      "La tupla de la peli Trade Off no está completa: (None, None, None, None, None, None, 'Trade Off') Vamos por la iteración: 128\n",
      "La tupla de la peli Unfriended no está completa: (None, 'Rec Revan', 'Mehdi Aliyev', '', 'Short\\nDrama\\nFantasy', '4m', 'Unfriended') Vamos por la iteración: 129\n",
      "La tupla de la peli The Account Balance no está completa: (None, None, None, None, None, '2m', 'The Account Balance') Vamos por la iteración: 130\n",
      "La tupla de la peli Bambina no está completa: (None, 'Yotam Knispel', 'Yotam Knispel', \"While the wheels of her bag are spinning on the ancient pavement of the small Sicilian town she once lived in, Violetta is in search for a specific man. When she'll find him, things won't go as she expected. But that wouldn't stop her from getting what she wants at any cost.\", 'Short', '7m', 'Bambina') Vamos por la iteración: 131\n",
      "La tupla de la peli No Phones In Class no está completa: (None, None, None, None, None, None, 'No Phones In Class') Vamos por la iteración: 132\n",
      "La tupla de la peli Wuzhumuqin de hai zi no está completa: (None, None, None, None, None, '1h 21m', 'Wuzhumuqin de hai zi') Vamos por la iteración: 133\n",
      "La tupla de la peli Wistful life no está completa: (None, 'Mico Saad', 'Mico Saad', '', 'Short', None, 'Wistful life') Vamos por la iteración: 134\n",
      "Hemos añadido la peli Wonder Woman a la lista sin tomatometer. Vamos por la iteración: 135.\n",
      "Hemos añadido la peli Justice League a la lista sin tomatometer. Vamos por la iteración: 136.\n",
      "La tupla de la peli Green Brothers no está completa: (None, None, None, None, None, None, 'Green Brothers') Vamos por la iteración: 137\n",
      "La tupla de la peli Red Wrath no está completa: (None, 'Wayne Wilde', 'Melissa Lopez', '', 'Short', None, 'Red Wrath') Vamos por la iteración: 138\n",
      "Hemos añadido la peli Nagarsevak - Ek Nayak a la lista sin tomatometer. Vamos por la iteración: 139.\n",
      "Hemos añadido la peli Spider-Man Fan Film - Film Form Studios a la lista sin tomatometer. Vamos por la iteración: 140.\n",
      "La tupla de la peli The Case no está completa: (None, None, None, None, None, None, 'The Case') Vamos por la iteración: 141\n",
      "La tupla de la peli Mirror Mirror no está completa: (None, 'Thevin Kumar', 'Thevin Kumar', '', 'Short', '5m', 'Mirror Mirror') Vamos por la iteración: 142\n",
      "La tupla de la peli Winner no está completa: (None, None, None, None, None, None, 'Winner') Vamos por la iteración: 143\n",
      "La tupla de la peli A World Without Flame no está completa: (None, None, None, None, None, '13m', 'A World Without Flame') Vamos por la iteración: 144\n",
      "La tupla de la peli Instagore no está completa: (None, 'Aiman Samat', 'Aiman Samat', 'A hired killer is having a financial problem while having to pay for her caretaker\\'s hospital bill; until she finds out about an app called \"Instagore\".', 'Short', '8m', 'Instagore') Vamos por la iteración: 145\n",
      "La tupla de la peli DOJO no está completa: (None, None, None, None, None, None, 'DOJO') Vamos por la iteración: 146\n",
      "La tupla de la peli Khayyum Bhai no está completa: (None, 'Bharat Parepalli', 'MouniTaraka Ratna NandamuriHarshita Panwar', \"Khayyum Bhai (Ram Babu) joins people's war gang in his teenage and develops ego clashes with them. To take revenge, he becomes a police informer and starts doing illegal activities by using his cop background. How did the authorities put an end to his empire is the rest of the story.\", 'Action', '2h 4m', 'Khayyum Bhai') Vamos por la iteración: 147\n",
      "La tupla de la peli GG no está completa: (None, 'Helen Wu', 'Helen Wu', 'Trapped in the gaming world, a kiwi-Asian boy races against time to reach reality. Dire consequences await.', 'Short', None, 'GG') Vamos por la iteración: 148\n",
      "La tupla de la peli Red Hood Uprising no está completa: (None, 'Trevor Telenko', 'Trevor TelenkoNick TruschMavrick Vo', 'Jason Todd, the second Robin, was murdered by the clown prince of crime, The Joker. Five years later, he rose back from the dead to seek vengeance and begin his new identity as the Red Hood.', 'Short', '15m', 'Red Hood Uprising') Vamos por la iteración: 149\n",
      "La tupla de la peli Vajra no está completa: (None, 'Mayur Karambalikar', 'Akash Dounde', 'The most precious, 720-carat diamond named VAJRA is owned by only the five richest people in this world. The owners have agreed to lock the chest and keep it turn by turn. An intelligent thief and the even more intelligent CBI officers make this film an entertaining suspense.', 'Action', None, 'Vajra') Vamos por la iteración: 150\n",
      "La tupla de la peli Layerr Absolute (TV Commercial) no está completa: (None, 'Akshay Kumar', None, '', 'Short', None, 'Layerr Absolute (TV Commercial)') Vamos por la iteración: 151\n",
      "La tupla de la peli Grilled no está completa: (None, 'Philip Pratt', 'Kofi AdjorloloHellen AtimQwasi Blay Jr.', '', 'Action', None, 'Grilled') Vamos por la iteración: 152\n",
      "La tupla de la peli Corazones en Llamas 3 no está completa: (None, 'Juanjo Martínez', 'Juanjo Martínez', 'A mafia organization tries to take revenge on a group of mercenaries retired years ago. This group must finish what they started a long time ago in order to continue with their lives away from problems.', 'Action', None, 'Corazones en Llamas 3') Vamos por la iteración: 153\n",
      "Hemos añadido la peli Civil War 2: Resurrection a la lista sin tomatometer. Vamos por la iteración: 154.\n",
      "Hemos añadido la peli London Heist a la lista sin tomatometer. Vamos por la iteración: 155.\n",
      "La tupla de la peli Job Chasing no está completa: (None, None, None, None, None, None, 'Job Chasing') Vamos por la iteración: 156\n",
      "La tupla de la peli The King of the Drift no está completa: ('6.2', 'Hu An', None, '', 'Action', '1h 32m', 'The King of the Drift') Vamos por la iteración: 157\n",
      "La tupla de la peli Fatal Asset no está completa: (None, 'Angel Rosario', 'Angel Rosario', '', 'Action', None, 'Fatal Asset') Vamos por la iteración: 158\n",
      "La tupla de la peli The Floor Whisper no está completa: (None, 'Alexander Hernandez', 'Andy BertelsmeyerShannon FergusonAlexander Hernandez', '', 'Short', None, 'The Floor Whisper') Vamos por la iteración: 159\n",
      "La tupla de la peli Metal Gear Solid: A New Divide no está completa: (None, 'Dawid Rzedzian', 'Dawid Rzedzian', '', 'Short', None, 'Metal Gear Solid: A New Divide') Vamos por la iteración: 160\n",
      "Hemos añadido la peli The Wandering Soap Opera a la lista sin tomatometer. Vamos por la iteración: 161.\n",
      "Hemos añadido la peli Bunyan and Babe a la lista sin tomatometer. Vamos por la iteración: 162.\n",
      "Hemos añadido la peli CHIPS a la lista sin tomatometer. Vamos por la iteración: 163.\n",
      "Hemos añadido la peli Caravaggio and My Mother the Pope a la lista sin tomatometer. Vamos por la iteración: 164.\n",
      "Hemos añadido la peli Joe Dick a la lista sin tomatometer. Vamos por la iteración: 165.\n",
      "La tupla de la peli Introverts Anonymous no está completa: (None, 'Jason Cunningham', 'Jason Cunningham', '', 'Short', None, 'Introverts Anonymous') Vamos por la iteración: 166\n",
      "La tupla de la peli Jail Bound no está completa: (None, None, None, None, None, None, 'Jail Bound') Vamos por la iteración: 167\n",
      "La tupla de la peli Dhingana no está completa: (None, 'Chandrakant Dudhgaokar', 'Hemant Edlabadkar', 'a village where an honest and noble couple have been working for the welfare of the villagers and are respected deeply by the village head and others. Lately, the villagers have gone into severe losses after getting lured by a scheme that promised to double their money. The village head asks the couple to bail them out of trouble. When they contact Anna (Avtar Gill), ... Read all', 'Comedy', None, 'Dhingana') Vamos por la iteración: 168\n",
      "La tupla de la peli Bas Paanch Minute no está completa: (None, 'Sagar Kalaria', None, 'A story about many characters connected with each other due to random set of reasons. The film depicts how their lives are trapped in a loop due to those never ending \"five minutes\".', 'Short', None, 'Bas Paanch Minute') Vamos por la iteración: 169\n",
      "La tupla de la peli Oops no está completa: (None, None, None, None, None, '12m', 'Oops') Vamos por la iteración: 170\n",
      "Hemos añadido la peli Vendégszeretet a la lista sin tomatometer. Vamos por la iteración: 171.\n",
      "La tupla de la peli Excalibur Too no está completa: (None, 'Patrick Cloninger', 'Patrick Cloninger', '', 'Short', '7m', 'Excalibur Too') Vamos por la iteración: 172\n",
      "La tupla de la peli The Ballet Exam no está completa: (None, 'Abbie Murphy', 'Ricky HuntAbbie Murphy', 'A comedy sketch of an RAD Ballet Exam, set in an English village hall.', 'Short', None, 'The Ballet Exam') Vamos por la iteración: 173\n",
      "La tupla de la peli The Wolf of Guacotle no está completa: (None, 'Jacob Thomas', 'Jacob Thomas', 'Matthew teaches Leo the ways of upselling customers over a couple of choice drinks.', 'Short', None, 'The Wolf of Guacotle') Vamos por la iteración: 174\n",
      "La tupla de la peli Buddy Cops! no está completa: (None, 'Lewie Bartone', 'Sarah McLean', '', 'Short', None, 'Buddy Cops!') Vamos por la iteración: 175\n",
      "La tupla de la peli Shao nv tian shi no está completa: (None, 'Zhenhao Zhao', 'Yuenian Su', '', 'Comedy', '1h 3m', 'Shao nv tian shi') Vamos por la iteración: 176\n",
      "La tupla de la peli The Good, The Bad And The Tennis no está completa: (None, None, None, None, None, '7m', 'The Good, The Bad And The Tennis') Vamos por la iteración: 177\n",
      "La tupla de la peli UnHoly Father no está completa: (None, 'Katherine Dudley', 'Katherine Dudley', '', 'Short', '7m', 'UnHoly Father') Vamos por la iteración: 178\n",
      "La tupla de la peli Un camión por encima no está completa: (None, 'Olatz Ovejero', 'Adrián Resa', '', 'Short', '6m', 'Un camión por encima') Vamos por la iteración: 179\n",
      "La tupla de la peli Goddess no está completa: (None, 'Alex Vickery-Howe', 'Alex Vickery-Howe', \"Fawn, a 'plain Jane', learns at the reading of her father's will that her whole life is a lie and that she is the daughter of a rock star - a modern goddess, destined for stardom.\", 'Short', None, 'Goddess') Vamos por la iteración: 180\n",
      "La tupla de la peli Moving A Couch in a Walk-Up no está completa: (None, None, None, None, None, None, 'Moving A Couch in a Walk-Up') Vamos por la iteración: 181\n",
      "La tupla de la peli Den gröna dörren no está completa: (None, None, None, None, None, '10m', 'Den gröna dörren') Vamos por la iteración: 182\n",
      "La tupla de la peli Kaun Mera Kaun Tera no está completa: (None, 'R.P. Singh', 'R.P. Singh', '', 'Comedy', None, 'Kaun Mera Kaun Tera') Vamos por la iteración: 183\n",
      "La tupla de la peli Pure Gasoline no está completa: (None, None, None, None, None, None, 'Pure Gasoline') Vamos por la iteración: 184\n",
      "La tupla de la peli At Sixes and Sevens no está completa: (None, 'Hunter Hammond', 'Tim Bydder', '', 'Short', '8m', 'At Sixes and Sevens') Vamos por la iteración: 185\n",
      "Hemos añadido la peli A Family Affair a la lista sin tomatometer. Vamos por la iteración: 186.\n",
      "Hemos añadido la peli The Wandering Soap Opera a la lista sin tomatometer. Vamos por la iteración: 187.\n",
      "Hemos añadido la peli Joe Finds Grace a la lista sin tomatometer. Vamos por la iteración: 188.\n",
      "La tupla de la peli Reading Between the Lines no está completa: (None, None, None, None, None, '36m', 'Reading Between the Lines') Vamos por la iteración: 189\n",
      "Hemos añadido la peli The Only Living Boy in New York a la lista sin tomatometer. Vamos por la iteración: 190.\n",
      "Hemos añadido la peli Tulip Fever a la lista sin tomatometer. Vamos por la iteración: 191.\n",
      "Hemos añadido la peli Suburbicon a la lista sin tomatometer. Vamos por la iteración: 192.\n",
      "Hemos añadido la peli Rings a la lista sin tomatometer. Vamos por la iteración: 193.\n",
      "Hemos añadido la peli Caravaggio and My Mother the Pope a la lista sin tomatometer. Vamos por la iteración: 194.\n",
      "Hemos añadido la peli Drunk on Love a la lista sin tomatometer. Vamos por la iteración: 195.\n",
      "La tupla de la peli The Dot Man no está completa: ('7.4', 'Bruno Coppola', 'John Goodman', 'A highly decorated officer is betrayed by his own government after years of dedicated service to his country. A hero in the \"war on terror\" becomes imprisoned by the very policies put in place to combat the terrorists.', 'Drama', None, 'The Dot Man') Vamos por la iteración: 196\n",
      "La tupla de la peli Ghost Walk: The Harvest Ball no está completa: (None, 'Steve Olander', 'Rocky Karlage', 'First film for the beginning of \"The Ghost Walk Saga\" series of films - \"The Harvest Ball\" foreshadows the Dawson family film series \"The Ghost Walk Saga\". Nominated for \"Best Animation\" at the 2017 Finow Film Festival, Germany.', 'Short', '4m', 'Ghost Walk: The Harvest Ball') Vamos por la iteración: 197\n",
      "La tupla de la peli The Pursuit of Love no está completa: (None, 'Enoc Daniel Rodriguez', 'Enoc Daniel Rodriguez', \"Mini drama about 2 guys that feel love one for each other, but their parents don't accept that relationship, So they decide to escape together and thus be happy for an eternity.\", 'Short', None, 'The Pursuit of Love') Vamos por la iteración: 198\n",
      "Hemos añadido la peli Afternoon Clouds a la lista sin tomatometer. Vamos por la iteración: 199.\n",
      "La tupla de la peli Value no está completa: (None, 'EJ Levy', 'EJ LevyAidan Warren', \"While dealing with the death of his closest friend Cameron, Aidan, one of Cameron's oldest friends and room mate, suddenly starts to develop PTSD as he starts to recall the events that lead to Cameron's death.\", 'Short', '8m', 'Value') Vamos por la iteración: 200\n",
      "La tupla de la peli The Promise no está completa: (None, 'Edwine Dorival', 'Edwine Dorival', 'Jack, a music producer, is forced to leave his apartment following the sudden death of his son for which he is responsible.', 'Comedy\\nDrama\\nRomance', '1h 2m', 'The Promise') Vamos por la iteración: 201\n",
      "La tupla de la peli Looking Away no está completa: (None, 'Jacob Ramsay', 'Dimitar DimoskiJacob Ramsay', 'When a 9-year-old boy learns that his father has a mistress, he must decide whether or not to tell his mother.', 'Short', '13m', 'Looking Away') Vamos por la iteración: 202\n",
      "La tupla de la peli First Kiss no está completa: (None, None, None, None, None, '4m', 'First Kiss') Vamos por la iteración: 203\n",
      "Hemos añadido la peli Egise Taara Juvvalu a la lista sin tomatometer. Vamos por la iteración: 204.\n",
      "La tupla de la peli Ila Ayithe Ela no está completa: (None, 'P. Chandrasekhara Reddy', 'Mansi DovhalSurabhi PrabhuSantosh Samrat', '', 'Drama', None, 'Ila Ayithe Ela') Vamos por la iteración: 205\n",
      "La tupla de la peli Gusti no está completa: (None, None, None, None, None, '8m', 'Gusti') Vamos por la iteración: 206\n",
      "La tupla de la peli Crossing: 2036 no está completa: (None, 'Max Kleinman', 'Miriam MacipNathan Streifel', \"After a long journey through the harsh desert, a young woman finds herself suddenly alone, and in the enemy's sights.\", 'Short', '5m', 'Crossing: 2036') Vamos por la iteración: 207\n",
      "La tupla de la peli Stage 3 no está completa: (None, 'Erico Alessandro', 'Erico AlessandroÉrico Alessandro de Munhoz', '', 'Action', '1h 30m', 'Stage 3') Vamos por la iteración: 208\n",
      "La tupla de la peli New Breed no está completa: (None, None, None, None, None, None, 'New Breed') Vamos por la iteración: 209\n",
      "Hemos añadido la peli Rangu a la lista sin tomatometer. Vamos por la iteración: 210.\n",
      "La tupla de la peli Tasty no está completa: (None, 'Angelique Kenney', 'Michael J. DoleshalAngelique KenneyBrandon Burns Shirinski', 'Story of two strangers at a bus stop who start beating each other over tasty cookies.', 'Short', '7m', 'Tasty') Vamos por la iteración: 211\n",
      "La tupla de la peli The Little Guy Omega 4K no está completa: (None, None, None, None, None, None, 'The Little Guy Omega 4K') Vamos por la iteración: 212\n",
      "La tupla de la peli Two-Sixteen no está completa: (None, None, None, None, None, None, 'Two-Sixteen') Vamos por la iteración: 213\n",
      "Hemos añadido la peli Attack in LA a la lista sin tomatometer. Vamos por la iteración: 214.\n",
      "La tupla de la peli God of War: Full TV Commercial no está completa: ('9.4', 'Dominique Boidin', None, '', 'Animation', '1m', 'God of War: Full TV Commercial') Vamos por la iteración: 215\n",
      "La tupla de la peli Whirlpool no está completa: (None, 'Anmar Bajaba', 'Anmar Bajaba', \"When a musician's wife is killed, he decides to hunt her killer and in his path for vengeance he unravels web of deceit behind her death.\", 'Short', '14m', 'Whirlpool') Vamos por la iteración: 216\n",
      "La tupla de la peli The Glitch Effect no está completa: (None, 'Quan Minh Le', 'Quan Minh Le', '', 'Short', None, 'The Glitch Effect') Vamos por la iteración: 217\n",
      "La tupla de la peli Manovra 78 no está completa: (None, 'Davide Pagliaro', 'Giada BellottiNicholas GhigoGioele Mosconi', 'Rome, set of a spy movie: the three leading actresses, Sofia, Anna and Asia, not they succeed in completing the filming of the mother scene due to personal tensions. After the umpteenth wrong line the director decides to put in place a plan to do overcome women their limits and thus succeed in bringing the film home: closing them inside of the soundstage.', 'Short', '26m', 'Manovra 78') Vamos por la iteración: 218\n",
      "La tupla de la peli Gotham Knights: Fighters no está completa: (None, 'Timothy Drennan', 'Ryan MullinsBarry CliftonBradley Julian', '', 'Short', None, 'Gotham Knights: Fighters') Vamos por la iteración: 219\n",
      "La tupla de la peli Gotham Knights: All That's Left no está completa: (None, 'Timothy Drennan', 'Ryan MullinsBarry CliftonBradley Julian', '', 'Short', None, \"Gotham Knights: All That's Left\") Vamos por la iteración: 220\n",
      "La tupla de la peli Jane Rambo Daughter of the Jungle no está completa: (None, 'Augustus Omojowo Thomas', 'Peter OrjiAugustus Omojowo Thomas', '', 'Action', None, 'Jane Rambo Daughter of the Jungle') Vamos por la iteración: 221\n",
      "La tupla de la peli Deathstroke vs. Rai no está completa: (None, 'Trevor Telenko', 'Trevor TelenkoMavrick Vo', \"Two warriors from different universes, battle to the death. Who's side are you on?\", 'Short', '12m', 'Deathstroke vs. Rai') Vamos por la iteración: 222\n",
      "La tupla de la peli Clark Zhu's Moving Pictures 2018: Movie Trailer Mashup no está completa: (None, None, None, None, None, '6m', \"Clark Zhu's Moving Pictures 2018: Movie Trailer Mashup\") Vamos por la iteración: 223\n",
      "La tupla de la peli Take That Back no está completa: (None, 'Stuart Lunn', 'Stuart Lunn', '', 'Short', '12m', 'Take That Back') Vamos por la iteración: 224\n",
      "La tupla de la peli Unite no está completa: (None, 'David-Jan Bronsgeest', 'David-Jan Bronsgeest', 'During the riots in Paris in 2005, new police recruits from the impoverished suburbs wonder which camp they actually belong to: those of the French law enforcers or of their opposers.', 'Short', '12m', 'Unite') Vamos por la iteración: 225\n",
      "La tupla de la peli Robbers 3: Saved in Time no está completa: (None, None, None, None, None, '2018', 'Robbers 3: Saved in Time') Vamos por la iteración: 226\n",
      "La tupla de la peli Não Pare no está completa: (None, 'Bryce Myrah', 'Bryce Myrah', '', 'Short', '3m', 'Não Pare') Vamos por la iteración: 227\n",
      "La tupla de la peli Coins no está completa: (None, 'Shamus Kelley', 'Shamus KelleyDJ RiversSteven Zurita', 'Three friends finds a set of coins that gift them with incredible fighting skill. But can they handle the power? Ciara Hanna stars in COINS, a short featuring the newest Ranger replica coins now available from Starlight Studios.', 'Short', '6m', 'Coins') Vamos por la iteración: 228\n",
      "La tupla de la peli Operation Kingpin no está completa: (None, 'Harrison Cope', 'Harrison CopeKieran Geary', 'US Special Operations personnel are deployed on a mission to tackle terrorists.', 'Short', '7m', 'Operation Kingpin') Vamos por la iteración: 229\n",
      "La tupla de la peli Unlocked no está completa: (None, None, None, None, None, '7m', 'Unlocked') Vamos por la iteración: 230\n",
      "La tupla de la peli Blood Money no está completa: (None, 'Emlyn John', 'Ian Bell', 'A teacher lends money from a vicious gangster to help take care of his family. However, when he fails to return the payment on time, the consequences are severe.', 'Short', '15', 'Blood Money') Vamos por la iteración: 231\n",
      "La tupla de la peli The Sentinel no está completa: (None, 'Ian Bell', 'Enric To-Gassiot', \"When a young woman leaves a friend's party to go home, her evening takes a turn for the worst.\", 'Short', '3m', 'The Sentinel') Vamos por la iteración: 232\n",
      "La tupla de la peli (3)4th Street Hunter no está completa: (None, 'Rayce Lopez', 'Nathaniel FosterRayce LopezBeatriz Poves', '', 'Short', None, '(3)4th Street Hunter') Vamos por la iteración: 233\n",
      "La tupla de la peli The White Bandit no está completa: (None, None, None, None, None, '5m', 'The White Bandit') Vamos por la iteración: 234\n",
      "La tupla de la peli Happy Days no está completa: ('5.8', 'Milan Chams', 'Yam Thapa', 'A guy is desperate to go to London to settle his life, and when he finally gets there, he starts to fall in love with a girl.', 'Action', None, 'Happy Days') Vamos por la iteración: 235\n",
      "La tupla de la peli Arco no está completa: (None, 'Dom Soo', 'Stephen GiblerDom Soo', '', 'Short', '7m', 'Arco') Vamos por la iteración: 236\n",
      "La tupla de la peli Operation Generic: Reloaded no está completa: (None, 'Tyler Noose', 'Paul Meme', \"After Todd Johnson's daughter had been reportedly killed, he finds out information that persuades him to travel to Russia and kill Putin.\", 'Short', '10m', 'Operation Generic: Reloaded') Vamos por la iteración: 237\n",
      "Hemos añadido la peli Zor Oyun: Kapanmayan Hesap a la lista sin tomatometer. Vamos por la iteración: 238.\n",
      "La tupla de la peli Raw Paper no está completa: (None, None, None, None, None, None, 'Raw Paper') Vamos por la iteración: 239\n",
      "La tupla de la peli Super Smash Bros Stunt Tribute no está completa: (None, 'Micah Moore', 'Ben AycriggAlexander Hashioka OatfieldTang Nguyen', 'A practice session by a group of stuntmen goes viral when they pay homage to the Nintendo game \"Super Smash Bros.\" Director Micah Moore captures an action-packed and often-humorous battle between Mario (Ben Aycrigg), Link (Alex Hashioka), Captain Falcon (R Matthew Scheib) and Ness (Tang Ngyuen). The stunt tribute was praised by Super Smash Bros creator Masahiro Sakura... Read all', 'Short', '3m', 'Super Smash Bros Stunt Tribute') Vamos por la iteración: 240\n",
      "La tupla de la peli The App no está completa: (None, 'Jeremy Tichy', 'Jeremy Tichy', '', 'Short', None, 'The App') Vamos por la iteración: 241\n",
      "La tupla de la peli Secret Asian Man: Annihilation no está completa: (None, None, None, None, None, '16m', 'Secret Asian Man: Annihilation') Vamos por la iteración: 242\n",
      "La tupla de la peli Camp Fett Weg no está completa: ('9.2', 'Rick Garrido', 'Steven SchutoRick Garrido', '', 'Short', None, 'Camp Fett Weg') Vamos por la iteración: 243\n",
      "Hemos añadido la peli Ji yao zhuan a la lista sin tomatometer. Vamos por la iteración: 244.\n",
      "La tupla de la peli Wolverine Chronicles no está completa: (None, None, None, None, None, None, 'Wolverine Chronicles') Vamos por la iteración: 245\n",
      "La tupla de la peli Monster School: Minecraft Animation no está completa: ('8.5', 'Eben Ezer Purba', 'Eben Ezer PurbaKiara Alexa T. Tadic', '', 'Animation', None, 'Monster School: Minecraft Animation') Vamos por la iteración: 246\n",
      "Hemos añadido la peli Fight Back to School a la lista sin tomatometer. Vamos por la iteración: 247.\n",
      "La tupla de la peli The Utensilist no está completa: ('8.4', None, None, None, None, '8m', 'The Utensilist') Vamos por la iteración: 248\n",
      "La tupla de la peli How Heros Die no está completa: (None, \"Colin O'Lear\", \"Colin O'Lear\", \"Adopted brothers kill the enemy of the city's most notorious gang boss and are forced into hiding with an entire city looking for them.\", 'Short', '12m', 'How Heros Die') Vamos por la iteración: 249\n",
      "La tupla de la peli Osu 3 no está completa: (None, 'Vlad Rimburg', 'Vlad Rimburg', '', 'Short', None, 'Osu 3') Vamos por la iteración: 250\n",
      "Hemos añadido la peli Snatch Up a la lista sin tomatometer. Vamos por la iteración: 251.\n",
      "La tupla de la peli A Thin Life no está completa: (None, None, None, None, None, '1h 15m', 'A Thin Life') Vamos por la iteración: 252\n",
      "Hemos añadido la peli Super Troopers 2 a la lista sin tomatometer. Vamos por la iteración: 253.\n",
      "La tupla de la peli Spice du Jour - Rencontre avec Nathan Bright B.C no está completa: (None, 'Olivier Aubé', \"Marc-André L'Abbée\", '', 'Short', None, 'Spice du Jour - Rencontre avec Nathan Bright B.C') Vamos por la iteración: 254\n",
      "La tupla de la peli The Mind's Eye no está completa: (None, 'Gabriela Buchanan', 'Craig ThorpeBen Wood', 'A man struggles to separate his fantasies from everyday life.', 'Short', None, \"The Mind's Eye\") Vamos por la iteración: 255\n",
      "La tupla de la peli The Promise no está completa: (None, 'George Loizou', 'George Loizou', \"A typical teenage boy hooked on drugs but not the type you'd expect to see. As his life progresses on does he continue his old habits or break out of them and make something new of himself?\", 'Short', '4m', 'The Promise') Vamos por la iteración: 256\n",
      "Hemos añadido la peli Moscas a la lista sin tomatometer. Vamos por la iteración: 257.\n",
      "La tupla de la peli Five Months no está completa: (None, 'Dan Sloan', 'Dan SloanAndrew J Taylor', '', 'Short', '9m', 'Five Months') Vamos por la iteración: 258\n",
      "La tupla de la peli Inspect The Unexpected no está completa: (None, 'Wayne Wilde', 'Adele Robinson RodriguezWayne Wilde', '', 'Short', None, 'Inspect The Unexpected') Vamos por la iteración: 259\n",
      "La tupla de la peli This Is Film Center no está completa: (None, None, None, None, None, None, 'This Is Film Center') Vamos por la iteración: 260\n",
      "La tupla de la peli Robbers no está completa: (None, 'Wayne Wilde', 'Adele Robinson Rodriguez', '', 'Short', None, 'Robbers') Vamos por la iteración: 261\n",
      "La tupla de la peli Stuck no está completa: (None, 'Sherry Rashidan', 'Sherry Rashidan', 'Leo feels like his life is dull and repetitive. After a strange encounter with a whimsical little girl on the morning of his birthday, he experiences the true meaning of feeling stuck.', 'Short', None, 'Stuck') Vamos por la iteración: 262\n",
      "La tupla de la peli The Committee no está completa: (None, 'Matej Chlupacek', 'John Torrie', 'Panic hits the quiet English town of Middleswick when an old woman paints her house bright pink. At an emergency meeting, you have a seat at the table and a perfect view of the action as tempers flare and hilarity unfolds in this brilliant VR comedy.', 'Short', '10m', 'The Committee') Vamos por la iteración: 263\n",
      "La tupla de la peli Skin Deep no está completa: (None, 'Stacey Bernstein', None, '', 'Short', None, 'Skin Deep') Vamos por la iteración: 264\n",
      "La tupla de la peli Starcasters! no está completa: (None, 'Rosey Tyler', 'Barbara-Audrey BergeronLena BurmenkoJohn Krissilas', 'New Casting Directors, Joanne and Amanda, have landed their first major motion picture client and are excited to share their process with you as they cast for the child star of the film.', 'Short', '8m', 'Starcasters!') Vamos por la iteración: 265\n",
      "La tupla de la peli Freddy no está completa: (None, 'Aubrey Arnason', 'Aubrey ArnasonTom Belding', 'The last fish in the world is served to a motley crew of customers at a small family run restaurant in Fredricton, New Brunswick.', 'Short', '30m', 'Freddy') Vamos por la iteración: 266\n",
      "La tupla de la peli The Big Pop no está completa: (None, 'Heather Bowry', 'Alex Perry', '', 'Short', None, 'The Big Pop') Vamos por la iteración: 267\n",
      "La tupla de la peli Night of the Dead Geisha no está completa: (None, 'Kiyoto Naruse', 'Kirari Tanaka', '', 'Comedy', '48m', 'Night of the Dead Geisha') Vamos por la iteración: 268\n",
      "La tupla de la peli Phebe's Crush no está completa: (None, 'Kevin Ryan Williams', 'Jessica Munna', '', 'Short', None, \"Phebe's Crush\") Vamos por la iteración: 269\n",
      "La tupla de la peli The Supreme Court no está completa: (None, 'Brian T. Elliott', 'Brian T. Elliott', 'An elite group of men known as The Supreme Court are tasked to determine whether or not Griffon Cavanaugh is Supreme Court material. This elite group has a few firm requirements to be granted membership. The court has taken it upon themselves to undergo an investigation on Griffon to determine his eligibility.', 'Short', '10m', 'The Supreme Court') Vamos por la iteración: 270\n",
      "La tupla de la peli Artificial Intelligence no está completa: (None, 'Joey Burke', 'Joey BurkeJacob Thomas', \"Master Stevenson's robot slave, Joshua, feels mistreated by his master and little does he know Master Stevenson has plans unknown to Joshua that later cause him to do the unthinkable.\", 'Short', '5m', 'Artificial Intelligence') Vamos por la iteración: 271\n",
      "La tupla de la peli The Adventures of Smokey the Twink and Mark O'Rubio: The Movie no está completa: (None, 'Dan Scholin', 'Dan Scholin', '', 'Short', '10m', \"The Adventures of Smokey the Twink and Mark O'Rubio: The Movie\") Vamos por la iteración: 272\n",
      "La tupla de la peli Naughty Mr. Claus no está completa: (None, 'Bryce Christopher', 'Bryce Christopher', \"The North Pole is melting due to Global Warming and Santa must save it before it's too late. In order to do so, he seeks help from his estranged daughter (Sam) who works at the EPA. However, Santa's morals are tested entering the political world. As, he and Sam work together to get an extremely important environmental bill passed. Yet, in the end, he realizes that som... Read all\", 'Short', None, 'Naughty Mr. Claus') Vamos por la iteración: 273\n",
      "La tupla de la peli You Wanna Pizza Me no está completa: (None, 'Liam Cowles', 'Liam Cowles', 'Three guys. Two fight it out for the last piece of pizza while the third chills out in the toilet.', 'Short', '3m', 'You Wanna Pizza Me') Vamos por la iteración: 274\n",
      "La tupla de la peli De oom op zoek naar mysterie (The Uncle in Search of Mystery) no está completa: (None, None, None, None, None, '7m', 'De oom op zoek naar mysterie (The Uncle in Search of Mystery)') Vamos por la iteración: 275\n",
      "La tupla de la peli 9862 no está completa: (None, 'Giles Greenwood', 'Jon Digby', \"9862 is a black , close-to-the-bone comedy which deals with issues of vulnerability and desperation and how people's problems can really escalate if they are not dealt with properly.\", 'Short', '11m', '9862') Vamos por la iteración: 276\n",
      "La tupla de la peli Je suis la dernière scène no está completa: (None, 'Michaël Estarque', 'Michaël Estarque', '', 'Short', '2m', 'Je suis la dernière scène') Vamos por la iteración: 277\n",
      "La tupla de la peli Brett's Package no está completa: (None, 'Charles Townsend', 'Matthew FeldhausTimothy TakeuchiRosanne Hinshaw', 'A young man spends his day inside and separate from the world. An accident occurs, leaving him at the mercy of a package thief.', 'Short', '5m', \"Brett's Package\") Vamos por la iteración: 278\n",
      "La tupla de la peli Pur laine no está completa: (None, 'Alexander Cruz', 'Alexander Cruz', 'When Roy, an elderly Quebecois, suddenly keels over after an afternoon of hard drinking, his Filipina wife Ruby is left to figure out how she and her son Levi are going to survive.', 'Comedy', '1h 28m', 'Pur laine') Vamos por la iteración: 279\n",
      "La tupla de la peli Still Moves no está completa: (None, '92%', 'Daniel Freeman', 'Daniel Freeman', 'Edison Jones, a small town street performer and visual artist, meanders through life while trying to build The Experimental Institute of Eastern Californiart. Through the lens of a documentarian, we see Edison in his hometown of Nevada City, California and later on a reflective road trip to Reno, Nevada.', 'Short', None, 'Still Moves') Vamos por la iteración: 280\n",
      "La tupla de la peli The Love Story of Kosher no está completa: (None, None, None, None, None, '11m', 'The Love Story of Kosher') Vamos por la iteración: 281\n",
      "La tupla de la peli Jonny's Cooking Garage no está completa: (None, 'Jon Escobar', 'Jon Escobar', 'Follows a middle aged mentally unstable man \"Jonny (Garage) Barnabus\" who attempts to create a DIY cooking show within his own garage with little to no money. The style and genre I aimed for in this project, follows the lines of dark comedy, satire and found footage.', 'Short', '10m', \"Jonny's Cooking Garage\") Vamos por la iteración: 282\n",
      "La tupla de la peli Bringing Up Bobby no está completa: (None, 'Amanda Haas', 'Amanda Haas', \"Mallory finds out she is pregnant at her boyfriend's house party the night before their graduation. When she tells her boyfriend Sully, he is less than ecstatic. Their fears are pushed to the back burner when the couple is forced to take care of Sully's inebriated best friend Bob. Just when they think they've put him down for bed, he escapes his room into the world un... Read all\", 'Short', None, 'Bringing Up Bobby') Vamos por la iteración: 283\n",
      "La tupla de la peli Metta World Teeth no está completa: (None, 'Nik Harper', 'Nik HarperJesse Lamar High', 'An interview with Metta World Peace in 2011 leads to an impromptu discussion about teeth.', 'Short', '3m', 'Metta World Teeth') Vamos por la iteración: 284\n",
      "La tupla de la peli Jeremiah's Woods no está completa: (None, 'William Stancik', 'William Stancik', 'A man goes with his friends to bury his dog in the woods, where they encounter a malevolent resident.', 'Comedy', '1h 23m', \"Jeremiah's Woods\") Vamos por la iteración: 285\n",
      "Hemos añadido la peli Au Revoir Paris a la lista sin tomatometer. Vamos por la iteración: 286.\n",
      "Hemos añadido la peli About A Short Film a la lista sin tomatometer. Vamos por la iteración: 287.\n",
      "Hemos añadido la peli The Other Side of the Wind a la lista sin tomatometer. Vamos por la iteración: 288.\n",
      "Hemos añadido la peli Reverse Heaven a la lista sin tomatometer. Vamos por la iteración: 289.\n",
      "Hemos añadido la peli To Chase a Million a la lista sin tomatometer. Vamos por la iteración: 290.\n",
      "Hemos añadido la peli Aamaar Bhuvan a la lista sin tomatometer. Vamos por la iteración: 291.\n",
      "Hemos añadido la peli Fahrenheit 451 a la lista completa. Vamos por la iteración: 292.\n",
      "Hemos añadido la peli Nappily Ever After a la lista sin tomatometer. Vamos por la iteración: 293.\n",
      "Hemos añadido la peli A Million Little Pieces a la lista sin tomatometer. Vamos por la iteración: 294.\n",
      "Hemos añadido la peli Back Roads a la lista sin tomatometer. Vamos por la iteración: 295.\n",
      "La tupla de la peli Menace Commune no está completa: (None, 'James Barth Kabuya', 'James Barth Kabuya', '', 'Short', None, 'Menace Commune') Vamos por la iteración: 296\n",
      "La tupla de la peli Kadogo no está completa: (None, 'Pacifique Aganze Tabaro', 'Pacifique Aganze Tabaro', '', 'Short', None, 'Kadogo') Vamos por la iteración: 297\n",
      "La tupla de la peli Neon Passion no está completa: (None, 'Paul K.V', 'Paul K.V', '', 'Short', None, 'Neon Passion') Vamos por la iteración: 298\n",
      "La tupla de la peli Brotherly Love no está completa: (None, 'S.A. Brown', 'Kyon Edwards', \"Rodney goes to a party and end up getting kidnapped by Queen the drug lord. Queen decided to hold Rodney for ransom. And if Queen doesn't get her money from his brother she is going to kill Rodney.\", 'Short', None, 'Brotherly Love') Vamos por la iteración: 299\n",
      "La tupla de la peli A Bloc no está completa: (None, 'Hugues Espinasse', 'Hugues EspinasseNicolas Robin', '', 'Short', '10m', 'A Bloc') Vamos por la iteración: 300\n"
     ]
    }
   ],
   "source": [
    "# Llamamos a todas las funciones para extraer los datos\n",
    "\n",
    "driver1 = None\n",
    "driver1 = abrir_navegador(driver1, url_imdb, selector_cookies_imdb)\n",
    "\n",
    "driver2 = None\n",
    "driver2 = abrir_navegador(driver2, url_google, selector_cookies_google)\n",
    "\n",
    "contador = 0 # Creamos un contador para saber por que iteración vamos\n",
    "on_off = True # Creamos un botón de on off para pasar el valor a la función acepta_cookies\n",
    "\n",
    "'''\n",
    "Maíra: 0:50, 200:400 ok, next = 700:1000\n",
    "Yami: 50:100\n",
    "Laura: 100:150\n",
    "Carolina: 190:200\n",
    "'''\n",
    "\n",
    "# Iterar por los ids_imdbs para pasarlos por el campo search de la web de imdb:\n",
    "for peli in resultado_tuplas_total[700:1000]:\n",
    "    id_imdb = peli[-1]\n",
    "    nombre = peli[1]\n",
    "\n",
    "    # Pasamos el id_imdb al buscador de imdb\n",
    "    driver1.find_element(\"css selector\", \"#suggestion-search\").send_keys(id_imdb, Keys.ENTER)\n",
    "    sleep(10)\n",
    "\n",
    "    # Extraímos los datos de imdb\n",
    "    imdb_rating = extrae_datos(selector_imdb_rating, driver1)\n",
    "    direccion = extrae_datos(selector_direccion, driver1)\n",
    "    guionista = extrae_datos(selector_guionista, driver1)\n",
    "    argumento = extrae_datos(selector_argumento, driver1)\n",
    "    genero = extrae_datos(selector_genero, driver1)\n",
    "    duracion = extrae_datos(selector_duracion, driver1)\n",
    "    nombre = extrae_datos(selector_nombre, driver1)\n",
    "\n",
    "    # Extraímos el tomatometer\n",
    "    pinchar_google = clica_primer_result_ggle(selector_primer_result_ggle, driver2, id_imdb, nombre)\n",
    "    if pinchar_google:\n",
    "        acepta_cookies(driver2, on_off)\n",
    "        tomatometer = extrae_tomato(selector_tomatometer, driver2, id_imdb, nombre)\n",
    "    else:\n",
    "        tomatometer = None\n",
    "        \n",
    "    # Creamos la tupla y la añadimos a la lista que corresponda (completa o sin tomatometer)\n",
    "    if tomatometer:\n",
    "        tupla = imdb_rating, tomatometer, direccion, guionista, argumento, genero, duracion, nombre\n",
    "        if None in tupla:\n",
    "            contador += 1\n",
    "            print(f\"La tupla de la peli {nombre} no está completa: {tupla} Vamos por la iteración: {contador}\")\n",
    "        else:\n",
    "            resultados_completos.append(tupla)\n",
    "            contador += 1\n",
    "            print(f\"Hemos añadido la peli {nombre} a la lista completa. Vamos por la iteración: {contador}.\")\n",
    "    else:\n",
    "        tupla = imdb_rating, direccion, guionista, argumento, genero, duracion, nombre\n",
    "        if None in tupla:\n",
    "            contador += 1\n",
    "            print(f\"La tupla de la peli {nombre} no está completa: {tupla} Vamos por la iteración: {contador}\")\n",
    "        else:\n",
    "            tupla = imdb_rating, tomatometer, direccion, guionista, argumento, genero, duracion, nombre\n",
    "            resultados_sin_tomatometer.append(tupla)\n",
    "            contador += 1\n",
    "            print(f\"Hemos añadido la peli {nombre} a la lista sin tomatometer. Vamos por la iteración: {contador}.\")\n",
    "\n",
    "driver1.close()\n",
    "driver2.close()"
   ]
  },
  {
   "cell_type": "code",
   "execution_count": 353,
   "metadata": {},
   "outputs": [
    {
     "data": {
      "text/plain": [
       "167"
      ]
     },
     "execution_count": 353,
     "metadata": {},
     "output_type": "execute_result"
    }
   ],
   "source": [
    "len(resultados_sin_tomatometer)"
   ]
  },
  {
   "cell_type": "code",
   "execution_count": 354,
   "metadata": {},
   "outputs": [
    {
     "data": {
      "text/plain": [
       "5"
      ]
     },
     "execution_count": 354,
     "metadata": {},
     "output_type": "execute_result"
    }
   ],
   "source": [
    "len(resultados_completos)"
   ]
  },
  {
   "cell_type": "code",
   "execution_count": 319,
   "metadata": {},
   "outputs": [
    {
     "data": {
      "text/plain": [
       "('5.9',\n",
       " '40%',\n",
       " 'Anthony Hemingway',\n",
       " 'John Ridley',\n",
       " 'A crew of African American pilots in the Tuskegee training program, having faced segregation while kept mostly on the ground during World War II, are called into duty under the guidance of Col. A.J. Bullard.',\n",
       " 'Action\\nDrama\\nHistory',\n",
       " '2h 5m',\n",
       " 'Red Tails')"
      ]
     },
     "execution_count": 319,
     "metadata": {},
     "output_type": "execute_result"
    }
   ],
   "source": [
    "resultados_completos[-1]"
   ]
  },
  {
   "cell_type": "code",
   "execution_count": 145,
   "metadata": {},
   "outputs": [],
   "source": [
    "# Se tarda aproximadamente 33 minutos para extraer 50 peliculas.\n",
    "# Se tarda aproximadamente 67 minutos para extraer 100 peliculas."
   ]
  },
  {
   "cell_type": "code",
   "execution_count": 355,
   "metadata": {},
   "outputs": [],
   "source": [
    "# Guardar los datos de manera permanente\n",
    "df_resultados_completos = pd.DataFrame(resultados_completos)\n",
    "df_resultados_sin_tomatometer = pd.DataFrame(resultados_sin_tomatometer)\n",
    "# df_errores = pd.DataFrame(not_found)\n",
    "df_resultados_completos.to_csv('resultados_completos_F2_maira_544-1000.csv') # Cambiar nombre !!! \n",
    "df_resultados_sin_tomatometer.to_csv('resultados_sin_tomatometer_F2_maira_544-1000.csv')\n",
    "# df_errores.to_csv('errores_F2_maira_544-1000.csv')\n",
    "df_resultados_completos.to_json('resultados_completos_F2_maira_544-1000.json') \n",
    "df_resultados_sin_tomatometer.to_json('resultados_sin_tomatometer_F2_maira_544-1000.json')\n",
    "# df_errores.to_json('errores_F2_maira_544-1000.json')"
   ]
  },
  {
   "cell_type": "code",
   "execution_count": 373,
   "metadata": {},
   "outputs": [],
   "source": [
    "# Función para concatenar las extracciones en un solo csv\n",
    "\n",
    "# def concatena_csv(archivo_csv):\n",
    "df_completo = pd.read_csv('CSV_JSON_F2/Maira/resultados_sin_tomatometer_F2_maira_0-50_200-543.csv', index_col=0)\n"
   ]
  },
  {
   "cell_type": "code",
   "execution_count": 374,
   "metadata": {},
   "outputs": [],
   "source": [
    "df_completo_1 = pd.read_csv('resultados_sin_tomatometer_F2_maira_544-1000.csv', index_col=0)\n"
   ]
  },
  {
   "cell_type": "code",
   "execution_count": 375,
   "metadata": {},
   "outputs": [
    {
     "name": "stdout",
     "output_type": "stream",
     "text": [
      "<class 'pandas.core.frame.DataFrame'>\n",
      "Index: 167 entries, 0 to 166\n",
      "Data columns (total 8 columns):\n",
      " #   Column  Non-Null Count  Dtype  \n",
      "---  ------  --------------  -----  \n",
      " 0   0       167 non-null    float64\n",
      " 1   1       0 non-null      float64\n",
      " 2   2       167 non-null    object \n",
      " 3   3       167 non-null    object \n",
      " 4   4       160 non-null    object \n",
      " 5   5       167 non-null    object \n",
      " 6   6       167 non-null    object \n",
      " 7   7       167 non-null    object \n",
      "dtypes: float64(2), object(6)\n",
      "memory usage: 11.7+ KB\n"
     ]
    }
   ],
   "source": [
    "df_completo_1.info()"
   ]
  },
  {
   "cell_type": "code",
   "execution_count": 376,
   "metadata": {},
   "outputs": [
    {
     "name": "stdout",
     "output_type": "stream",
     "text": [
      "<class 'pandas.core.frame.DataFrame'>\n",
      "Index: 172 entries, 0 to 171\n",
      "Data columns (total 8 columns):\n",
      " #   Column  Non-Null Count  Dtype  \n",
      "---  ------  --------------  -----  \n",
      " 0   0       172 non-null    float64\n",
      " 1   1       0 non-null      float64\n",
      " 2   2       172 non-null    object \n",
      " 3   3       172 non-null    object \n",
      " 4   4       168 non-null    object \n",
      " 5   5       172 non-null    object \n",
      " 6   6       172 non-null    object \n",
      " 7   7       172 non-null    object \n",
      "dtypes: float64(2), object(6)\n",
      "memory usage: 12.1+ KB\n"
     ]
    }
   ],
   "source": [
    "df_completo.info()"
   ]
  },
  {
   "cell_type": "code",
   "execution_count": 377,
   "metadata": {},
   "outputs": [],
   "source": [
    "df_concatenado = pd.concat([df_completo, df_completo_1], ignore_index=True)"
   ]
  },
  {
   "cell_type": "code",
   "execution_count": 379,
   "metadata": {},
   "outputs": [
    {
     "name": "stdout",
     "output_type": "stream",
     "text": [
      "<class 'pandas.core.frame.DataFrame'>\n",
      "RangeIndex: 339 entries, 0 to 338\n",
      "Data columns (total 8 columns):\n",
      " #   Column  Non-Null Count  Dtype  \n",
      "---  ------  --------------  -----  \n",
      " 0   0       339 non-null    float64\n",
      " 1   1       0 non-null      float64\n",
      " 2   2       339 non-null    object \n",
      " 3   3       339 non-null    object \n",
      " 4   4       328 non-null    object \n",
      " 5   5       339 non-null    object \n",
      " 6   6       339 non-null    object \n",
      " 7   7       339 non-null    object \n",
      "dtypes: float64(2), object(6)\n",
      "memory usage: 21.3+ KB\n"
     ]
    }
   ],
   "source": [
    "df_concatenado.info()"
   ]
  },
  {
   "cell_type": "code",
   "execution_count": 380,
   "metadata": {},
   "outputs": [],
   "source": [
    "df_concatenado.to_csv('resultados_sintomato_final_maira.csv')"
   ]
  },
  {
   "cell_type": "code",
   "execution_count": null,
   "metadata": {},
   "outputs": [],
   "source": [
    "# Puntuacion de IMDB (en caso de que la tenga).\n",
    "\n",
    "# Puntuación de Rotten Tomatoes (Tomatometer).\n",
    "\n",
    "# Dirección (director/a o directore/as de cada película).\n",
    "\n",
    "# Gionistas (de cada película).\n",
    "\n",
    "# Argumento.\n",
    "\n",
    "# Duración. >> Tal cuál está \n",
    "\n",
    "# Nombre de la película\n",
    "\n",
    "# Genero !!! \n",
    "\n",
    "# NOTA: La información de la API deberá ser almacenada en una lista de tuplas. Cada tupla corresponderá a una película. Siguiendo el siguiente ejemplo:\n",
    "\n",
    "# [(7.7, 77, \"Richard Donner\", [\"Chris ColumbusSteven\", \"Spielberg\"], \"Los Goonies son un grupo de amigos que viven en Goon Docks, Astoria, pero sus casas han sido compradas y van a ser demolidas. Sin embargo, vivirán su última aventura en busca de un tesoro que pueda salvar el barrio.\", \"Aventura\", \"1h 54min\", \"Los Gonnies\"), ...]"
   ]
  },
  {
   "cell_type": "code",
   "execution_count": null,
   "metadata": {},
   "outputs": [],
   "source": [
    "# CSV_JSON_F2/todas_extracciones/resultados_completos_F2_carolina_0-39.csv\n",
    "# CSV_JSON_F2/todas_extracciones/resultados_completos_F2_carolina_190-200.csv\n",
    "# CSV_JSON_F2/todas_extracciones/resultados_completos_F2_yami_50-100.csv\n",
    "# CSV_JSON_F2/todas_extracciones/resultados_completos_F2_yami_2000-2200.csv\n",
    "# CSV_JSON_F2/todas_extracciones/resultados_completos_F2_yami_2200-2400.csv"
   ]
  }
 ],
 "metadata": {
  "kernelspec": {
   "display_name": "base",
   "language": "python",
   "name": "python3"
  },
  "language_info": {
   "codemirror_mode": {
    "name": "ipython",
    "version": 3
   },
   "file_extension": ".py",
   "mimetype": "text/x-python",
   "name": "python",
   "nbconvert_exporter": "python",
   "pygments_lexer": "ipython3",
   "version": "3.11.7"
  }
 },
 "nbformat": 4,
 "nbformat_minor": 2
}
