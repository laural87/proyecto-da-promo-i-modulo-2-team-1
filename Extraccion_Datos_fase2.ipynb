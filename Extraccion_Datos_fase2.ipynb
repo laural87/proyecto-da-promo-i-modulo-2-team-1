{
 "cells": [
  {
   "cell_type": "markdown",
   "metadata": {},
   "source": [
    "# Fase 2"
   ]
  },
  {
   "cell_type": "code",
   "execution_count": 1,
   "metadata": {},
   "outputs": [],
   "source": [
    "# Importar librerías para tratamiento de datos\n",
    "# -----------------------------------------------------------------------\n",
    "import pandas as pd  \n",
    "\n",
    "# Importar librerías para web scraping y manipulación de datos\n",
    "# -----------------------------------------------------------------------\n",
    "from bs4 import BeautifulSoup\n",
    "import requests\n",
    "\n",
    "# Importar librerías para automatización de navegadores web con Selenium\n",
    "# -----------------------------------------------------------------------\n",
    "from selenium import webdriver  \n",
    "from webdriver_manager.chrome import ChromeDriverManager  \n",
    "from selenium.webdriver.common.keys import Keys  \n",
    "from selenium.webdriver.support.ui import Select \n",
    "\n",
    "# Importar librerías para pausar la ejecución\n",
    "# -----------------------------------------------------------------------\n",
    "from time import sleep  \n"
   ]
  },
  {
   "cell_type": "markdown",
   "metadata": {},
   "source": [
    "# Código para cargar y concatenar los resultados de las extracciones de la Fase 1"
   ]
  },
  {
   "cell_type": "code",
   "execution_count": 56,
   "metadata": {},
   "outputs": [],
   "source": [
    "# Trasladar todas las tuplas del diccionario a una sola lista\n",
    "# Paso 1: guardar datos de cada extracción en variables \n",
    "\n",
    "extracion_maira = pd.read_json('CSV_JSON/datos_filtrados_2010_2024.json')\n",
    "extracion_yami = pd.read_json('CSV_JSON/datos_filtrados_Yami_2010_2024.json')\n",
    "extracion_carolina = pd.read_json('CSV_JSON/datos_filtrados_2010_2024_carolina.json')\n",
    "extracion_laura = pd.read_json('CSV_JSON/datos_filtrados_2010_2024_laura.json')\n"
   ]
  },
  {
   "cell_type": "code",
   "execution_count": 57,
   "metadata": {},
   "outputs": [],
   "source": [
    "# Paso 2: Creamos una función para iterar por cada variable para guardar los datos en listas de tuplas\n",
    "\n",
    "def itera_variables(extracion):\n",
    "    anios = [i for i in range(2010, 2025)]\n",
    "    generos = ['Action', 'Comedy', 'Drama']\n",
    "    resultados_tuplas = []\n",
    "\n",
    "    for anio in anios:\n",
    "        for genero in generos:\n",
    "            for tupla in extracion[anio][genero]:\n",
    "                resultados_tuplas.append(tuple(tupla))\n",
    "\n",
    "    return resultados_tuplas"
   ]
  },
  {
   "cell_type": "code",
   "execution_count": 58,
   "metadata": {},
   "outputs": [],
   "source": [
    "# Concatenamos todas las listas\n",
    "resultado_tuplas_total = itera_variables(extracion_maira) + itera_variables(extracion_yami) + itera_variables(extracion_carolina) + itera_variables(extracion_laura)"
   ]
  },
  {
   "cell_type": "code",
   "execution_count": 61,
   "metadata": {},
   "outputs": [
    {
     "data": {
      "text/plain": [
       "17395"
      ]
     },
     "execution_count": 61,
     "metadata": {},
     "output_type": "execute_result"
    }
   ],
   "source": [
    "len(resultado_tuplas_total)"
   ]
  },
  {
   "cell_type": "code",
   "execution_count": 60,
   "metadata": {},
   "outputs": [
    {
     "data": {
      "text/plain": [
       "[('Movie', 'Tekken', 2010, 3, 'tt0411951'),\n",
       " ('Movie', 'Venus & Vegas', 2010, 11, 'tt0423474'),\n",
       " ('Movie', 'The A-Team', 2010, 6, 'tt0429493'),\n",
       " ('Movie', 'Segurança Nacional', 2010, 5, 'tt0439801'),\n",
       " ('Movie', 'Scott Pilgrim vs. the World', 2010, 11, 'tt0446029'),\n",
       " ('Movie', 'Taken by Force', 2010, None, 'tt0465637'),\n",
       " ('Movie', 'Guns, Drugs and Dirty Money', 2011, None, 'tt0464032'),\n",
       " ('Movie', 'Komaram Puli', 2010, 9, 'tt0464162'),\n",
       " ('Movie', 'Prince of Persia: The Sands of Time', 2010, 5, 'tt0473075'),\n",
       " ('Movie', 'Unstoppable', 2010, 12, 'tt0477080')]"
      ]
     },
     "execution_count": 60,
     "metadata": {},
     "output_type": "execute_result"
    }
   ],
   "source": [
    "resultado_tuplas_total[:10]"
   ]
  },
  {
   "cell_type": "code",
   "execution_count": 62,
   "metadata": {},
   "outputs": [
    {
     "name": "stdout",
     "output_type": "stream",
     "text": [
      "Se ha encontrado 2401 elementos repetidos\n",
      "Tras remover las tuplas repetidas, nuestra lista se quedó con 14994 elementos.\n"
     ]
    }
   ],
   "source": [
    "# Verificar que no haya elementos repetidos\n",
    "# Crear un conjunto vacío\n",
    "elementos_vistos = set()\n",
    "\n",
    "# Verificar duplicados\n",
    "contador = 0\n",
    "for elemento in resultado_tuplas_total:\n",
    "    if elemento in elementos_vistos:\n",
    "        contador += 1\n",
    "        resultado_tuplas_total.remove(elemento)\n",
    "    elementos_vistos.add(elemento)\n",
    "    \n",
    "print(f\"Se ha encontrado {contador} elementos repetidos\")\n",
    "print(f\"Tras remover las tuplas repetidas, nuestra lista se quedó con {len(resultado_tuplas_total)} elementos.\")"
   ]
  },
  {
   "cell_type": "code",
   "execution_count": 66,
   "metadata": {},
   "outputs": [],
   "source": [
    "# Guardar lista final de manera permanente\n",
    "df_final = pd.DataFrame(resultado_tuplas_total)\n",
    "df_final[2] = df_final[2].astype('Int64')\n",
    "df_final[3] = df_final[3].astype('Int64')\n",
    "df_final.to_csv('resultado_tuplas_total.csv', index=False)\n",
    "df_final.to_json('resultado_tuplas_total.json')"
   ]
  },
  {
   "cell_type": "markdown",
   "metadata": {},
   "source": [
    "# Código para recuperar la lista final de tuplas"
   ]
  },
  {
   "cell_type": "code",
   "execution_count": 3,
   "metadata": {},
   "outputs": [],
   "source": [
    "resultado_tuplas_total = pd.read_csv('resultado_tuplas_total.csv', header=None) # Ejecutar a partir de aquí"
   ]
  },
  {
   "cell_type": "code",
   "execution_count": 4,
   "metadata": {},
   "outputs": [],
   "source": [
    "resultado_tuplas_total = [tuple(fila) for fila in resultado_tuplas_total.values]\n",
    "resultado_tuplas_total = resultado_tuplas_total[1:]"
   ]
  },
  {
   "cell_type": "code",
   "execution_count": 171,
   "metadata": {},
   "outputs": [
    {
     "data": {
      "text/plain": [
       "14994"
      ]
     },
     "execution_count": 171,
     "metadata": {},
     "output_type": "execute_result"
    }
   ],
   "source": [
    "len(resultado_tuplas_total)"
   ]
  },
  {
   "cell_type": "code",
   "execution_count": 284,
   "metadata": {},
   "outputs": [
    {
     "name": "stdout",
     "output_type": "stream",
     "text": [
      "tt1309561\n",
      "Lamhaa: The Untold Story of Kashmir\n"
     ]
    }
   ],
   "source": [
    "for peli in resultado_tuplas_total[150:]: # Prueba: Iterando para extraer el id_imdb y el nombre \n",
    "    id_imdb = peli[-1]\n",
    "    nombre = peli[1]\n",
    "    print(id_imdb)\n",
    "    print(nombre)\n",
    "    break\n",
    "    "
   ]
  },
  {
   "cell_type": "code",
   "execution_count": 154,
   "metadata": {},
   "outputs": [
    {
     "data": {
      "text/plain": [
       "'tt1309561 Lamhaa: The Untold Story of Kashmir tomatometer'"
      ]
     },
     "execution_count": 154,
     "metadata": {},
     "output_type": "execute_result"
    }
   ],
   "source": [
    "search_tomato = id_imdb + ' ' + nombre + ' ' + 'tomatometer' # Creación de una variable con el contenido de la búsqueda para Rotten Tomatoes\n",
    "search_tomato"
   ]
  },
  {
   "cell_type": "code",
   "execution_count": 167,
   "metadata": {},
   "outputs": [],
   "source": [
    "# Creación de la variables que vamos a usar en la extración con Selenium\n",
    "url_imdb = \"https://www.imdb.com/\"\n",
    "url_rotten = \"https://www.rottentomatoes.com/\"\n",
    "url_google = 'https://www.google.com/'\n",
    "selector_cookies_imdb = \"#__next > div > div > div.sc-jrcTuL.bPmWiM > div > button.icb-btn.sc-bcXHqe.sc-dkrFOg.sc-iBYQkv.dcvrLS.ddtuHe.dRCGjd\"\n",
    "selector_cookies_google = \"#L2AGLb > div\""
   ]
  },
  {
   "cell_type": "code",
   "execution_count": 248,
   "metadata": {},
   "outputs": [],
   "source": [
    "# Creacción de las listas donde vamos a almacenar los resultados de la extración.\n",
    "resultados_completos = []\n",
    "resultados_sin_tomatometer = []\n",
    "not_found = []"
   ]
  },
  {
   "cell_type": "code",
   "execution_count": 188,
   "metadata": {},
   "outputs": [],
   "source": [
    "# Creamos una función para abrir los navegadores \n",
    "def abrir_navegador(driver, url, selector):\n",
    "    driver = webdriver.Chrome() # Inicializa el navegador Chrome\n",
    "    sleep(3)\n",
    "    driver.maximize_window() # Maximiza la ventana\n",
    "    driver.get(url) # Navega a la url pasada por parámetro\n",
    "    sleep(3)\n",
    "    try:\n",
    "        driver.find_element(\"css selector\", selector).click() # Intentamos aceptar las cookies\n",
    "        sleep(3)\n",
    "    except: # Si salta error, imprime un mensaje avisando.\n",
    "        print(\"No ha sido posible aceptar las cookies, puede que no saltó el aviso o que se haya cambiado el selector.\")\n",
    "    \n",
    "    return driver # retorna el driver que será usado para las demás tareas"
   ]
  },
  {
   "cell_type": "code",
   "execution_count": 241,
   "metadata": {},
   "outputs": [],
   "source": [
    "# Creamos listas con selectores css para hacer iteraciones\n",
    "selector_imdb_rating = [\"#__next > main > div > section.ipc-page-background.ipc-page-background--base.sc-c41b9732-0.NeSef > section > div:nth-child(5) > section > section > div.sc-491663c0-3.bdjVSf > div.sc-3a4309f8-0.bjXIAP.sc-1f50b7c-1.bfrqUc > div > div:nth-child(1) > a > span > div > div.sc-eb51e184-0.kFvAju > div.sc-eb51e184-2.czkfBq > span.sc-eb51e184-1.cxhhrI\"]\n",
    "selector_direccion = [\"#__next > main > div > section.ipc-page-background.ipc-page-background--base.sc-c41b9732-0.NeSef > section > div:nth-child(5) > section > section > div.sc-491663c0-4.yjUiO > div.sc-491663c0-6.lnlBxO > div.sc-491663c0-10.rbXFE > section > div.sc-1f50b7c-3.ZYFjc > div > ul > li:nth-child(1) > div > ul > li > a\", \"#__next > main > div > section.ipc-page-background.ipc-page-background--base.sc-c41b9732-0.NeSef > section > div:nth-child(5) > section > section > div.sc-491663c0-4.gEsAEH > div.sc-491663c0-6.eQRCDK > div.sc-491663c0-10.emoxHI > section > div.sc-1f50b7c-3.ZYFjc > div > ul > li:nth-child(1) > div > ul > li > a\"]\n",
    "selector_guionista = [\"#__next > main > div > section.ipc-page-background.ipc-page-background--base.sc-c41b9732-0.NeSef > section > div:nth-child(5) > section > section > div.sc-491663c0-4.yjUiO > div.sc-491663c0-6.lnlBxO > div.sc-491663c0-10.rbXFE > section > div.sc-1f50b7c-3.ZYFjc > div > ul > li:nth-child(2) > div > ul > li > a\", \"#__next > main > div > section.ipc-page-background.ipc-page-background--base.sc-c41b9732-0.NeSef > section > div:nth-child(5) > section > section > div.sc-491663c0-4.gEsAEH > div.sc-491663c0-6.eQRCDK > div.sc-491663c0-10.emoxHI > section > div.sc-1f50b7c-3.ZYFjc > div > ul > li:nth-child(2) > div > ul\"]\n",
    "selector_argumento = [\"#__next > main > div > section.ipc-page-background.ipc-page-background--base.sc-c41b9732-0.NeSef > section > div:nth-child(5) > section > section > div.sc-491663c0-4.yjUiO > div.sc-491663c0-6.lnlBxO > div.sc-491663c0-10.rbXFE > section > p > span.sc-2d37a7c7-2.PeLXr\", \"#__next > main > div > section.ipc-page-background.ipc-page-background--base.sc-c41b9732-0.NeSef > section > div:nth-child(5) > section > section > div.sc-491663c0-4.gEsAEH > div.sc-491663c0-6.eQRCDK > div.sc-491663c0-10.emoxHI > section > p > span.sc-2d37a7c7-2.PeLXr\"]\n",
    "selector_duracion = [\"#__next > main > div > section.ipc-page-background.ipc-page-background--base.sc-c41b9732-0.NeSef > section > div:nth-child(5) > section > section > div.sc-491663c0-3.bdjVSf > div.sc-1f50b7c-0.PUxFE > ul > li:nth-child(3)\", \"#__next > main > div > section.ipc-page-background.ipc-page-background--base.sc-c41b9732-0.NeSef > section > div:nth-child(5) > section > section > div.sc-491663c0-3.bdjVSf > div.sc-1f50b7c-0.PUxFE > ul > li:nth-child(2)\"]\n",
    "selector_nombre = [\"#__next > main > div > section.ipc-page-background.ipc-page-background--base.sc-c41b9732-0.NeSef > section > div:nth-child(5) > section > section > div.sc-491663c0-3.bdjVSf > div.sc-1f50b7c-0.PUxFE > h1 > span\"]\n",
    "selector_genero = [\"#__next > main > div > section.ipc-page-background.ipc-page-background--base.sc-c41b9732-0.NeSef > section > div:nth-child(5) > section > section > div.sc-491663c0-4.yjUiO > div.sc-491663c0-6.lnlBxO > div.sc-491663c0-10.rbXFE > section > div.ipc-chip-list--baseAlt.ipc-chip-list.ipc-chip-list--nowrap.sc-2d37a7c7-4.kEPwNU > div.ipc-chip-list__scroller\", \"#__next > main > div > section.ipc-page-background.ipc-page-background--base.sc-c41b9732-0.NeSef > section > div:nth-child(5) > section > section > div.sc-491663c0-4.gEsAEH > div.sc-491663c0-6.eQRCDK > div.sc-491663c0-10.emoxHI > section > div.ipc-chip-list--baseAlt.ipc-chip-list.ipc-chip-list--nowrap.sc-2d37a7c7-4.kEPwNU > div.ipc-chip-list__scroller > a\"]\n",
    "selector_primer_result_ggle = [\"#rso > div:nth-child(1) > div > div > div.kb0PBd.cvP2Ce.A9Y9g.jGGQ5e > div > div > span > a > h3\", \"#rso > div.MjjYud > div > div > div.kb0PBd.cvP2Ce.A9Y9g.jGGQ5e > div > div > span > a > h3\"]\n",
    "selector_tomatometer = [\"#modules-wrap > div.media-scorecard.no-border > media-scorecard > rt-button:nth-child(3) > rt-text\", \"#rso > div.MjjYud > div > div > div.kb0PBd.cvP2Ce.A9Y9g.jGGQ5e > div > div > span > a > h3\", \"#rso > div:nth-child(1) > div > div > div.kb0PBd.cvP2Ce.A9Y9g.jGGQ5e > div > div > span > a > h3\"]"
   ]
  },
  {
   "cell_type": "code",
   "execution_count": 250,
   "metadata": {},
   "outputs": [],
   "source": [
    "# Creamos una función para iterar por los selectores haciendo los try except parsa extraer datos de imdb\n",
    "def extrae_datos(lista_selector, driver, id_imdb=id_imdb, nombre=nombre):\n",
    "    for selector in lista_selector:\n",
    "        try:\n",
    "            dato = driver.find_element(\"css selector\", selector).text\n",
    "            sleep(2)\n",
    "            return dato \n",
    "        except Exception as e:\n",
    "            excepcion = e\n",
    "\n",
    "    error = f\"Faltan datos de imdb para la peli: {nombre} id_imdb: {id_imdb}, error de tipo: {excepcion}.\"\n",
    "    not_found.append(error)\n",
    "    dato = None\n",
    "    return dato"
   ]
  },
  {
   "cell_type": "code",
   "execution_count": 219,
   "metadata": {},
   "outputs": [],
   "source": [
    "# Creamos una función para pinchar en el primer resultado de google\n",
    "def clica_primer_result_ggle(lista_selector, driver, id_imdb, nombre):\n",
    "    search_tomato = id_imdb + ' ' + nombre + ' ' + 'tomatometer'\n",
    "    driver.find_element(\"css selector\", \"#APjFqb\").send_keys(search_tomato, Keys.ENTER) # Pasamos el string al buscador de google\n",
    "    sleep(5)\n",
    "    for selector in lista_selector:\n",
    "        try:                                \n",
    "            sleep(5)                            \n",
    "            driver.find_element(\"css selector\", selector).click() # Pinchamos en el primer resultado de la búsqueda de google\n",
    "            sleep(4)\n",
    "            return True\n",
    "        except Exception as e:\n",
    "            excepcion = e\n",
    "    \n",
    "    error = f\"No hay tomatometer para la peli {nombre} con id_imdb {id_imdb}, error de tipo: {excepcion}.\"\n",
    "    not_found.append(error)\n",
    "    driver.back()\n",
    "    sleep(3)\n",
    "    return False"
   ]
  },
  {
   "cell_type": "code",
   "execution_count": 243,
   "metadata": {},
   "outputs": [],
   "source": [
    "# Creamos una función para aceptar cookies en el navegador de google\n",
    "def acepta_cookies(driver, on_off):\n",
    "    try:\n",
    "        if on_off:\n",
    "            driver.find_element(\"css selector\", \"#onetrust-accept-btn-handler\").click() # Acepta cookies\n",
    "            on_off = False\n",
    "            sleep(2)\n",
    "    except:\n",
    "        pass\n",
    "        # print(\"No hemos clicado en el aviso de cookies de google: No hubo aviso, el selector ha cambiado o no hubo tiempo suficiente para terminar de cargar la página.\") "
   ]
  },
  {
   "cell_type": "code",
   "execution_count": 231,
   "metadata": {},
   "outputs": [],
   "source": [
    "# Creamos una función para extraer el tomatometer\n",
    "def extrae_tomato(lista_selector, driver, id_imdb, nombre):\n",
    "    for selector in lista_selector:\n",
    "        try:                                                   \n",
    "            tomatometer = driver.find_element(\"css selector\", selector).text # Extrae el Rating tomatometer\n",
    "            sleep(3)\n",
    "            driver.back()\n",
    "            sleep(3)\n",
    "            driver.back()\n",
    "            sleep(3)\n",
    "            return tomatometer\n",
    "        except Exception as e:\n",
    "            excepcion = e\n",
    "            \n",
    "    tomatometer = None\n",
    "    error = f\"No hay tomatometer para la peli {nombre} con id_imdb {id_imdb}, error de tipo: {excepcion}.\"\n",
    "    not_found.append(error)\n",
    "    driver.back()\n",
    "    sleep(3)\n",
    "    driver.back()\n",
    "    sleep(3)\n",
    "    return tomatometer"
   ]
  },
  {
   "cell_type": "code",
   "execution_count": 271,
   "metadata": {},
   "outputs": [
    {
     "name": "stdout",
     "output_type": "stream",
     "text": [
      "Hemos añadido la peli Oda az igazság a la lista sin tomatometer. Vamos por la iteración: 1.\n",
      "Hemos añadido la peli A zöld sárkány gyermekei a la lista sin tomatometer. Vamos por la iteración: 2.\n",
      "Hemos añadido la peli The Final Journey a la lista sin tomatometer. Vamos por la iteración: 3.\n",
      "Hemos añadido la peli In My Sleep a la lista sin tomatometer. Vamos por la iteración: 4.\n",
      "Hemos añadido la peli This Wretched Life a la lista sin tomatometer. Vamos por la iteración: 5.\n",
      "Hemos añadido la peli Death of a Nation a la lista sin tomatometer. Vamos por la iteración: 6.\n",
      "Hemos añadido la peli Anderson's Cross a la lista sin tomatometer. Vamos por la iteración: 7.\n",
      "Hemos añadido la peli Den milde smerte a la lista sin tomatometer. Vamos por la iteración: 8.\n",
      "Hemos añadido la peli Utomlennye solntsem 2 a la lista sin tomatometer. Vamos por la iteración: 9.\n",
      "Hemos añadido la peli Tekken a la lista sin tomatometer. Vamos por la iteración: 10.\n",
      "Hemos añadido la peli Disconnect a la lista sin tomatometer. Vamos por la iteración: 11.\n",
      "Hemos añadido la peli Milenge Milenge a la lista sin tomatometer. Vamos por la iteración: 12.\n",
      "Hemos añadido la peli 7 Days a la lista sin tomatometer. Vamos por la iteración: 13.\n",
      "Hemos añadido la peli Vidas pequeñas a la lista sin tomatometer. Vamos por la iteración: 14.\n",
      "La tupla de la peli Dream Street no está completa: ('6.2', None, None, None, None, None, 'Dream Street') Vamos por la iteración: 15\n",
      "Hemos añadido la peli Mad World a la lista sin tomatometer. Vamos por la iteración: 16.\n",
      "Hemos añadido la peli El hada buena - Una fábula peronista a la lista sin tomatometer. Vamos por la iteración: 17.\n",
      "Hemos añadido la peli Memorias del desarrollo a la lista sin tomatometer. Vamos por la iteración: 18.\n",
      "Hemos añadido la peli Drunkboat a la lista sin tomatometer. Vamos por la iteración: 19.\n",
      "Hemos añadido la peli Federal a la lista sin tomatometer. Vamos por la iteración: 20.\n",
      "Hemos añadido la peli Taken by Force a la lista sin tomatometer. Vamos por la iteración: 21.\n",
      "La tupla de la peli Sensual no está completa: (None, 'Michael Mandell', 'Michael Mandell', \"A married couple's problems get out of control.\", 'Drama', '1h 39m', 'Sensual') Vamos por la iteración: 22\n",
      "Hemos añadido la peli Harlem Hostel a la lista sin tomatometer. Vamos por la iteración: 23.\n",
      "Hemos añadido la peli Cielito lindo a la lista sin tomatometer. Vamos por la iteración: 24.\n",
      "Hemos añadido la peli The Greater Meaning of Water a la lista sin tomatometer. Vamos por la iteración: 25.\n",
      "Hemos añadido la peli Family Jewels a la lista completa. Vamos por la iteración: 26.\n",
      "Hemos añadido la peli Bandeiji a la lista sin tomatometer. Vamos por la iteración: 27.\n",
      "La tupla de la peli A Woman Is a Woman no está completa: (None, 'Arthur J. Mangano', 'Arthur J. Mangano', 'A female doctor falls for a married city mayor.', 'Comedy', '1h 42m', 'A Woman Is a Woman') Vamos por la iteración: 28\n",
      "Hemos añadido la peli PrimeMates a la lista sin tomatometer. Vamos por la iteración: 29.\n",
      "Hemos añadido la peli Ramona and Beezus a la lista completa. Vamos por la iteración: 30.\n",
      "La tupla de la peli Good Sharma no está completa: ('6.7', None, None, None, None, '1h 40m', 'Good Sharma') Vamos por la iteración: 31\n",
      "Hemos añadido la peli O Inimigo Sem Rosto a la lista sin tomatometer. Vamos por la iteración: 32.\n",
      "La tupla de la peli Tranced no está completa: ('5.6', None, None, None, None, None, 'Tranced') Vamos por la iteración: 33\n",
      "Hemos añadido la peli Love & Other Drugs a la lista completa. Vamos por la iteración: 34.\n",
      "Hemos añadido la peli King of the Avenue a la lista sin tomatometer. Vamos por la iteración: 35.\n",
      "Hemos añadido la peli Night Catches Us a la lista completa. Vamos por la iteración: 36.\n",
      "Hemos añadido la peli The Illusionist a la lista sin tomatometer. Vamos por la iteración: 37.\n",
      "Hemos añadido la peli The Chosen Heaven a la lista sin tomatometer. Vamos por la iteración: 38.\n",
      "Hemos añadido la peli The Wolfman a la lista completa. Vamos por la iteración: 39.\n",
      "Hemos añadido la peli The First Grader a la lista sin tomatometer. Vamos por la iteración: 40.\n",
      "Hemos añadido la peli 13 a la lista completa. Vamos por la iteración: 41.\n",
      "Hemos añadido la peli Ironmen a la lista sin tomatometer. Vamos por la iteración: 42.\n",
      "Hemos añadido la peli Nemesis a la lista sin tomatometer. Vamos por la iteración: 43.\n",
      "Hemos añadido la peli It's Kind of a Funny Story a la lista sin tomatometer. Vamos por la iteración: 44.\n",
      "Hemos añadido la peli Ashes a la lista sin tomatometer. Vamos por la iteración: 45.\n",
      "Hemos añadido la peli Flipped a la lista completa. Vamos por la iteración: 46.\n",
      "La tupla de la peli Soupernatural no está completa: ('6.8', 'Christopher Noice', 'Julie Matthews', 'What happens in a small town Newsroom when it is rumored that the Messiah is serving soup at a local Church Festival.', 'Drama', None, 'Soupernatural') Vamos por la iteración: 47\n",
      "Hemos añadido la peli Waking Madison a la lista sin tomatometer. Vamos por la iteración: 48.\n",
      "Hemos añadido la peli The Kids Are All Right a la lista completa. Vamos por la iteración: 49.\n",
      "Hemos añadido la peli The Town a la lista completa. Vamos por la iteración: 50.\n",
      "Hemos añadido la peli Killer by Nature a la lista sin tomatometer. Vamos por la iteración: 51.\n",
      "Hemos añadido la peli Risen a la lista sin tomatometer. Vamos por la iteración: 52.\n",
      "Hemos añadido la peli Bloudím a la lista sin tomatometer. Vamos por la iteración: 53.\n",
      "La tupla de la peli A Summer Song no está completa: ('6.8', 'Martica De Cardenas', 'Martica De Cardenas', 'Reluctant to enjoy her holiday with family, a contemptuous teen runs away and journeys through a time trip with a spiritual being who shows her the inevitable nature of destiny and her ability to change it.', 'Drama', None, 'A Summer Song') Vamos por la iteración: 54\n",
      "Hemos añadido la peli Kolorádó Kid a la lista sin tomatometer. Vamos por la iteración: 55.\n",
      "Hemos añadido la peli All at Sea a la lista sin tomatometer. Vamos por la iteración: 56.\n",
      "Hemos añadido la peli Surprise, Surprise a la lista sin tomatometer. Vamos por la iteración: 57.\n",
      "Hemos añadido la peli Please Give a la lista sin tomatometer. Vamos por la iteración: 58.\n",
      "Hemos añadido la peli Eat Pray Love a la lista sin tomatometer. Vamos por la iteración: 59.\n",
      "Hemos añadido la peli Repo a la lista sin tomatometer. Vamos por la iteración: 60.\n",
      "Hemos añadido la peli Honor a la lista sin tomatometer. Vamos por la iteración: 61.\n",
      "Hemos añadido la peli The Switch a la lista completa. Vamos por la iteración: 62.\n",
      "Hemos añadido la peli Letters to Juliet a la lista completa. Vamos por la iteración: 63.\n",
      "Hemos añadido la peli The Whistleblower a la lista completa. Vamos por la iteración: 64.\n",
      "Hemos añadido la peli Don't Fade Away a la lista sin tomatometer. Vamos por la iteración: 65.\n",
      "Hemos añadido la peli Acts of Violence a la lista completa. Vamos por la iteración: 66.\n",
      "Hemos añadido la peli Eager to Die a la lista sin tomatometer. Vamos por la iteración: 67.\n",
      "Hemos añadido la peli Prey a la lista completa. Vamos por la iteración: 68.\n",
      "Hemos añadido la peli Unthinkable a la lista sin tomatometer. Vamos por la iteración: 69.\n",
      "Hemos añadido la peli De gelukkige huisvrouw a la lista sin tomatometer. Vamos por la iteración: 70.\n",
      "Hemos añadido la peli Truth About Kerry a la lista sin tomatometer. Vamos por la iteración: 71.\n",
      "Hemos añadido la peli Glenn, the Flying Robot a la lista sin tomatometer. Vamos por la iteración: 72.\n",
      "Hemos añadido la peli The Waiter a la lista sin tomatometer. Vamos por la iteración: 73.\n",
      "Hemos añadido la peli Rabbit Hole a la lista completa. Vamos por la iteración: 74.\n",
      "Hemos añadido la peli White Knuckles a la lista sin tomatometer. Vamos por la iteración: 75.\n",
      "Hemos añadido la peli Green Zone a la lista sin tomatometer. Vamos por la iteración: 76.\n",
      "Hemos añadido la peli Black Swan a la lista completa. Vamos por la iteración: 77.\n",
      "Hemos añadido la peli The Killer Inside Me a la lista completa. Vamos por la iteración: 78.\n",
      "Hemos añadido la peli Robin Hood a la lista completa. Vamos por la iteración: 79.\n",
      "Hemos añadido la peli Heart of Now a la lista sin tomatometer. Vamos por la iteración: 80.\n",
      "Hemos añadido la peli Dom Solntsa a la lista sin tomatometer. Vamos por la iteración: 81.\n",
      "Hemos añadido la peli The Fighter a la lista completa. Vamos por la iteración: 82.\n",
      "Hemos añadido la peli The Conspirator a la lista completa. Vamos por la iteración: 83.\n",
      "Hemos añadido la peli The Chosen One a la lista completa. Vamos por la iteración: 84.\n",
      "Hemos añadido la peli La razón a la lista sin tomatometer. Vamos por la iteración: 85.\n",
      "Hemos añadido la peli The Land of the Astronauts a la lista sin tomatometer. Vamos por la iteración: 86.\n",
      "Hemos añadido la peli Sinatra Club a la lista sin tomatometer. Vamos por la iteración: 87.\n",
      "Hemos añadido la peli Fair Game a la lista completa. Vamos por la iteración: 88.\n",
      "Hemos añadido la peli Multiple Sarcasms a la lista completa. Vamos por la iteración: 89.\n",
      "Hemos añadido la peli A Flat a la lista sin tomatometer. Vamos por la iteración: 90.\n",
      "Hemos añadido la peli Dear John a la lista sin tomatometer. Vamos por la iteración: 91.\n",
      "Hemos añadido la peli The Experiment a la lista completa. Vamos por la iteración: 92.\n",
      "Hemos añadido la peli Bibliothèque Pascal a la lista sin tomatometer. Vamos por la iteración: 93.\n",
      "La tupla de la peli Catarsis Bioépica no está completa: (None, 'Jorge G. Satí', 'Shai BercovichJorge G. Satí', \"Unraveled biography of young Shai's damaging memories in the twilight of his prematurely aged existence. Naked and emaciated in a agonizing galvanizing stadium, Shai will revive his epic and tormented struggle over the squares of the board of his own duality; Perhaps his last and desperate search for an epiphany about the meaning of existence, within a black fable abo... Read all\", 'Short', '19m', 'Catarsis Bioépica') Vamos por la iteración: 94\n",
      "La tupla de la peli Sigrid Holmquist no está completa: (None, 'Maria Norrman', 'Maria Norrman', \"An experimental film project of the story of Swedish silent film actress Sigrid Holmquist (1899-1970)'s life by using the silent film medium. It consists of already existing film clips from the 1910s and 1920s. The Borås-born Holmquist is played by eight different stars from her era, and she also plays herself. Her stubborn spirit led her to become a movie star in Sca... Read all\", 'Short', '22m', 'Sigrid Holmquist') Vamos por la iteración: 95\n",
      "Hemos añadido la peli Cowboys & Aliens a la lista completa. Vamos por la iteración: 96.\n",
      "Hemos añadido la peli Captain America: The First Avenger a la lista completa. Vamos por la iteración: 97.\n",
      "Hemos añadido la peli The Mechanic a la lista completa. Vamos por la iteración: 98.\n",
      "Hemos añadido la peli Season of the Witch a la lista completa. Vamos por la iteración: 99.\n",
      "Hemos añadido la peli Double Tap a la lista sin tomatometer. Vamos por la iteración: 100.\n",
      "Hemos añadido la peli War of the Dead a la lista sin tomatometer. Vamos por la iteración: 101.\n",
      "Hemos añadido la peli Thor a la lista completa. Vamos por la iteración: 102.\n",
      "La tupla de la peli Spoon no está completa: ('7.9', 'Sharlto Copley', 'Sharlto CopleySimon Hansen', 'A thriller with supernatural overtones about a man with a medical condition that causes him to black out during moments of extreme stress and leads him to make a remarkable discovery about himself.', 'Action', None, 'Spoon') Vamos por la iteración: 103\n",
      "Hemos añadido la peli Conan the Barbarian a la lista completa. Vamos por la iteración: 104.\n",
      "Hemos añadido la peli Priest a la lista completa. Vamos por la iteración: 105.\n",
      "Hemos añadido la peli Red State a la lista completa. Vamos por la iteración: 106.\n",
      "Hemos añadido la peli Deep Gold a la lista sin tomatometer. Vamos por la iteración: 107.\n",
      "Hemos añadido la peli Sucker Punch a la lista completa. Vamos por la iteración: 108.\n",
      "Hemos añadido la peli The Adventures of Tintin: The Secret of the Unicorn a la lista completa. Vamos por la iteración: 109.\n",
      "La tupla de la peli Two Knives no está completa: (None, 'Michael Mandell', 'Shelley BourneMary Sweeney', 'Two romantically involved secret agents are assigned to eliminate each other.', 'Action', '1h 47m', 'Two Knives') Vamos por la iteración: 110\n",
      "La tupla de la peli The Ride Home no está completa: (None, 'Christopher Jayawardena', 'Christopher Jayawardena', 'A man waiting for the train home encounters an electrical phenomenon, then finds himself hunted by three mysterious men with violent intentions.', 'Short', '8m', 'The Ride Home') Vamos por la iteración: 111\n",
      "La tupla de la peli Eliminating Order no está completa: (None, 'Dang Cao Cuong', 'Tran Kim HoangBùi Chí Vinh', '', 'Action', None, 'Eliminating Order') Vamos por la iteración: 112\n",
      "Hemos añadido la peli The Eagle a la lista completa. Vamos por la iteración: 113.\n",
      "Hemos añadido la peli Wasteland a la lista sin tomatometer. Vamos por la iteración: 114.\n",
      "La tupla de la peli Heaven and Earth no está completa: (None, '43%', None, None, None, None, '6m', 'Heaven and Earth') Vamos por la iteración: 115\n",
      "La tupla de la peli My Way no está completa: (None, None, None, None, None, None, 'My Way') Vamos por la iteración: 116\n",
      "La tupla de la peli Milkshake Fight no está completa: (None, 'Patrick Willems', 'Matt Torpey', 'A guy fights the person who stole his milkshake.', 'Short', '1m', 'Milkshake Fight') Vamos por la iteración: 117\n",
      "Hemos añadido la peli Züri Zoo a la lista sin tomatometer. Vamos por la iteración: 118.\n",
      "Hemos añadido la peli Ghost Rider: Spirit of Vengeance a la lista completa. Vamos por la iteración: 119.\n",
      "La tupla de la peli Kote no está completa: (None, None, None, None, None, None, 'Kote') Vamos por la iteración: 120\n",
      "La tupla de la peli Novices and Novi no está completa: (None, 'Eric Whiteley', 'Shane FarleyEric Whiteley', 'An entry into The Lightsaber Choreography Competition IX. We originally weren\\'t going to into this year into the LCC, but eventually decided to do an \"easy\" and non-serious attempt. Choreography takes a back seat to humor, so enjoy.', 'Short', '6m', 'Novices and Novi') Vamos por la iteración: 121\n",
      "Hemos añadido la peli The Darkest Hour a la lista completa. Vamos por la iteración: 122.\n",
      "La tupla de la peli Eric no está completa: (None, '72%', \"Joshua van 't Hoff\", 'Eric van der Reep', '', 'Short', '4m', 'Eric') Vamos por la iteración: 123\n",
      "La tupla de la peli 7 Minutes no está completa: (None, None, None, None, None, None, '7 Minutes') Vamos por la iteración: 124\n",
      "La tupla de la peli LEGO Green Lantern no está completa: (None, None, None, None, None, '4m', 'LEGO Green Lantern') Vamos por la iteración: 125\n",
      "La tupla de la peli Lazio vs Genoa no está completa: (None, None, None, None, None, '1h 39m', 'Lazio vs Genoa') Vamos por la iteración: 126\n",
      "Hemos añadido la peli Green Lantern a la lista completa. Vamos por la iteración: 127.\n",
      "La tupla de la peli Repeat Offenders: Jamais Vu no está completa: ('5.5', 'J.D. Cochran', 'Lei Mowatt', 'Alexander (Taimak) leads a team of martial arts experts to save a beautiful, kidnapped queen. As things start to go wrong, they could get trapped in a Hell they never imagined.', 'Action', None, 'Repeat Offenders: Jamais Vu') Vamos por la iteración: 128\n",
      "Hemos añadido la peli The Blood Reich - Bloodrayne 3 a la lista sin tomatometer. Vamos por la iteración: 129.\n",
      "La tupla de la peli Serpiente no está completa: (None, None, None, None, None, None, 'Serpiente') Vamos por la iteración: 130\n",
      "La tupla de la peli Bunker no está completa: (None, 'Sylvain Pelissier', 'Sylvain Pelissier', '', 'Short', None, 'Bunker') Vamos por la iteración: 131\n",
      "La tupla de la peli Reshma Te Shera no está completa: (None, 'Malik Imdad Hussain', 'Saima KhanMoammar RanaAnjuman Shehzadi', '', 'Action', None, 'Reshma Te Shera') Vamos por la iteración: 132\n",
      "La tupla de la peli Rajveer Rahasmay Prem katha no está completa: (None, None, None, None, None, None, 'Rajveer Rahasmay Prem katha') Vamos por la iteración: 133\n",
      "Hemos añadido la peli Wasp Woman in Tokyo a la lista sin tomatometer. Vamos por la iteración: 134.\n",
      "La tupla de la peli Millions no está completa: (None, 'Vit Fic', 'Vit Fic', \"I need money, that's what I want.\", 'Short', '20m', 'Millions') Vamos por la iteración: 135\n",
      "Hemos añadido la peli Rango a la lista sin tomatometer. Vamos por la iteración: 136.\n",
      "La tupla de la peli Youngstown Shakedown no está completa: (None, 'John R. Kovach Jr.', None, \"The 1940's in Youngstown, Ohio was a breeding ground of Union anger mixed with horrible work conditions in the Steel mills. This led to rival mob families competing for the rights to control the town.\", 'Action', 'R', 'Youngstown Shakedown') Vamos por la iteración: 137\n",
      "La tupla de la peli Manchester City vs Newcastle United no está completa: (None, 'Hatem Ben Arfa', None, '', 'Action', '1h 30m', 'Manchester City vs Newcastle United') Vamos por la iteración: 138\n",
      "La tupla de la peli Borussia Mönchengladbach vs SV Werder Bremen no está completa: (None, None, None, '', 'Action', '1h 32m', 'Borussia Mönchengladbach vs SV Werder Bremen') Vamos por la iteración: 139\n",
      "La tupla de la peli Arsenal FC vs Sunderland AFC no está completa: (None, 'Andrey Arshavin', None, '', 'Action', '1h 34m', 'Arsenal FC vs Sunderland AFC') Vamos por la iteración: 140\n",
      "La tupla de la peli Norwich City vs Arsenal FC no está completa: (None, 'Mikel Arteta', None, '', 'Action', '1h 34m', 'Norwich City vs Arsenal FC') Vamos por la iteración: 141\n",
      "Hemos añadido la peli Justice a la lista completa. Vamos por la iteración: 142.\n",
      "La tupla de la peli Fps Mass no está completa: (None, 'Jamison M. LoCascio', 'Jamison M. LoCascio', '', 'Short', '1m', 'Fps Mass') Vamos por la iteración: 143\n",
      "Hemos añadido la peli Battle: Los Angeles a la lista completa. Vamos por la iteración: 144.\n",
      "Hemos añadido la peli The Legend of Hell's Gate: An American Conspiracy a la lista sin tomatometer. Vamos por la iteración: 145.\n",
      "Hemos añadido la peli Mission: Impossible - Ghost Protocol a la lista completa. Vamos por la iteración: 146.\n",
      "Hemos añadido la peli El Capitán Trueno y el Santo Grial a la lista sin tomatometer. Vamos por la iteración: 147.\n",
      "Hemos añadido la peli Ironclad a la lista completa. Vamos por la iteración: 148.\n",
      "La tupla de la peli Rip Curl's Gum: The Movie no está completa: (None, None, None, None, None, '22m', \"Rip Curl's Gum: The Movie\") Vamos por la iteración: 149\n",
      "Hemos añadido la peli D4 a la lista sin tomatometer. Vamos por la iteración: 150.\n",
      "Hemos añadido la peli Bellflower a la lista sin tomatometer. Vamos por la iteración: 151.\n",
      "Hemos añadido la peli Rebellion a la lista sin tomatometer. Vamos por la iteración: 152.\n",
      "Hemos añadido la peli Immortals a la lista completa. Vamos por la iteración: 153.\n",
      "La tupla de la peli Ek Wada Pran Jaaie Par Vachan Na Jaaie no está completa: (None, 'K. D.', 'Anil Singh', '', 'Action', '2h 18m', 'Ek Wada Pran Jaaie Par Vachan Na Jaaie') Vamos por la iteración: 154\n",
      "Hemos añadido la peli Pathfinders: In the Company of Strangers a la lista sin tomatometer. Vamos por la iteración: 155.\n",
      "Hemos añadido la peli Saluda al diablo de mi parte a la lista sin tomatometer. Vamos por la iteración: 156.\n",
      "Hemos añadido la peli Memphis Rising: Elvis Returns a la lista sin tomatometer. Vamos por la iteración: 157.\n",
      "Hemos añadido la peli Battle of the Brick: Built for Combat a la lista sin tomatometer. Vamos por la iteración: 158.\n",
      "Hemos añadido la peli Dandam Dashagunam a la lista sin tomatometer. Vamos por la iteración: 159.\n",
      "Hemos añadido la peli X-Men: First Class a la lista completa. Vamos por la iteración: 160.\n",
      "La tupla de la peli Blackpool vs Tottenham Hotspur no está completa: (None, None, None, '', 'Action', None, 'Blackpool vs Tottenham Hotspur') Vamos por la iteración: 161\n",
      "La tupla de la peli Blackpool vs Liverpool no está completa: (None, None, None, '', 'Action', None, 'Blackpool vs Liverpool') Vamos por la iteración: 162\n",
      "La tupla de la peli Wolverhampton Wanderers vs West Bromwich Albion no está completa: (None, None, None, '', 'Action', None, 'Wolverhampton Wanderers vs West Bromwich Albion') Vamos por la iteración: 163\n",
      "Hemos añadido la peli Don 2 a la lista completa. Vamos por la iteración: 164.\n",
      "La tupla de la peli Gibney's Island no está completa: (None, 'Kristine Meling Enoksen', 'Kristine Meling Enoksen', 'A couple find themselves marooned on an island and hunted by a madman, who makes a bargain for his freedom.', 'Short', '14m', \"Gibney's Island\") Vamos por la iteración: 165\n",
      "La tupla de la peli Bloodlust no está completa: (None, 'Manoj Raj', 'Manoj Raj', '', 'Short', None, 'Bloodlust') Vamos por la iteración: 166\n",
      "Hemos añadido la peli The Rum Diary a la lista completa. Vamos por la iteración: 167.\n",
      "Hemos añadido la peli Gnomeo & Juliet a la lista completa. Vamos por la iteración: 168.\n",
      "Hemos añadido la peli Satin a la lista sin tomatometer. Vamos por la iteración: 169.\n",
      "Hemos añadido la peli Puss in Boots a la lista completa. Vamos por la iteración: 170.\n",
      "Hemos añadido la peli Private Pérez a la lista sin tomatometer. Vamos por la iteración: 171.\n",
      "Hemos añadido la peli Act Your Age a la lista sin tomatometer. Vamos por la iteración: 172.\n",
      "Hemos añadido la peli The Smurfs a la lista completa. Vamos por la iteración: 173.\n",
      "La tupla de la peli Stan no está completa: ('8.5', 'Evald Johnson', 'Evald Johnson', 'Stan likes Mary. Ann likes Stan. Mary likes Nick and Nick likes Nick too. Mr Frankle likes Ann, but not in a good way. Stan still likes Mary, and Ann still likes Stan, but now Stan thinks he has Herpes.', 'Comedy', None, 'Stan') Vamos por la iteración: 174\n",
      "Hemos añadido la peli Tower Heist a la lista completa. Vamos por la iteración: 175.\n",
      "La tupla de la peli Bamboo Shark no está completa: ('6.5', 'Dennis Ward', 'Brad PerkinsDennis Ward', 'Several MIT students drop out of school to make a movie and quickly realize that no one will ever take them seriously without a big name star, so they decide to fool everybody by using celebrity impersonators.', 'Comedy', None, 'Bamboo Shark') Vamos por la iteración: 176\n",
      "Hemos añadido la peli Hall Pass a la lista completa. Vamos por la iteración: 177.\n",
      "La tupla de la peli Monkey Man no está completa: ('7.7', 'Billy Joseph', 'Billy JosephJohn Lambertson', 'The story of a tree trimmer who makes satirical comedy shows in his off time.', 'Comedy', None, 'Monkey Man') Vamos por la iteración: 178\n",
      "Hemos añadido la peli La daga de Rasputín a la lista sin tomatometer. Vamos por la iteración: 179.\n",
      "Hemos añadido la peli What's Your Number? a la lista completa. Vamos por la iteración: 180.\n",
      "Hemos añadido la peli Kill a la lista sin tomatometer. Vamos por la iteración: 181.\n",
      "Hemos añadido la peli Jack and Jill a la lista completa. Vamos por la iteración: 182.\n",
      "Hemos añadido la peli Hoodwinked Too! Hood vs. Evil a la lista sin tomatometer. Vamos por la iteración: 183.\n",
      "Hemos añadido la peli Pox a la lista sin tomatometer. Vamos por la iteración: 184.\n",
      "Hemos añadido la peli Naked Run a la lista sin tomatometer. Vamos por la iteración: 185.\n",
      "Hemos añadido la peli 6 Month Rule a la lista sin tomatometer. Vamos por la iteración: 186.\n",
      "Hemos añadido la peli From Prada to Nada a la lista sin tomatometer. Vamos por la iteración: 187.\n",
      "Hemos añadido la peli A Monster in Paris a la lista sin tomatometer. Vamos por la iteración: 188.\n",
      "Hemos añadido la peli Saxána a Lexikon kouzel a la lista sin tomatometer. Vamos por la iteración: 189.\n",
      "Hemos añadido la peli Lives and Deaths of the Poets a la lista sin tomatometer. Vamos por la iteración: 190.\n",
      "Hemos añadido la peli The Magic Crystal a la lista sin tomatometer. Vamos por la iteración: 191.\n",
      "Hemos añadido la peli The Green Hornet a la lista completa. Vamos por la iteración: 192.\n",
      "Hemos añadido la peli Eden a la lista completa. Vamos por la iteración: 193.\n",
      "Hemos añadido la peli The Tragedy of Man a la lista sin tomatometer. Vamos por la iteración: 194.\n",
      "Hemos añadido la peli Los pájaros se van con la muerte a la lista sin tomatometer. Vamos por la iteración: 195.\n",
      "La tupla de la peli Lives No Longer Ours no está completa: (None, 'Paul Sanderson', 'Briggs SandersonPaul Sanderson', \"In 1650 an adventurer returns to his castle to take down his deceased wife's portrait, but his long first night back is filled with revelations about her death. At dawn a swordfight with his prospective brother-in-law finally forces him into coming to terms with his loss.\", 'Drama', '1h 30m', 'Lives No Longer Ours') Vamos por la iteración: 196\n",
      "Hemos añadido la peli The Wicker Tree a la lista completa. Vamos por la iteración: 197.\n",
      "Hemos añadido la peli Spy a la lista sin tomatometer. Vamos por la iteración: 198.\n",
      "Hemos añadido la peli The Rum Diary a la lista completa. Vamos por la iteración: 199.\n",
      "Hemos añadido la peli Bubbles a la lista sin tomatometer. Vamos por la iteración: 200.\n"
     ]
    }
   ],
   "source": [
    "# Llamamos a todas las funciones para extraer los datos\n",
    "\n",
    "driver1 = None\n",
    "driver1 = abrir_navegador(driver1, url_imdb, selector_cookies_imdb)\n",
    "\n",
    "driver2 = None\n",
    "driver2 = abrir_navegador(driver2, url_google, selector_cookies_google)\n",
    "\n",
    "contador = 0 # Creamos un contador para saber por que iteración vamos\n",
    "on_off = True # Creamos un botón de on off para pasar el valor a la función acepta_cookies\n",
    "\n",
    "'''\n",
    "Maíra: 0:50, 200:400 ok, next = 400:1000\n",
    "Yami: 50:100\n",
    "Laura: 100:150\n",
    "Carolina: 150:200\n",
    "'''\n",
    "\n",
    "# Iterar por los ids_imdbs para pasarlos por el campo search de la web de imdb:\n",
    "for peli in resultado_tuplas_total[200:400]:\n",
    "    id_imdb = peli[-1]\n",
    "    nombre = peli[1]\n",
    "\n",
    "    # Pasamos el id_imdb al buscador de imdb\n",
    "    driver1.find_element(\"css selector\", \"#suggestion-search\").send_keys(id_imdb, Keys.ENTER)\n",
    "    sleep(5)\n",
    "\n",
    "    # Extraímos los datos de imdb\n",
    "    imdb_rating = extrae_datos(selector_imdb_rating, driver1)\n",
    "    direccion = extrae_datos(selector_direccion, driver1)\n",
    "    guionista = extrae_datos(selector_guionista, driver1)\n",
    "    argumento = extrae_datos(selector_argumento, driver1)\n",
    "    genero = extrae_datos(selector_genero, driver1)\n",
    "    duracion = extrae_datos(selector_duracion, driver1)\n",
    "    nombre = extrae_datos(selector_nombre, driver1)\n",
    "\n",
    "    # Extraímos el tomatometer\n",
    "    pinchar_google = clica_primer_result_ggle(selector_primer_result_ggle, driver2, id_imdb, nombre)\n",
    "    if pinchar_google:\n",
    "        acepta_cookies(driver2, on_off)\n",
    "        tomatometer = extrae_tomato(selector_tomatometer, driver2, id_imdb, nombre)\n",
    "    else:\n",
    "        tomatometer = None\n",
    "        \n",
    "    # Creamos la tupla y la añadimos a la lista que corresponda (completa o sin tomatometer)\n",
    "    if tomatometer:\n",
    "        tupla = imdb_rating, tomatometer, direccion, guionista, argumento, genero, duracion, nombre\n",
    "        if None in tupla:\n",
    "            contador += 1\n",
    "            print(f\"La tupla de la peli {nombre} no está completa: {tupla} Vamos por la iteración: {contador}\")\n",
    "        else:\n",
    "            resultados_completos.append(tupla)\n",
    "            contador += 1\n",
    "            print(f\"Hemos añadido la peli {nombre} a la lista completa. Vamos por la iteración: {contador}.\")\n",
    "    else:\n",
    "        tupla = imdb_rating, direccion, guionista, argumento, genero, duracion, nombre\n",
    "        if None in tupla:\n",
    "            contador += 1\n",
    "            print(f\"La tupla de la peli {nombre} no está completa: {tupla} Vamos por la iteración: {contador}\")\n",
    "        else:\n",
    "            tupla = imdb_rating, tomatometer, direccion, guionista, argumento, genero, duracion, nombre\n",
    "            resultados_sin_tomatometer.append(tupla)\n",
    "            contador += 1\n",
    "            print(f\"Hemos añadido la peli {nombre} a la lista sin tomatometer. Vamos por la iteración: {contador}.\")\n",
    "\n",
    "driver1.close()\n",
    "driver2.close()"
   ]
  },
  {
   "cell_type": "code",
   "execution_count": 272,
   "metadata": {},
   "outputs": [
    {
     "data": {
      "text/plain": [
       "120"
      ]
     },
     "execution_count": 272,
     "metadata": {},
     "output_type": "execute_result"
    }
   ],
   "source": [
    "len(resultados_sin_tomatometer)"
   ]
  },
  {
   "cell_type": "code",
   "execution_count": 273,
   "metadata": {},
   "outputs": [
    {
     "data": {
      "text/plain": [
       "72"
      ]
     },
     "execution_count": 273,
     "metadata": {},
     "output_type": "execute_result"
    }
   ],
   "source": [
    "len(resultados_completos)"
   ]
  },
  {
   "cell_type": "code",
   "execution_count": 145,
   "metadata": {},
   "outputs": [],
   "source": [
    "# Se tarda aproximadamente 33 minutos para extraer 50 peliculas.\n",
    "# Se tarda aproximadamente 67 minutos para extraer 100 peliculas."
   ]
  },
  {
   "cell_type": "code",
   "execution_count": 285,
   "metadata": {},
   "outputs": [],
   "source": [
    "# Guardar los datos de manera permanente\n",
    "df_resultados_completos = pd.DataFrame(resultados_completos)\n",
    "df_resultados_sin_tomatometer = pd.DataFrame(resultados_sin_tomatometer)\n",
    "df_errores = pd.DataFrame(not_found)\n",
    "df_resultados_completos.to_csv('resultados_completos_F2_maira_0-50_200-400.csv') # Cambiar nombre !!! \n",
    "df_resultados_sin_tomatometer.to_csv('resultados_sin_tomatometer_F2_maira_0-50_200-400.csv')\n",
    "df_errores.to_csv('errores_F2_maira_0-50_200-400.csv')\n",
    "df_resultados_completos.to_json('resultados_completos_F2_maira_0-50_200-400.json') \n",
    "df_resultados_sin_tomatometer.to_json('resultados_sin_tomatometer_F2_maira_0-50_200-400.json')\n",
    "df_errores.to_json('errores_F2_maira_0-50_200-400.json')"
   ]
  },
  {
   "cell_type": "code",
   "execution_count": null,
   "metadata": {},
   "outputs": [],
   "source": [
    "# Puntuacion de IMDB (en caso de que la tenga).\n",
    "\n",
    "# Puntuación de Rotten Tomatoes (Tomatometer).\n",
    "\n",
    "# Dirección (director/a o directore/as de cada película).\n",
    "\n",
    "# Gionistas (de cada película).\n",
    "\n",
    "# Argumento.\n",
    "\n",
    "# Duración. >> Tal cuál está \n",
    "\n",
    "# Nombre de la película\n",
    "\n",
    "# Genero !!! \n",
    "\n",
    "# NOTA: La información de la API deberá ser almacenada en una lista de tuplas. Cada tupla corresponderá a una película. Siguiendo el siguiente ejemplo:\n",
    "\n",
    "# [(7.7, 77, \"Richard Donner\", [\"Chris ColumbusSteven\", \"Spielberg\"], \"Los Goonies son un grupo de amigos que viven en Goon Docks, Astoria, pero sus casas han sido compradas y van a ser demolidas. Sin embargo, vivirán su última aventura en busca de un tesoro que pueda salvar el barrio.\", \"Aventura\", \"1h 54min\", \"Los Gonnies\"), ...]"
   ]
  }
 ],
 "metadata": {
  "kernelspec": {
   "display_name": "base",
   "language": "python",
   "name": "python3"
  },
  "language_info": {
   "codemirror_mode": {
    "name": "ipython",
    "version": 3
   },
   "file_extension": ".py",
   "mimetype": "text/x-python",
   "name": "python",
   "nbconvert_exporter": "python",
   "pygments_lexer": "ipython3",
   "version": "3.11.7"
  }
 },
 "nbformat": 4,
 "nbformat_minor": 2
}
