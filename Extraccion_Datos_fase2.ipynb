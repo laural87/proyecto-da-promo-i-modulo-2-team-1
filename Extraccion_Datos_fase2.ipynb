{
 "cells": [
  {
   "cell_type": "markdown",
   "metadata": {},
   "source": [
    "# Fase 2"
   ]
  },
  {
   "cell_type": "code",
   "execution_count": 2,
   "metadata": {},
   "outputs": [],
   "source": [
    "# Importar librerías para tratamiento de datos\n",
    "# -----------------------------------------------------------------------\n",
    "import pandas as pd  \n",
    "\n",
    "# Importar librerías para web scraping y manipulación de datos\n",
    "# -----------------------------------------------------------------------\n",
    "from bs4 import BeautifulSoup\n",
    "import requests\n",
    "\n",
    "# Importar librerías para automatización de navegadores web con Selenium\n",
    "# -----------------------------------------------------------------------\n",
    "from selenium import webdriver  \n",
    "from webdriver_manager.chrome import ChromeDriverManager  \n",
    "from selenium.webdriver.common.keys import Keys  \n",
    "from selenium.webdriver.support.ui import Select \n",
    "\n",
    "# Importar librerías para pausar la ejecución\n",
    "# -----------------------------------------------------------------------\n",
    "from time import sleep  \n"
   ]
  },
  {
   "cell_type": "markdown",
   "metadata": {},
   "source": [
    "# Código para cargar y concatenar los resultados de las extracciones de la Fase 1"
   ]
  },
  {
   "cell_type": "code",
   "execution_count": 56,
   "metadata": {},
   "outputs": [],
   "source": [
    "# Trasladar todas las tuplas del diccionario a una sola lista\n",
    "# Paso 1: guardar datos de cada extracción en variables \n",
    "\n",
    "extracion_maira = pd.read_json('CSV_JSON/datos_filtrados_2010_2024.json')\n",
    "extracion_yami = pd.read_json('CSV_JSON/datos_filtrados_Yami_2010_2024.json')\n",
    "extracion_carolina = pd.read_json('CSV_JSON/datos_filtrados_2010_2024_carolina.json')\n",
    "extracion_laura = pd.read_json('CSV_JSON/datos_filtrados_2010_2024_laura.json')\n"
   ]
  },
  {
   "cell_type": "code",
   "execution_count": 57,
   "metadata": {},
   "outputs": [],
   "source": [
    "# Paso 2: Creamos una función para iterar por cada variable para guardar los datos en listas de tuplas\n",
    "\n",
    "def itera_variables(extracion):\n",
    "    anios = [i for i in range(2010, 2025)]\n",
    "    generos = ['Action', 'Comedy', 'Drama']\n",
    "    resultados_tuplas = []\n",
    "\n",
    "    for anio in anios:\n",
    "        for genero in generos:\n",
    "            for tupla in extracion[anio][genero]:\n",
    "                resultados_tuplas.append(tuple(tupla))\n",
    "\n",
    "    return resultados_tuplas"
   ]
  },
  {
   "cell_type": "code",
   "execution_count": 58,
   "metadata": {},
   "outputs": [],
   "source": [
    "# Concatenamos todas las listas\n",
    "resultado_tuplas_total = itera_variables(extracion_maira) + itera_variables(extracion_yami) + itera_variables(extracion_carolina) + itera_variables(extracion_laura)"
   ]
  },
  {
   "cell_type": "code",
   "execution_count": 61,
   "metadata": {},
   "outputs": [
    {
     "data": {
      "text/plain": [
       "17395"
      ]
     },
     "execution_count": 61,
     "metadata": {},
     "output_type": "execute_result"
    }
   ],
   "source": [
    "len(resultado_tuplas_total)"
   ]
  },
  {
   "cell_type": "code",
   "execution_count": 60,
   "metadata": {},
   "outputs": [
    {
     "data": {
      "text/plain": [
       "[('Movie', 'Tekken', 2010, 3, 'tt0411951'),\n",
       " ('Movie', 'Venus & Vegas', 2010, 11, 'tt0423474'),\n",
       " ('Movie', 'The A-Team', 2010, 6, 'tt0429493'),\n",
       " ('Movie', 'Segurança Nacional', 2010, 5, 'tt0439801'),\n",
       " ('Movie', 'Scott Pilgrim vs. the World', 2010, 11, 'tt0446029'),\n",
       " ('Movie', 'Taken by Force', 2010, None, 'tt0465637'),\n",
       " ('Movie', 'Guns, Drugs and Dirty Money', 2011, None, 'tt0464032'),\n",
       " ('Movie', 'Komaram Puli', 2010, 9, 'tt0464162'),\n",
       " ('Movie', 'Prince of Persia: The Sands of Time', 2010, 5, 'tt0473075'),\n",
       " ('Movie', 'Unstoppable', 2010, 12, 'tt0477080')]"
      ]
     },
     "execution_count": 60,
     "metadata": {},
     "output_type": "execute_result"
    }
   ],
   "source": [
    "resultado_tuplas_total[:10]"
   ]
  },
  {
   "cell_type": "code",
   "execution_count": 62,
   "metadata": {},
   "outputs": [
    {
     "name": "stdout",
     "output_type": "stream",
     "text": [
      "Se ha encontrado 2401 elementos repetidos\n",
      "Tras remover las tuplas repetidas, nuestra lista se quedó con 14994 elementos.\n"
     ]
    }
   ],
   "source": [
    "# Verificar que no haya elementos repetidos\n",
    "# Crear un conjunto vacío\n",
    "elementos_vistos = set()\n",
    "\n",
    "# Verificar duplicados\n",
    "contador = 0\n",
    "for elemento in resultado_tuplas_total:\n",
    "    if elemento in elementos_vistos:\n",
    "        contador += 1\n",
    "        resultado_tuplas_total.remove(elemento)\n",
    "    elementos_vistos.add(elemento)\n",
    "    \n",
    "print(f\"Se ha encontrado {contador} elementos repetidos\")\n",
    "print(f\"Tras remover las tuplas repetidas, nuestra lista se quedó con {len(resultado_tuplas_total)} elementos.\")"
   ]
  },
  {
   "cell_type": "code",
   "execution_count": 66,
   "metadata": {},
   "outputs": [],
   "source": [
    "# Guardar lista final de manera permanente\n",
    "df_final = pd.DataFrame(resultado_tuplas_total)\n",
    "df_final[2] = df_final[2].astype('Int64')\n",
    "df_final[3] = df_final[3].astype('Int64')\n",
    "df_final.to_csv('resultado_tuplas_total.csv', index=False)\n",
    "df_final.to_json('resultado_tuplas_total.json')"
   ]
  },
  {
   "cell_type": "markdown",
   "metadata": {},
   "source": [
    "# Código para recuperar la lista final de tuplas"
   ]
  },
  {
   "cell_type": "code",
   "execution_count": 5,
   "metadata": {},
   "outputs": [],
   "source": [
    "resultado_tuplas_total = pd.read_csv('resultado_tuplas_total.csv', header=None) # Ejecutar a partir de aquí"
   ]
  },
  {
   "cell_type": "code",
   "execution_count": 6,
   "metadata": {},
   "outputs": [],
   "source": [
    "resultado_tuplas_total = [tuple(fila) for fila in resultado_tuplas_total.values]\n",
    "resultado_tuplas_total = resultado_tuplas_total[1:]"
   ]
  },
  {
   "cell_type": "code",
   "execution_count": 7,
   "metadata": {},
   "outputs": [
    {
     "data": {
      "text/plain": [
       "14994"
      ]
     },
     "execution_count": 7,
     "metadata": {},
     "output_type": "execute_result"
    }
   ],
   "source": [
    "len(resultado_tuplas_total)"
   ]
  },
  {
   "cell_type": "code",
   "execution_count": 321,
   "metadata": {},
   "outputs": [
    {
     "name": "stdout",
     "output_type": "stream",
     "text": [
      "tt0485985\n",
      "Red Tails\n"
     ]
    }
   ],
   "source": [
    "for peli in resultado_tuplas_total[544:]: # Prueba: Iterando para extraer el id_imdb y el nombre \n",
    "    id_imdb = peli[-1]\n",
    "    nombre = peli[1]\n",
    "    print(id_imdb)\n",
    "    print(nombre)\n",
    "    break\n",
    "    "
   ]
  },
  {
   "cell_type": "code",
   "execution_count": 10,
   "metadata": {},
   "outputs": [
    {
     "data": {
      "text/plain": [
       "'tt0973809 Headhunter: The Assessment Weekend tomatometer'"
      ]
     },
     "execution_count": 10,
     "metadata": {},
     "output_type": "execute_result"
    }
   ],
   "source": [
    "search_tomato = id_imdb + ' ' + nombre + ' ' + 'tomatometer' # Creación de una variable con el contenido de la búsqueda para Rotten Tomatoes\n",
    "search_tomato"
   ]
  },
  {
   "cell_type": "code",
   "execution_count": 11,
   "metadata": {},
   "outputs": [],
   "source": [
    "# Creación de la variables que vamos a usar en la extración con Selenium\n",
    "url_imdb = \"https://www.imdb.com/\"\n",
    "url_rotten = \"https://www.rottentomatoes.com/\"\n",
    "url_google = 'https://www.google.com/'\n",
    "selector_cookies_imdb = \"#__next > div > div > div.sc-jrcTuL.bPmWiM > div > button.icb-btn.sc-bcXHqe.sc-dkrFOg.sc-iBYQkv.dcvrLS.ddtuHe.dRCGjd\"\n",
    "selector_cookies_google = \"#L2AGLb > div\""
   ]
  },
  {
   "cell_type": "code",
   "execution_count": 36,
   "metadata": {},
   "outputs": [],
   "source": [
    "# Creacción de las listas donde vamos a almacenar los resultados de la extración.\n",
    "resultados_completos = []\n",
    "resultados_sin_tomatometer = []\n",
    "not_found = []"
   ]
  },
  {
   "cell_type": "code",
   "execution_count": 13,
   "metadata": {},
   "outputs": [],
   "source": [
    "# Creamos una función para abrir los navegadores \n",
    "def abrir_navegador(driver, url, selector):\n",
    "    driver = webdriver.Chrome() # Inicializa el navegador Chrome\n",
    "    sleep(3)\n",
    "    driver.maximize_window() # Maximiza la ventana\n",
    "    driver.get(url) # Navega a la url pasada por parámetro\n",
    "    sleep(3)\n",
    "    try:\n",
    "        driver.find_element(\"css selector\", selector).click() # Intentamos aceptar las cookies\n",
    "        sleep(3)\n",
    "    except: # Si salta error, imprime un mensaje avisando.\n",
    "        print(\"No ha sido posible aceptar las cookies, puede que no saltó el aviso o que se haya cambiado el selector.\")\n",
    "    \n",
    "    return driver # retorna el driver que será usado para las demás tareas"
   ]
  },
  {
   "cell_type": "code",
   "execution_count": 14,
   "metadata": {},
   "outputs": [],
   "source": [
    "# Creamos listas con selectores css para hacer iteraciones\n",
    "selector_imdb_rating = [\"#__next > main > div > section.ipc-page-background.ipc-page-background--base.sc-c41b9732-0.NeSef > section > div:nth-child(5) > section > section > div.sc-491663c0-3.bdjVSf > div.sc-3a4309f8-0.bjXIAP.sc-1f50b7c-1.bfrqUc > div > div:nth-child(1) > a > span > div > div.sc-eb51e184-0.kFvAju > div.sc-eb51e184-2.czkfBq > span.sc-eb51e184-1.cxhhrI\"]\n",
    "selector_direccion = [\"#__next > main > div > section.ipc-page-background.ipc-page-background--base.sc-c41b9732-0.NeSef > section > div:nth-child(5) > section > section > div.sc-491663c0-4.yjUiO > div.sc-491663c0-6.lnlBxO > div.sc-491663c0-10.rbXFE > section > div.sc-1f50b7c-3.ZYFjc > div > ul > li:nth-child(1) > div > ul > li > a\", \"#__next > main > div > section.ipc-page-background.ipc-page-background--base.sc-c41b9732-0.NeSef > section > div:nth-child(5) > section > section > div.sc-491663c0-4.gEsAEH > div.sc-491663c0-6.eQRCDK > div.sc-491663c0-10.emoxHI > section > div.sc-1f50b7c-3.ZYFjc > div > ul > li:nth-child(1) > div > ul > li > a\"]\n",
    "selector_guionista = [\"#__next > main > div > section.ipc-page-background.ipc-page-background--base.sc-c41b9732-0.NeSef > section > div:nth-child(5) > section > section > div.sc-491663c0-4.yjUiO > div.sc-491663c0-6.lnlBxO > div.sc-491663c0-10.rbXFE > section > div.sc-1f50b7c-3.ZYFjc > div > ul > li:nth-child(2) > div > ul > li > a\", \"#__next > main > div > section.ipc-page-background.ipc-page-background--base.sc-c41b9732-0.NeSef > section > div:nth-child(5) > section > section > div.sc-491663c0-4.gEsAEH > div.sc-491663c0-6.eQRCDK > div.sc-491663c0-10.emoxHI > section > div.sc-1f50b7c-3.ZYFjc > div > ul > li:nth-child(2) > div > ul\"]\n",
    "selector_argumento = [\"#__next > main > div > section.ipc-page-background.ipc-page-background--base.sc-c41b9732-0.NeSef > section > div:nth-child(5) > section > section > div.sc-491663c0-4.yjUiO > div.sc-491663c0-6.lnlBxO > div.sc-491663c0-10.rbXFE > section > p > span.sc-2d37a7c7-2.PeLXr\", \"#__next > main > div > section.ipc-page-background.ipc-page-background--base.sc-c41b9732-0.NeSef > section > div:nth-child(5) > section > section > div.sc-491663c0-4.gEsAEH > div.sc-491663c0-6.eQRCDK > div.sc-491663c0-10.emoxHI > section > p > span.sc-2d37a7c7-2.PeLXr\"]\n",
    "selector_duracion = [\"#__next > main > div > section.ipc-page-background.ipc-page-background--base.sc-c41b9732-0.NeSef > section > div:nth-child(5) > section > section > div.sc-491663c0-3.bdjVSf > div.sc-1f50b7c-0.PUxFE > ul > li:nth-child(3)\", \"#__next > main > div > section.ipc-page-background.ipc-page-background--base.sc-c41b9732-0.NeSef > section > div:nth-child(5) > section > section > div.sc-491663c0-3.bdjVSf > div.sc-1f50b7c-0.PUxFE > ul > li:nth-child(2)\"]\n",
    "selector_nombre = [\"#__next > main > div > section.ipc-page-background.ipc-page-background--base.sc-c41b9732-0.NeSef > section > div:nth-child(5) > section > section > div.sc-491663c0-3.bdjVSf > div.sc-1f50b7c-0.PUxFE > h1 > span\"]\n",
    "selector_genero = [\"#__next > main > div > section.ipc-page-background.ipc-page-background--base.sc-c41b9732-0.NeSef > section > div:nth-child(5) > section > section > div.sc-491663c0-4.yjUiO > div.sc-491663c0-6.lnlBxO > div.sc-491663c0-10.rbXFE > section > div.ipc-chip-list--baseAlt.ipc-chip-list.ipc-chip-list--nowrap.sc-2d37a7c7-4.kEPwNU > div.ipc-chip-list__scroller\", \"#__next > main > div > section.ipc-page-background.ipc-page-background--base.sc-c41b9732-0.NeSef > section > div:nth-child(5) > section > section > div.sc-491663c0-4.gEsAEH > div.sc-491663c0-6.eQRCDK > div.sc-491663c0-10.emoxHI > section > div.ipc-chip-list--baseAlt.ipc-chip-list.ipc-chip-list--nowrap.sc-2d37a7c7-4.kEPwNU > div.ipc-chip-list__scroller > a\"]\n",
    "selector_primer_result_ggle = [\"#rso > div:nth-child(1) > div > div > div.kb0PBd.cvP2Ce.A9Y9g.jGGQ5e > div > div > span > a > h3\", \"#rso > div.MjjYud > div > div > div.kb0PBd.cvP2Ce.A9Y9g.jGGQ5e > div > div > span > a > h3\"]\n",
    "selector_tomatometer = [\"#modules-wrap > div.media-scorecard.no-border > media-scorecard > rt-button:nth-child(3) > rt-text\", \"#rso > div.MjjYud > div > div > div.kb0PBd.cvP2Ce.A9Y9g.jGGQ5e > div > div > span > a > h3\", \"#rso > div:nth-child(1) > div > div > div.kb0PBd.cvP2Ce.A9Y9g.jGGQ5e > div > div > span > a > h3\"]"
   ]
  },
  {
   "cell_type": "code",
   "execution_count": 15,
   "metadata": {},
   "outputs": [],
   "source": [
    "# Creamos una función para iterar por los selectores haciendo los try except para extraer datos de imdb\n",
    "def extrae_datos(lista_selector, driver, id_imdb=id_imdb, nombre=nombre):\n",
    "    for selector in lista_selector:\n",
    "        try:\n",
    "            dato = driver.find_element(\"css selector\", selector).text\n",
    "            sleep(2)\n",
    "            return dato \n",
    "        except Exception as e:\n",
    "            excepcion = e\n",
    "\n",
    "    error = f\"Faltan datos de imdb para la peli: {nombre} id_imdb: {id_imdb}, error de tipo: {excepcion}.\"\n",
    "    not_found.append(error)\n",
    "    dato = None\n",
    "    return dato"
   ]
  },
  {
   "cell_type": "code",
   "execution_count": 29,
   "metadata": {},
   "outputs": [],
   "source": [
    "# Creamos una función para pinchar en el primer resultado de google\n",
    "def clica_primer_result_ggle(lista_selector, driver, id_imdb, nombre):\n",
    "    search_tomato = id_imdb + ' ' + nombre + ' ' + 'tomatometer'\n",
    "    driver.find_element(\"css selector\", \"#APjFqb\").send_keys(search_tomato, Keys.ENTER) # Pasamos el string al buscador de google\n",
    "    sleep(7)\n",
    "    for selector in lista_selector:\n",
    "        try:                                \n",
    "            sleep(7)                            \n",
    "            driver.find_element(\"css selector\", selector).click() # Pinchamos en el primer resultado de la búsqueda de google\n",
    "            sleep(4)\n",
    "            return True\n",
    "        except Exception as e:\n",
    "            excepcion = e\n",
    "    \n",
    "    error = f\"No hay tomatometer para la peli {nombre} con id_imdb {id_imdb}, error de tipo: {excepcion}.\"\n",
    "    not_found.append(error)\n",
    "    driver.back()\n",
    "    sleep(5)\n",
    "    return False"
   ]
  },
  {
   "cell_type": "code",
   "execution_count": 30,
   "metadata": {},
   "outputs": [],
   "source": [
    "# Creamos una función para aceptar cookies en el navegador de google\n",
    "def acepta_cookies(driver, on_off):\n",
    "    try:\n",
    "        if on_off:\n",
    "            driver.find_element(\"css selector\", \"#onetrust-accept-btn-handler\").click() # Acepta cookies\n",
    "            on_off = False\n",
    "            sleep(4)\n",
    "    except:\n",
    "        pass\n",
    "        # print(\"No hemos clicado en el aviso de cookies de google: No hubo aviso, el selector ha cambiado o no hubo tiempo suficiente para terminar de cargar la página.\") "
   ]
  },
  {
   "cell_type": "code",
   "execution_count": 31,
   "metadata": {},
   "outputs": [],
   "source": [
    "# Creamos una función para extraer el tomatometer\n",
    "def extrae_tomato(lista_selector, driver, id_imdb, nombre):\n",
    "    for selector in lista_selector:\n",
    "        try:                                                   \n",
    "            tomatometer = driver.find_element(\"css selector\", selector).text # Extrae el Rating tomatometer\n",
    "            sleep(7)\n",
    "            driver.back()\n",
    "            sleep(7)\n",
    "            driver.back()\n",
    "            sleep(7)\n",
    "            return tomatometer\n",
    "        except Exception as e:\n",
    "            excepcion = e\n",
    "            \n",
    "    tomatometer = None\n",
    "    error = f\"No hay tomatometer para la peli {nombre} con id_imdb {id_imdb}, error de tipo: {excepcion}.\"\n",
    "    not_found.append(error)\n",
    "    driver.back()\n",
    "    sleep(5)\n",
    "    driver.back()\n",
    "    sleep(5)\n",
    "    return tomatometer"
   ]
  },
  {
   "cell_type": "code",
   "execution_count": 318,
   "metadata": {},
   "outputs": [
    {
     "name": "stdout",
     "output_type": "stream",
     "text": [
      "La tupla de la peli Classy Allure no está completa: (None, 'Tiffany Payne', 'Tiffany Payne', '', 'Short', '11m', 'Classy Allure') Vamos por la iteración: 1\n",
      "Hemos añadido la peli On the Road a la lista completa. Vamos por la iteración: 2.\n",
      "Hemos añadido la peli Pots and Pans a la lista sin tomatometer. Vamos por la iteración: 3.\n",
      "Hemos añadido la peli Caleuche: El llamado del Mar a la lista sin tomatometer. Vamos por la iteración: 4.\n",
      "La tupla de la peli L'apocalisse delle scimmie no está completa: ('6.8', None, None, None, None, None, \"L'apocalisse delle scimmie\") Vamos por la iteración: 5\n",
      "Hemos añadido la peli Lincoln a la lista sin tomatometer. Vamos por la iteración: 6.\n",
      "Hemos añadido la peli Life of Pi a la lista completa. Vamos por la iteración: 7.\n",
      "Hemos añadido la peli Being Flynn a la lista sin tomatometer. Vamos por la iteración: 8.\n",
      "Hemos añadido la peli Steve Phoenix: The Untold Story a la lista sin tomatometer. Vamos por la iteración: 9.\n",
      "Hemos añadido la peli Clutch a la lista sin tomatometer. Vamos por la iteración: 10.\n",
      "Hemos añadido la peli Sushi in Suhl a la lista sin tomatometer. Vamos por la iteración: 11.\n",
      "Hemos añadido la peli Red Tails a la lista completa. Vamos por la iteración: 12.\n"
     ]
    },
    {
     "ename": "TypeError",
     "evalue": "can only concatenate str (not \"NoneType\") to str",
     "output_type": "error",
     "traceback": [
      "\u001b[0;31m---------------------------------------------------------------------------\u001b[0m",
      "\u001b[0;31mTypeError\u001b[0m                                 Traceback (most recent call last)",
      "Cell \u001b[0;32mIn[318], line 38\u001b[0m\n\u001b[1;32m     35\u001b[0m nombre \u001b[38;5;241m=\u001b[39m extrae_datos(selector_nombre, driver1)\n\u001b[1;32m     37\u001b[0m \u001b[38;5;66;03m# Extraímos el tomatometer\u001b[39;00m\n\u001b[0;32m---> 38\u001b[0m pinchar_google \u001b[38;5;241m=\u001b[39m clica_primer_result_ggle(selector_primer_result_ggle, driver2, id_imdb, nombre)\n\u001b[1;32m     39\u001b[0m \u001b[38;5;28;01mif\u001b[39;00m pinchar_google:\n\u001b[1;32m     40\u001b[0m     acepta_cookies(driver2, on_off)\n",
      "Cell \u001b[0;32mIn[219], line 3\u001b[0m, in \u001b[0;36mclica_primer_result_ggle\u001b[0;34m(lista_selector, driver, id_imdb, nombre)\u001b[0m\n\u001b[1;32m      2\u001b[0m \u001b[38;5;28;01mdef\u001b[39;00m \u001b[38;5;21mclica_primer_result_ggle\u001b[39m(lista_selector, driver, id_imdb, nombre):\n\u001b[0;32m----> 3\u001b[0m     search_tomato \u001b[38;5;241m=\u001b[39m id_imdb \u001b[38;5;241m+\u001b[39m \u001b[38;5;124m'\u001b[39m\u001b[38;5;124m \u001b[39m\u001b[38;5;124m'\u001b[39m \u001b[38;5;241m+\u001b[39m nombre \u001b[38;5;241m+\u001b[39m \u001b[38;5;124m'\u001b[39m\u001b[38;5;124m \u001b[39m\u001b[38;5;124m'\u001b[39m \u001b[38;5;241m+\u001b[39m \u001b[38;5;124m'\u001b[39m\u001b[38;5;124mtomatometer\u001b[39m\u001b[38;5;124m'\u001b[39m\n\u001b[1;32m      4\u001b[0m     driver\u001b[38;5;241m.\u001b[39mfind_element(\u001b[38;5;124m\"\u001b[39m\u001b[38;5;124mcss selector\u001b[39m\u001b[38;5;124m\"\u001b[39m, \u001b[38;5;124m\"\u001b[39m\u001b[38;5;124m#APjFqb\u001b[39m\u001b[38;5;124m\"\u001b[39m)\u001b[38;5;241m.\u001b[39msend_keys(search_tomato, Keys\u001b[38;5;241m.\u001b[39mENTER) \u001b[38;5;66;03m# Pasamos el string al buscador de google\u001b[39;00m\n\u001b[1;32m      5\u001b[0m     sleep(\u001b[38;5;241m5\u001b[39m)\n",
      "\u001b[0;31mTypeError\u001b[0m: can only concatenate str (not \"NoneType\") to str"
     ]
    }
   ],
   "source": [
    "# Llamamos a todas las funciones para extraer los datos\n",
    "\n",
    "driver1 = None\n",
    "driver1 = abrir_navegador(driver1, url_imdb, selector_cookies_imdb)\n",
    "\n",
    "driver2 = None\n",
    "driver2 = abrir_navegador(driver2, url_google, selector_cookies_google)\n",
    "\n",
    "contador = 0 # Creamos un contador para saber por que iteración vamos\n",
    "on_off = True # Creamos un botón de on off para pasar el valor a la función acepta_cookies\n",
    "\n",
    "'''\n",
    "Maíra: 0:50, 200:400 ok, next = 544:1000\n",
    "Yami: 50:100\n",
    "Laura: 100:150\n",
    "Carolina: 190:200\n",
    "'''\n",
    "\n",
    "# Iterar por los ids_imdbs para pasarlos por el campo search de la web de imdb:\n",
    "for peli in resultado_tuplas_total[544:700]:\n",
    "    id_imdb = peli[-1]\n",
    "    nombre = peli[1]\n",
    "\n",
    "    # Pasamos el id_imdb al buscador de imdb\n",
    "    driver1.find_element(\"css selector\", \"#suggestion-search\").send_keys(id_imdb, Keys.ENTER)\n",
    "    sleep(10)\n",
    "\n",
    "    # Extraímos los datos de imdb\n",
    "    imdb_rating = extrae_datos(selector_imdb_rating, driver1)\n",
    "    direccion = extrae_datos(selector_direccion, driver1)\n",
    "    guionista = extrae_datos(selector_guionista, driver1)\n",
    "    argumento = extrae_datos(selector_argumento, driver1)\n",
    "    genero = extrae_datos(selector_genero, driver1)\n",
    "    duracion = extrae_datos(selector_duracion, driver1)\n",
    "    nombre = extrae_datos(selector_nombre, driver1)\n",
    "\n",
    "    # Extraímos el tomatometer\n",
    "    pinchar_google = clica_primer_result_ggle(selector_primer_result_ggle, driver2, id_imdb, nombre)\n",
    "    if pinchar_google:\n",
    "        acepta_cookies(driver2, on_off)\n",
    "        tomatometer = extrae_tomato(selector_tomatometer, driver2, id_imdb, nombre)\n",
    "    else:\n",
    "        tomatometer = None\n",
    "        \n",
    "    # Creamos la tupla y la añadimos a la lista que corresponda (completa o sin tomatometer)\n",
    "    if tomatometer:\n",
    "        tupla = imdb_rating, tomatometer, direccion, guionista, argumento, genero, duracion, nombre\n",
    "        if None in tupla:\n",
    "            contador += 1\n",
    "            print(f\"La tupla de la peli {nombre} no está completa: {tupla} Vamos por la iteración: {contador}\")\n",
    "        else:\n",
    "            resultados_completos.append(tupla)\n",
    "            contador += 1\n",
    "            print(f\"Hemos añadido la peli {nombre} a la lista completa. Vamos por la iteración: {contador}.\")\n",
    "    else:\n",
    "        tupla = imdb_rating, direccion, guionista, argumento, genero, duracion, nombre\n",
    "        if None in tupla:\n",
    "            contador += 1\n",
    "            print(f\"La tupla de la peli {nombre} no está completa: {tupla} Vamos por la iteración: {contador}\")\n",
    "        else:\n",
    "            tupla = imdb_rating, tomatometer, direccion, guionista, argumento, genero, duracion, nombre\n",
    "            resultados_sin_tomatometer.append(tupla)\n",
    "            contador += 1\n",
    "            print(f\"Hemos añadido la peli {nombre} a la lista sin tomatometer. Vamos por la iteración: {contador}.\")\n",
    "\n",
    "driver1.close()\n",
    "driver2.close()"
   ]
  },
  {
   "cell_type": "code",
   "execution_count": 326,
   "metadata": {},
   "outputs": [
    {
     "data": {
      "text/plain": [
       "172"
      ]
     },
     "execution_count": 326,
     "metadata": {},
     "output_type": "execute_result"
    }
   ],
   "source": [
    "len(resultados_sin_tomatometer)"
   ]
  },
  {
   "cell_type": "code",
   "execution_count": 325,
   "metadata": {},
   "outputs": [
    {
     "data": {
      "text/plain": [
       "72"
      ]
     },
     "execution_count": 325,
     "metadata": {},
     "output_type": "execute_result"
    }
   ],
   "source": [
    "len(resultados_completos)"
   ]
  },
  {
   "cell_type": "code",
   "execution_count": 319,
   "metadata": {},
   "outputs": [
    {
     "data": {
      "text/plain": [
       "('5.9',\n",
       " '40%',\n",
       " 'Anthony Hemingway',\n",
       " 'John Ridley',\n",
       " 'A crew of African American pilots in the Tuskegee training program, having faced segregation while kept mostly on the ground during World War II, are called into duty under the guidance of Col. A.J. Bullard.',\n",
       " 'Action\\nDrama\\nHistory',\n",
       " '2h 5m',\n",
       " 'Red Tails')"
      ]
     },
     "execution_count": 319,
     "metadata": {},
     "output_type": "execute_result"
    }
   ],
   "source": [
    "resultados_completos[-1]"
   ]
  },
  {
   "cell_type": "code",
   "execution_count": 145,
   "metadata": {},
   "outputs": [],
   "source": [
    "# Se tarda aproximadamente 33 minutos para extraer 50 peliculas.\n",
    "# Se tarda aproximadamente 67 minutos para extraer 100 peliculas."
   ]
  },
  {
   "cell_type": "code",
   "execution_count": 327,
   "metadata": {},
   "outputs": [],
   "source": [
    "# Guardar los datos de manera permanente\n",
    "df_resultados_completos = pd.DataFrame(resultados_completos)\n",
    "df_resultados_sin_tomatometer = pd.DataFrame(resultados_sin_tomatometer)\n",
    "df_errores = pd.DataFrame(not_found)\n",
    "df_resultados_completos.to_csv('resultados_completos_F2_maira_0-50_200-543.csv') # Cambiar nombre !!! \n",
    "df_resultados_sin_tomatometer.to_csv('resultados_sin_tomatometer_F2_maira_0-50_200-543.csv')\n",
    "df_errores.to_csv('errores_F2_maira_0-50_200-543.csv')\n",
    "df_resultados_completos.to_json('resultados_completos_F2_maira_0-50_200-543.json') \n",
    "df_resultados_sin_tomatometer.to_json('resultados_sin_tomatometer_F2_maira_0-50_200-543.json')\n",
    "df_errores.to_json('errores_F2_maira_0-50_200-543.json')"
   ]
  },
  {
   "cell_type": "code",
   "execution_count": null,
   "metadata": {},
   "outputs": [],
   "source": [
    "# Puntuacion de IMDB (en caso de que la tenga).\n",
    "\n",
    "# Puntuación de Rotten Tomatoes (Tomatometer).\n",
    "\n",
    "# Dirección (director/a o directore/as de cada película).\n",
    "\n",
    "# Gionistas (de cada película).\n",
    "\n",
    "# Argumento.\n",
    "\n",
    "# Duración. >> Tal cuál está \n",
    "\n",
    "# Nombre de la película\n",
    "\n",
    "# Genero !!! \n",
    "\n",
    "# NOTA: La información de la API deberá ser almacenada en una lista de tuplas. Cada tupla corresponderá a una película. Siguiendo el siguiente ejemplo:\n",
    "\n",
    "# [(7.7, 77, \"Richard Donner\", [\"Chris ColumbusSteven\", \"Spielberg\"], \"Los Goonies son un grupo de amigos que viven en Goon Docks, Astoria, pero sus casas han sido compradas y van a ser demolidas. Sin embargo, vivirán su última aventura en busca de un tesoro que pueda salvar el barrio.\", \"Aventura\", \"1h 54min\", \"Los Gonnies\"), ...]"
   ]
  },
  {
   "cell_type": "code",
   "execution_count": null,
   "metadata": {},
   "outputs": [],
   "source": [
    "import os\n",
    "\n",
    "# Directorio donde se encuentran los archivos CSV\n",
    "directorio = 'CSV_JSON_F2'\n",
    "\n",
    "# Lista para almacenar los dataframes\n",
    "dataframes = []\n",
    "\n",
    "# Iterar sobre todos los archivos en el directorio\n",
    "for archivo in os.listdir(directorio):\n",
    "    if archivo.endswith('.csv'):\n",
    "        # Leer cada archivo CSV\n",
    "        df = pd.read_csv(os.path.join(directorio, archivo))\n",
    "        # Añadir el dataframe a la lista\n",
    "        dataframes.append(df)\n",
    "\n",
    "# Combinar todos los dataframes en uno solo\n",
    "df_combinado = pd.concat(dataframes, ignore_index=True)\n",
    "\n",
    "# Guardar el dataframe combinado en un nuevo archivo CSV\n",
    "df_combinado.to_csv('CSV_JSON_F2/F2_combinado.csv', index=False)\n",
    "\n",
    "print(\"Archivos CSV combinados con éxito.\")"
   ]
  }
 ],
 "metadata": {
  "kernelspec": {
   "display_name": "base",
   "language": "python",
   "name": "python3"
  },
  "language_info": {
   "codemirror_mode": {
    "name": "ipython",
    "version": 3
   },
   "file_extension": ".py",
   "mimetype": "text/x-python",
   "name": "python",
   "nbconvert_exporter": "python",
   "pygments_lexer": "ipython3",
   "version": "3.11.7"
  }
 },
 "nbformat": 4,
 "nbformat_minor": 2
}
