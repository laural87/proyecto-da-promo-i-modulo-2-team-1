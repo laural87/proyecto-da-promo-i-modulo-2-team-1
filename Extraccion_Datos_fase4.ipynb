{
 "cells": [
  {
   "cell_type": "markdown",
   "metadata": {},
   "source": [
    "### Fase 4: Extracción de Tablas de los Premios Oscar con Beautiful Soup\n",
    "En esta fase, trabajarán con la biblioteca Beautiful Soup para extraer información relevante de las tablas de los premios Oscar desde 2000. La tabla la encontrarás en el este link. La información que deberás sacar es:\n",
    "- Fecha de la ceremonia.\n",
    "- Mejor película.\n",
    "- Mejor director.\n",
    "- Mejor actor.\n",
    "- Mejor actriz."
   ]
  },
  {
   "cell_type": "code",
   "execution_count": 5,
   "metadata": {},
   "outputs": [],
   "source": [
    "from bs4 import BeautifulSoup\n",
    "import requests\n",
    "import pandas as pd\n",
    "import re"
   ]
  },
  {
   "cell_type": "code",
   "execution_count": 6,
   "metadata": {},
   "outputs": [
    {
     "name": "stdout",
     "output_type": "stream",
     "text": [
      "La respuesta de la petición es: 200\n"
     ]
    }
   ],
   "source": [
    "# al igual que en el ejemplo anterior lo primero que haremos será definir la url de la página de la vamos a sacar datos\n",
    "url_oscar = \"https://es.wikipedia.org/wiki/Premios_Óscar\"\n",
    "\n",
    "# hacemos la request a la página de la que queremos sacar la info\n",
    "res_oscar = requests.get(url_oscar)\n",
    "\n",
    "print(\"La respuesta de la petición es:\", res_oscar.status_code)"
   ]
  },
  {
   "cell_type": "code",
   "execution_count": 12,
   "metadata": {},
   "outputs": [],
   "source": [
    "# creamos el objeto BeautifulSoup para poder acceder al contenido solicitado\n",
    "sopa_oscar = BeautifulSoup(res_oscar.content, 'html.parser')\n",
    "\n",
    "# recordemos que el método .prettify nos permite mostrar de una forma más amigable los resultados obtenidos de la sopa\n",
    "# print(sopa_oscar.prettify())"
   ]
  },
  {
   "cell_type": "code",
   "execution_count": 8,
   "metadata": {},
   "outputs": [
    {
     "name": "stdout",
     "output_type": "stream",
     "text": [
      "El número de tablas que tenemos en la página web es: 4\n"
     ]
    }
   ],
   "source": [
    "# vamos a seguir usando el metodo \".find_all()\", pero en este caso lo que buscaremos son todas las tablas que tenemos en la página web.\n",
    "tablas = sopa_oscar.find_all(\"table\")\n",
    "\n",
    "print(\"El número de tablas que tenemos en la página web es:\", len(tablas))"
   ]
  },
  {
   "cell_type": "code",
   "execution_count": 13,
   "metadata": {},
   "outputs": [],
   "source": [
    "tablas[2] # hemos visto que esta es la tabla que contiene la informacion \n",
    "tabla_oscar = tablas[2]"
   ]
  },
  {
   "cell_type": "code",
   "execution_count": 17,
   "metadata": {},
   "outputs": [
    {
     "name": "stdout",
     "output_type": "stream",
     "text": [
      "La cantidad de filas que hemos extraido de la tabla es: 97\n",
      "\n",
      "----------------------\n",
      "\n",
      "El contenido que tenemos en la primera fila es:\n",
      " <tr>\n",
      "<th style=\"width:1px;\">N.º\n",
      "</th>\n",
      "<th style=\"width:140px;\">Ceremonia\n",
      "</th>\n",
      "<th style=\"width:250px;\">Mejor película\n",
      "</th>\n",
      "<th style=\"width:225px;\">Mejor director\n",
      "</th>\n",
      "<th style=\"width:225px;\">Mejor actor\n",
      "</th>\n",
      "<th style=\"width:225px;\">Mejor actriz\n",
      "</th>\n",
      "<th style=\"width:220px;\">Mejor actor reparto\n",
      "</th>\n",
      "<th style=\"width:220px;\">Mejor actriz reparto\n",
      "</th>\n",
      "<th style=\"width:170px;\">Presentador\n",
      "</th>\n",
      "<th>Audiencia\n",
      "</th></tr>\n",
      "\n",
      "----------------------\n",
      "\n",
      "El contenido que tenemos en la segunda fila es:\n",
      " <tr>\n",
      "<td align=\"center\"><a class=\"mw-redirect\" href=\"/wiki/1.%C2%AA_ceremonia_de_los_Premios_%C3%93scar\" title=\"1.ª ceremonia de los Premios Óscar\">1°</a>\n",
      "</td>\n",
      "<td>16 de mayo<br/>de 1929\n",
      "</td>\n",
      "<td><span class=\"flagicon\"><span class=\"mw-image-border\" typeof=\"mw:File\"><a class=\"mw-file-description\" href=\"/wiki/Archivo:Flag_of_the_United_States.svg\" title=\"Bandera de Estados Unidos\"><img alt=\"Bandera de Estados Unidos\" class=\"mw-file-element\" data-file-height=\"650\" data-file-width=\"1235\" decoding=\"async\" height=\"11\" src=\"//upload.wikimedia.org/wikipedia/commons/thumb/a/a4/Flag_of_the_United_States.svg/20px-Flag_of_the_United_States.svg.png\" srcset=\"//upload.wikimedia.org/wikipedia/commons/thumb/a/a4/Flag_of_the_United_States.svg/30px-Flag_of_the_United_States.svg.png 1.5x, //upload.wikimedia.org/wikipedia/commons/thumb/a/a4/Flag_of_the_United_States.svg/40px-Flag_of_the_United_States.svg.png 2x\" width=\"20\"/></a></span></span> <i><a href=\"/wiki/Alas_(pel%C3%ADcula)\" title=\"Alas (película)\">Alas (Wings) (1927)</a></i>\n",
      "</td>\n",
      "<td><small>Drama:</small> <span class=\"flagicon\"><span class=\"mw-image-border\" typeof=\"mw:File\"><a class=\"mw-file-description\" href=\"/wiki/Archivo:Flag_of_the_United_States.svg\" title=\"Bandera de Estados Unidos\"><img alt=\"Bandera de Estados Unidos\" class=\"mw-file-element\" data-file-height=\"650\" data-file-width=\"1235\" decoding=\"async\" height=\"11\" src=\"//upload.wikimedia.org/wikipedia/commons/thumb/a/a4/Flag_of_the_United_States.svg/20px-Flag_of_the_United_States.svg.png\" srcset=\"//upload.wikimedia.org/wikipedia/commons/thumb/a/a4/Flag_of_the_United_States.svg/30px-Flag_of_the_United_States.svg.png 1.5x, //upload.wikimedia.org/wikipedia/commons/thumb/a/a4/Flag_of_the_United_States.svg/40px-Flag_of_the_United_States.svg.png 2x\" width=\"20\"/></a></span></span> <a href=\"/wiki/Frank_Borzage\" title=\"Frank Borzage\">F. Borzage</a><br/><small>Com.:</small> <span class=\"flagicon\"><span class=\"mw-image-border\" typeof=\"mw:File\"><a class=\"mw-file-description\" href=\"/wiki/Archivo:Flag_of_the_United_States.svg\" title=\"Bandera de Estados Unidos\"><img alt=\"Bandera de Estados Unidos\" class=\"mw-file-element\" data-file-height=\"650\" data-file-width=\"1235\" decoding=\"async\" height=\"11\" src=\"//upload.wikimedia.org/wikipedia/commons/thumb/a/a4/Flag_of_the_United_States.svg/20px-Flag_of_the_United_States.svg.png\" srcset=\"//upload.wikimedia.org/wikipedia/commons/thumb/a/a4/Flag_of_the_United_States.svg/30px-Flag_of_the_United_States.svg.png 1.5x, //upload.wikimedia.org/wikipedia/commons/thumb/a/a4/Flag_of_the_United_States.svg/40px-Flag_of_the_United_States.svg.png 2x\" width=\"20\"/></a></span></span> <a href=\"/wiki/Lewis_Milestone\" title=\"Lewis Milestone\">L. Milestone</a>\n",
      "</td>\n",
      "<td><span class=\"flagicon\"><span class=\"mw-image-border\" typeof=\"mw:File\"><a class=\"mw-file-description\" href=\"/wiki/Archivo:Flag_of_Switzerland.svg\" title=\"Bandera de Suiza\"><img alt=\"Bandera de Suiza\" class=\"mw-file-element\" data-file-height=\"512\" data-file-width=\"512\" decoding=\"async\" height=\"20\" src=\"//upload.wikimedia.org/wikipedia/commons/thumb/f/f3/Flag_of_Switzerland.svg/20px-Flag_of_Switzerland.svg.png\" srcset=\"//upload.wikimedia.org/wikipedia/commons/thumb/f/f3/Flag_of_Switzerland.svg/30px-Flag_of_Switzerland.svg.png 1.5x, //upload.wikimedia.org/wikipedia/commons/thumb/f/f3/Flag_of_Switzerland.svg/40px-Flag_of_Switzerland.svg.png 2x\" width=\"20\"/></a></span></span> <a href=\"/wiki/Emil_Jannings\" title=\"Emil Jannings\">E. Jannings</a><br/><small>(<a href=\"/wiki/La_%C3%BAltima_orden\" title=\"La última orden\">The Last Command</a>)</small>\n",
      "</td>\n",
      "<td><span class=\"flagicon\"><span class=\"mw-image-border\" typeof=\"mw:File\"><a class=\"mw-file-description\" href=\"/wiki/Archivo:Flag_of_the_United_States.svg\" title=\"Bandera de Estados Unidos\"><img alt=\"Bandera de Estados Unidos\" class=\"mw-file-element\" data-file-height=\"650\" data-file-width=\"1235\" decoding=\"async\" height=\"11\" src=\"//upload.wikimedia.org/wikipedia/commons/thumb/a/a4/Flag_of_the_United_States.svg/20px-Flag_of_the_United_States.svg.png\" srcset=\"//upload.wikimedia.org/wikipedia/commons/thumb/a/a4/Flag_of_the_United_States.svg/30px-Flag_of_the_United_States.svg.png 1.5x, //upload.wikimedia.org/wikipedia/commons/thumb/a/a4/Flag_of_the_United_States.svg/40px-Flag_of_the_United_States.svg.png 2x\" width=\"20\"/></a></span></span> <a href=\"/wiki/Janet_Gaynor\" title=\"Janet Gaynor\">J. Gaynor</a><br/><small>(<a href=\"/wiki/El_s%C3%A9ptimo_cielo_(pel%C3%ADcula)\" title=\"El séptimo cielo (película)\">7th Heaven</a>)</small>\n",
      "</td>\n",
      "<td align=\"center\" rowspan=\"8\">—\n",
      "</td>\n",
      "<td align=\"center\" rowspan=\"8\">—\n",
      "</td>\n",
      "<td><a href=\"/wiki/Douglas_Fairbanks\" title=\"Douglas Fairbanks\">Douglas Fairbanks</a><br/><a href=\"/wiki/William_C._deMille\" title=\"William C. deMille\">William C. deMille</a>\n",
      "</td>\n",
      "<td>\n",
      "</td></tr>\n"
     ]
    }
   ],
   "source": [
    "# sacamos todas las filas de la variable que nos hemos creado previamente (nuestra tabla), usando el método .find_all()\n",
    "filas_oscar = tabla_oscar.find_all(\"tr\")\n",
    "\n",
    "print(\"La cantidad de filas que hemos extraido de la tabla es:\", len(filas_oscar))\n",
    "\n",
    "print(\"\\n----------------------\\n\")\n",
    "print(\"El contenido que tenemos en la primera fila es:\\n\", filas_oscar[0] )\n",
    "\n",
    "print(\"\\n----------------------\\n\")\n",
    "print(\"El contenido que tenemos en la segunda fila es:\\n\", filas_oscar[1] )"
   ]
  },
  {
   "cell_type": "code",
   "execution_count": 71,
   "metadata": {},
   "outputs": [],
   "source": [
    "# Creamos una lista llamada 'resultados_filas' para almacenar los resultados obtenidos.\n",
    "lista_tuplas = []\n",
    "lista_pelis = []\n",
    "\n",
    "\n",
    "# Iniciamos un bucle 'for' para iterar a través de la lista 'filas_oscar'\n",
    "for fila in filas_oscar[72:]:\n",
    "    # Para cada 'fila', extraemos el texto, lo dividimos en una lista usando '\\n' como separador\n",
    "    elementos = fila.find_all('td')\n",
    "    for celda in elementos[1:6]:\n",
    "        lista_pelis.append(celda.text.replace(\"\\n\", \"\").strip())\n",
    "    \n",
    "    fecha_ceremonia = lista_pelis[0][-4:]\n",
    "    nombre_peli = lista_pelis[1]\n",
    "    mejor_director = lista_pelis[2]\n",
    "    mejor_actor = lista_pelis[3]\n",
    "    mejor_actriz = lista_pelis[4]\n",
    "    tupla = fecha_ceremonia, nombre_peli, mejor_director, mejor_actor, mejor_actriz\n",
    "    lista_tuplas.append(tupla)\n",
    "    lista_pelis.clear()"
   ]
  },
  {
   "cell_type": "code",
   "execution_count": 72,
   "metadata": {},
   "outputs": [
    {
     "data": {
      "text/plain": [
       "[('2000',\n",
       "  'American Beauty',\n",
       "  'S. Mendes(American Beauty)',\n",
       "  'K. Spacey(American Beauty)',\n",
       "  \"H. Swank(Boys don't cry)\"),\n",
       " ('2001',\n",
       "  'Gladiator',\n",
       "  'S. Soderbergh(Traffic)',\n",
       "  'R. Crowe(Gladiator)',\n",
       "  'J. Roberts(Erin Brockovich)'),\n",
       " ('2002',\n",
       "  'A Beautiful Mind',\n",
       "  'R. Howard(A Beautiful Mind)',\n",
       "  'D. Washington(Training Day)',\n",
       "  \"H. Berry(Monster's Ball)\"),\n",
       " ('2003',\n",
       "  'Chicago',\n",
       "  'R. Polanski(The Pianist)',\n",
       "  'A. Brody(The Pianist)',\n",
       "  'N. Kidman(The Hours)'),\n",
       " ('2004',\n",
       "  'The Lord of the Rings: The Return of the King',\n",
       "  'P. Jackson(The Lord of the Rings: The Return of the King)',\n",
       "  'S. Penn(Mystic River)',\n",
       "  'C. Theron(Monster)'),\n",
       " ('2005',\n",
       "  'Million Dollar Baby',\n",
       "  'C. Eastwood(Million Dollar Baby)',\n",
       "  'J. Foxx(Ray)',\n",
       "  'H. Swank(Million Dollar Baby)'),\n",
       " ('2006',\n",
       "  'Crash',\n",
       "  'A. Lee(Brokeback Mountain)',\n",
       "  'P. S. Hoffman(Capote)',\n",
       "  'R. Witherspoon(Walk the Line)'),\n",
       " ('2007',\n",
       "  'The Departed',\n",
       "  'M. Scorsese(The Departed)',\n",
       "  'F. Whitaker(The Last King of Scotland)',\n",
       "  'H. Mirren(The Queen)'),\n",
       " ('2008',\n",
       "  'No Country for Old Men',\n",
       "  'J. Coen E. Coen(No Country for Old Men)',\n",
       "  'D. Day-Lewis(There Will Be Blood)',\n",
       "  'M. Cotillard(La Môme)'),\n",
       " ('2009',\n",
       "  'Slumdog Millionaire',\n",
       "  'D. Boyle(Slumdog Millionaire)',\n",
       "  'S. Penn(Milk)',\n",
       "  'K. Winslet(The Reader)'),\n",
       " ('2010',\n",
       "  'The Hurt Locker',\n",
       "  'K. Bigelow(The Hurt Locker)',\n",
       "  'J. Bridges(Crazy Heart)',\n",
       "  'S. Bullock(The Blind Side)'),\n",
       " ('2011',\n",
       "  \"The King's Speech\",\n",
       "  \"T. Hooper(The King's Speech)\",\n",
       "  \"C. Firth(The King's Speech)\",\n",
       "  'N. Portman(Black Swan)'),\n",
       " ('2012',\n",
       "  'The Artist',\n",
       "  'M. Hazanavicius(The Artist)',\n",
       "  'J. Dujardin(The Artist)',\n",
       "  'M. Streep(The Iron Lady)'),\n",
       " ('2013',\n",
       "  'Argo',\n",
       "  'A. Lee(Life of Pi)',\n",
       "  'D. Day-Lewis(Lincoln)',\n",
       "  'J. Lawrence(Silver Linings Playbook)'),\n",
       " ('2014',\n",
       "  '12 Years a Slave',\n",
       "  'A. Cuarón(Gravity)',\n",
       "  'M. McConaughey(Dallas Buyers Club)',\n",
       "  'C. Blanchett(Blue Jasmine)'),\n",
       " ('2015',\n",
       "  'Birdman or (The Unexpected Virtue of Ignorance)',\n",
       "  'A. G. Iñárritu(Birdman or (The Unexpected Virtue of Ignorance))',\n",
       "  'E. Redmayne(The Theory Of Everything)',\n",
       "  'J.Moore(Still Alice)'),\n",
       " ('2016',\n",
       "  'Spotlight',\n",
       "  'A. G. Iñárritu(The Revenant)',\n",
       "  'L. DiCaprio(The Revenant)',\n",
       "  'B. Larson(Room)'),\n",
       " ('2017',\n",
       "  'Moonlight',\n",
       "  'D. Chazelle(La La Land)',\n",
       "  'C. Affleck(Manchester by the Sea)',\n",
       "  'E. Stone(La La Land)'),\n",
       " ('2018',\n",
       "  'The Shape of Water',\n",
       "  'G. del Toro(The Shape of Water)',\n",
       "  'G. Oldman(Darkest Hour)',\n",
       "  'F. McDormand(Three Billboards Outside Ebbing, Missouri)'),\n",
       " ('2019',\n",
       "  'Green Book',\n",
       "  'A. Cuarón(Roma)',\n",
       "  'R. Malek(Bohemian Rhapsody)',\n",
       "  'O. Colman(La favorita)'),\n",
       " ('2020',\n",
       "  'Parasite',\n",
       "  'Bong J.(Parasite)',\n",
       "  'J. Phoenix(Joker)',\n",
       "  'R. Zellweger(Judy)'),\n",
       " ('2021',\n",
       "  'Nomadland',\n",
       "  'C. Zhao(Nomadland)',\n",
       "  'A. Hopkins(The Father)',\n",
       "  'F. McDormand(Nomadland)'),\n",
       " ('2022',\n",
       "  'CODA',\n",
       "  'J. Campion(The Power of the Dog)',\n",
       "  'W. Smith(King Richard)',\n",
       "  'J. Chastain(The Eyes of Tammy Faye)'),\n",
       " ('2023',\n",
       "  'Everything Everywhere All at Once',\n",
       "  'D. Kwan D. Scheinert(Everything Everywhere All at Once)',\n",
       "  'B. Fraser(The Whale)',\n",
       "  'M. Yeoh(Everything Everywhere All at Once)'),\n",
       " ('2024',\n",
       "  'Oppenheimer',\n",
       "  'C. Nolan(Oppenheimer)',\n",
       "  'C. Murphy(Oppenheimer)',\n",
       "  'E. Stone(Poor Things)')]"
      ]
     },
     "execution_count": 72,
     "metadata": {},
     "output_type": "execute_result"
    }
   ],
   "source": [
    "lista_tuplas"
   ]
  },
  {
   "cell_type": "code",
   "execution_count": 73,
   "metadata": {},
   "outputs": [],
   "source": [
    "df_lista_tuplas = pd.DataFrame(lista_tuplas)\n",
    "df_lista_tuplas.to_csv('lista_tuplas_fase4.csv')\n",
    "df_lista_tuplas.to_json('lista_tuplas_fase4.json')"
   ]
  }
 ],
 "metadata": {
  "kernelspec": {
   "display_name": "base",
   "language": "python",
   "name": "python3"
  },
  "language_info": {
   "codemirror_mode": {
    "name": "ipython",
    "version": 3
   },
   "file_extension": ".py",
   "mimetype": "text/x-python",
   "name": "python",
   "nbconvert_exporter": "python",
   "pygments_lexer": "ipython3",
   "version": "3.11.9"
  }
 },
 "nbformat": 4,
 "nbformat_minor": 2
}
