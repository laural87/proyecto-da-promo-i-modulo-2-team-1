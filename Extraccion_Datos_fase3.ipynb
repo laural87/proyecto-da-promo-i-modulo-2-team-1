{
 "cells": [
  {
   "cell_type": "code",
   "execution_count": 1,
   "metadata": {},
   "outputs": [],
   "source": [
    "# Importar librerías para tratamiento de datos\n",
    "# -----------------------------------------------------------------------\n",
    "import pandas as pd  \n",
    "import re\n",
    "\n",
    "# Importar librerías para web scraping y manipulación de datos\n",
    "# -----------------------------------------------------------------------\n",
    "from bs4 import BeautifulSoup\n",
    "import requests\n",
    "\n",
    "# Importar librerías para automatización de navegadores web con Selenium\n",
    "# -----------------------------------------------------------------------\n",
    "from selenium import webdriver  \n",
    "from webdriver_manager.chrome import ChromeDriverManager  \n",
    "from selenium.webdriver.common.keys import Keys  \n",
    "from selenium.webdriver.support.ui import Select \n",
    "\n",
    "# Importar librerías para pausar la ejecución\n",
    "# -----------------------------------------------------------------------\n",
    "from time import sleep  \n"
   ]
  },
  {
   "cell_type": "markdown",
   "metadata": {},
   "source": [
    "# Recuperamos la lista final de tuplas"
   ]
  },
  {
   "cell_type": "code",
   "execution_count": 2,
   "metadata": {},
   "outputs": [],
   "source": [
    "# Traer resultado tuplas total extraídos en la Fase 1\n",
    "df = pd.read_csv('archivo_final_actualizado.csv', header=None)\n",
    "lista_tuplas = [tuple(row) for row in df.values]"
   ]
  },
  {
   "cell_type": "code",
   "execution_count": 3,
   "metadata": {},
   "outputs": [],
   "source": [
    "lista_tuplas = lista_tuplas[1:]"
   ]
  },
  {
   "cell_type": "code",
   "execution_count": 4,
   "metadata": {},
   "outputs": [
    {
     "data": {
      "text/plain": [
       "[('6,9',\n",
       "  '72',\n",
       "  'Jon Favreau',\n",
       "  'Justin Theroux',\n",
       "  'Con el mundo sabiendo que es Iron Man, Tony Stark debe lidiar tanto con su salud en declive como con un loco vengativo con vínculos con el legado de su padre.',\n",
       "  \"['Acción', 'Ciencia ficción']\",\n",
       "  '2h 4min',\n",
       "  'Iron Man 2',\n",
       "  'tt1228705'),\n",
       " ('6,0',\n",
       "  '21',\n",
       "  'Florian Henckel von Donnersmarck',\n",
       "  'Florian Henckel von Donnersmarck',\n",
       "  'Frank es un turista estadounidense que visita Italia para reparar un corazón roto. Elise es una mujer extraordinaria que se cruza deliberadamente en su camino.',\n",
       "  \"['Acción', 'Suspense']\",\n",
       "  '1h 43min',\n",
       "  'The Tourist',\n",
       "  'tt1243957'),\n",
       " ('7,0',\n",
       "  '72',\n",
       "  'Robert Schwentke',\n",
       "  'Jon Hoeber',\n",
       "  'Cuando su pacífica vida se ve amenazada por un asesino de alta tecnología, el exagente de operaciones encubiertas Frank Moses vuelve a reunir a su antiguo equipo en un último esfuerzo por sobrevivir y descubrir a sus agresores.',\n",
       "  \"['Acción', 'Comedia', 'Crimen']\",\n",
       "  '1h 51min',\n",
       "  'RED',\n",
       "  'tt1245526')]"
      ]
     },
     "execution_count": 4,
     "metadata": {},
     "output_type": "execute_result"
    }
   ],
   "source": [
    "lista_tuplas[:3]"
   ]
  },
  {
   "cell_type": "code",
   "execution_count": 5,
   "metadata": {},
   "outputs": [
    {
     "data": {
      "text/plain": [
       "377"
      ]
     },
     "execution_count": 5,
     "metadata": {},
     "output_type": "execute_result"
    }
   ],
   "source": [
    "len(lista_tuplas)"
   ]
  },
  {
   "cell_type": "code",
   "execution_count": 6,
   "metadata": {},
   "outputs": [
    {
     "name": "stdout",
     "output_type": "stream",
     "text": [
      "101\n"
     ]
    }
   ],
   "source": [
    "count = 0\n",
    "for i in lista_tuplas:\n",
    "    if type(i[-1]) == float:\n",
    "        count += 1\n",
    "\n",
    "print(count)"
   ]
  },
  {
   "cell_type": "code",
   "execution_count": 7,
   "metadata": {},
   "outputs": [
    {
     "name": "stdout",
     "output_type": "stream",
     "text": [
      "305\n"
     ]
    }
   ],
   "source": [
    "for i in lista_tuplas:\n",
    "    if type(i[-1]) == float:\n",
    "        lista_tuplas.remove(i)\n",
    "\n",
    "print(len(lista_tuplas))"
   ]
  },
  {
   "cell_type": "code",
   "execution_count": 8,
   "metadata": {},
   "outputs": [
    {
     "data": {
      "text/plain": [
       "305"
      ]
     },
     "execution_count": 8,
     "metadata": {},
     "output_type": "execute_result"
    }
   ],
   "source": [
    "len(lista_tuplas)"
   ]
  },
  {
   "cell_type": "code",
   "execution_count": 9,
   "metadata": {},
   "outputs": [
    {
     "name": "stdout",
     "output_type": "stream",
     "text": [
      "tt1228705\n",
      "Iron Man 2\n"
     ]
    }
   ],
   "source": [
    "# Bucle for para realizar pruebas\n",
    "for peli in lista_tuplas[:]: # Prueba: Iterando para extraer el id_imdb y el nombre \n",
    "    id_imdb = peli[-1]\n",
    "    nombre = peli[-2]\n",
    "    print(id_imdb)\n",
    "    print(nombre)\n",
    "    break"
   ]
  },
  {
   "cell_type": "code",
   "execution_count": 10,
   "metadata": {},
   "outputs": [],
   "source": [
    "# Creación de las variables que vamos a usar en la extración con Selenium\n",
    "url_imdb = \"https://www.imdb.com/\"\n",
    "selector_cookies_imdb = \"#__next > div > div > div.sc-jrcTuL.bPmWiM > div > button.icb-btn.sc-bcXHqe.sc-dkrFOg.sc-iBYQkv.dcvrLS.ddtuHe.dRCGjd\""
   ]
  },
  {
   "cell_type": "code",
   "execution_count": 11,
   "metadata": {},
   "outputs": [],
   "source": [
    "# Creacción de las listas donde vamos a almacenar los resultados de la extración.\n",
    "resultados_completos = []\n",
    "resultados_parciales = [] # Nos permitimos añadir tuplas con hasta 2 valores nulos.\n",
    "tuplas_tabla_intermedia = []"
   ]
  },
  {
   "cell_type": "code",
   "execution_count": 12,
   "metadata": {},
   "outputs": [],
   "source": [
    "# Creamos una función para abrir el navegador \n",
    "def abrir_navegador(driver, url, selector):\n",
    "    driver = webdriver.Chrome() # Inicializa el navegador Chrome\n",
    "    sleep(3)\n",
    "    driver.maximize_window() # Maximiza la ventana\n",
    "    driver.get(url) # Navega a la url pasada por parámetro\n",
    "    sleep(3)\n",
    "    try:\n",
    "        driver.find_element(\"css selector\", selector).click() # Intentamos aceptar las cookies\n",
    "        sleep(3)\n",
    "    except: # Si salta error, imprime un mensaje avisando.\n",
    "        print(\"No ha sido posible aceptar las cookies, puede que no saltó el aviso o que se haya cambiado el selector.\")\n",
    "    \n",
    "    return driver # retorna el driver que será usado para las demás tareas"
   ]
  },
  {
   "cell_type": "code",
   "execution_count": 14,
   "metadata": {},
   "outputs": [],
   "source": [
    "# Creación de algunas variables que vamos a usar en la extración\n",
    "url_imdb = \"https://www.imdb.com/\"\n",
    "selector_cookies_imdb = \"#__next > div > div > div.sc-jrcTuL.bPmWiM > div > button.icb-btn.sc-bcXHqe.sc-dkrFOg.sc-iBYQkv.dcvrLS.ddtuHe.dRCGjd\"\n",
    "\n",
    "# Listas de selectores CSS para hacer iteraciones\n",
    "selector_nombre_que_hace = [\"#__next > main > div > section.ipc-page-background.ipc-page-background--base.sc-c41b9732-0.NeSef > section > div:nth-child(5) > section > section > div.sc-491663c0-3.bdjVSf > div\"]\n",
    "selector_anio_nasc = [\"#__next > main > div > section.ipc-page-background.ipc-page-background--base.sc-c41b9732-0.NeSef > section > div:nth-child(5) > section > section > div.sc-491663c0-4.yjUiO > div.sc-491663c0-6.lnlBxO > div.sc-491663c0-11.cvvyMK > section > aside > div > span:nth-child(2)\"]\n",
    "selector_conocido_por = [\"#__next > main > div > section.ipc-page-background.ipc-page-background--base.sc-c41b9732-0.NeSef > div > section > div > div.sc-978e9339-1.ihWZgK.ipc-page-grid__item.ipc-page-grid__item--span-2 > div.celwidget > section:nth-child(1) > div.sc-1c5b3162-0.fFgRFS > div > div.ipc-sub-grid.ipc-sub-grid--page-span-2.ipc-sub-grid--wraps-at-above-l.ipc-shoveler__grid\"]\n",
    "\n",
    "selector_awards_click = [\"#__next > main > div > section.ipc-page-background.ipc-page-background--base.sc-c41b9732-0.NeSef > section > div:nth-child(5) > section > section > div.sc-66ec1b32-0.kbbKze > div > div:nth-child(2) > ul > li:nth-child(2) > a\"]\n",
    "# Hay que hacer .click() en el selector awards y luego driver.back()\n",
    "\n",
    "selector_awards = \"#jump-to\"\n",
    "\n",
    "# Selectores de actores\n",
    "select_actor1 = [\"#fullcredits_content > table.cast_list > tbody > tr:nth-child(2) > td:nth-child(2) > a\"]\n",
    "select_actor2 = [\"#fullcredits_content > table.cast_list > tbody > tr:nth-child(3) > td:nth-child(2) > a\"]\n",
    "select_actor3 = [\"#fullcredits_content > table.cast_list > tbody > tr:nth-child(4) > td:nth-child(2) > a\"]\n",
    "select_actor4 = [\"#fullcredits_content > table.cast_list > tbody > tr:nth-child(5) > td:nth-child(2) > a\"]\n",
    "select_actor5 = [\"#fullcredits_content > table.cast_list > tbody > tr:nth-child(6) > td:nth-child(2) > a\"]\n",
    "select_actor6 = [\"#fullcredits_content > table.cast_list > tbody > tr:nth-child(7) > td:nth-child(2) > a\"]\n",
    "select_actor7 = [\"#fullcredits_content > table.cast_list > tbody > tr:nth-child(8) > td:nth-child(2) > a\"]\n",
    "select_actor8 = [\"#fullcredits_content > table.cast_list > tbody > tr:nth-child(9) > td:nth-child(2) > a\"]\n",
    "select_actor9 = [\"#fullcredits_content > table.cast_list > tbody > tr:nth-child(10) > td:nth-child(2) > a\"]\n",
    "select_actor10 = [\"#fullcredits_content > table.cast_list > tbody > tr:nth-child(11) > td:nth-child(2) > a\"]\n",
    "lista_select_actores = [select_actor1, select_actor2, select_actor3, select_actor4, select_actor5, select_actor6, select_actor7, select_actor8, select_actor9, select_actor10]\n",
    "\n",
    "# Selectores de premios\n",
    "select_premios = [\"#__next > main > div > section > div > section > div > div.sc-978e9339-1.ihWZgK.ipc-page-grid__item.ipc-page-grid__item--span-2 > section:nth-child(3)\", \"#__next > main > div > section > div > section > div > div.sc-978e9339-1.ihWZgK.ipc-page-grid__item.ipc-page-grid__item--span-2 > section:nth-child(4)\", \"#__next > main > div > section > div > section > div > div.sc-978e9339-1.ihWZgK.ipc-page-grid__item.ipc-page-grid__item--span-2 > section:nth-child(5)\", \"#__next > main > div > section > div > section > div > div.sc-978e9339-1.ihWZgK.ipc-page-grid__item.ipc-page-grid__item--span-2 > section:nth-child(6)\", \"#__next > main > div > section > div > section > div > div.sc-978e9339-1.ihWZgK.ipc-page-grid__item.ipc-page-grid__item--span-2 > section:nth-child(7)\"]\n"
   ]
  },
  {
   "cell_type": "code",
   "execution_count": 15,
   "metadata": {},
   "outputs": [],
   "source": [
    "# Creamos una función para iterar por los selectores haciendo los try except para extraer datos de imdb\n",
    "def extrae_datos(lista_selector, driver):\n",
    "    for selector in lista_selector:\n",
    "        try:\n",
    "            dato = driver.find_element(\"css selector\", selector).text\n",
    "            sleep(2)\n",
    "            return dato \n",
    "        except: #Exception as e:\n",
    "            # excepcion = e\n",
    "            pass\n",
    "\n",
    "    # error = f\"No se ha podido extraer el dato, error de tipo: {excepcion}.\"\n",
    "    # not_found.append(error)\n",
    "    dato = None\n",
    "    return dato"
   ]
  },
  {
   "cell_type": "code",
   "execution_count": 16,
   "metadata": {},
   "outputs": [],
   "source": [
    "# Creamos una función para clicar en elementos\n",
    "def clicar(lista_selector, driver):\n",
    "    for selector in lista_selector:\n",
    "        try:\n",
    "            driver.find_element(\"css selector\", selector).click()\n",
    "            return True\n",
    "        except:\n",
    "            print(f\"No ha sido posible clicar.\")\n",
    "            return False"
   ]
  },
  {
   "cell_type": "code",
   "execution_count": 17,
   "metadata": {},
   "outputs": [],
   "source": [
    "# Creamos una función para extraer los premios y luego limpiar los datos si tenemos 5 o más premios\n",
    "def extrae_premios(lista_selector, driver):\n",
    "    lista_premios = []\n",
    "    for selector in lista_selector:\n",
    "        try:\n",
    "            dato = driver.find_element(\"css selector\", selector).text\n",
    "            sleep(2)\n",
    "            lista_premios.append(dato)\n",
    "        except:\n",
    "            pass\n",
    "    \n",
    "    try:\n",
    "        if len(lista_premios) > 0:\n",
    "            lista_premios_limpios = []\n",
    "            for premio in lista_premios:\n",
    "                premio_limpio = premio.split('\\n')\n",
    "                premio_limpio = premio_limpio[0].replace(',', '') + ' ' + premio_limpio[1][5:8]\n",
    "                lista_premios_limpios.append(premio_limpio)\n",
    "        else:\n",
    "            return None\n",
    "    except:\n",
    "        return None\n",
    "\n",
    "    if 'Contribute to this page st ' in lista_premios_limpios:\n",
    "        lista_premios_limpios.remove('Contribute to this page st ')\n",
    "    if 'More from this person  wo' in lista_premios_limpios:\n",
    "        lista_premios_limpios.remove('More from this person  wo')\n",
    "        \n",
    "    if len(lista_premios_limpios) >= 5:\n",
    "        return lista_premios_limpios[:5]\n",
    "    else:\n",
    "        return lista_premios_limpios"
   ]
  },
  {
   "cell_type": "code",
   "execution_count": 17,
   "metadata": {},
   "outputs": [
    {
     "name": "stdout",
     "output_type": "stream",
     "text": [
      "Vamos por la iteración: 1.\n",
      "TUPLA: ('Robert Downey Jr.', '1965', ['Iron Man', 'Iron Man 3', 'Sherlock Holmes', 'Vengadores: Endgame'], ['Reparto', 'Producción', 'Guion'], ['Academy Awards USA Gan', 'Academy of Science Fiction Fantasy & Horror Films USA Nom', 'Boston Society of Film Critics Awards Nom', 'BAFTA Awards Gan', 'Critics Choice Awards Gan'])\n",
      "TUPLA INTERMEDIA: ('tt1228705', 'Robert Downey Jr.')\n",
      "TUPLA: ('Gwyneth Paltrow', '1972', ['Shakespeare in Love (Shakespeare enamorado)', 'Dos vidas en un instante', 'Emma', 'Iron Man 3'], ['Reparto', 'Producción', 'Dirección'], ['Academy Awards USA Gan', 'Academy of Science Fiction Fantasy & Horror Films USA Nom', 'Bambi Awards Gan', 'Blockbuster Entertainment Awards Gan', 'BAFTA Awards Nom'])\n",
      "TUPLA INTERMEDIA: ('tt1228705', 'Gwyneth Paltrow')\n",
      "TUPLA: ('Don Cheadle', '1964', ['Crash (Colisión)', 'El irlandés', 'Hotel Rwanda', 'Miles Ahead'], ['Reparto', 'Producción', 'Dirección'], ['Academy Awards USA Nom', 'Berlin International Film Festival Nom', 'BET Awards Nom', 'Blockbuster Entertainment Awards Nom', 'BAFTA Awards Nom'])\n",
      "TUPLA INTERMEDIA: ('tt1228705', 'Don Cheadle')\n",
      "TUPLA: ('Scarlett Johansson', '1984', ['Lost in Translation', 'Her', 'Los Vengadores', 'Viuda Negra'], ['Reparto', 'Producción', 'Dirección'], ['Academy Awards USA Nom', 'Academy of Science Fiction Fantasy & Horror Films USA Nom', 'American Comedy Awards USA Nom', 'Blockbuster Entertainment Awards Nom', 'Boston Society of Film Critics Awards Gan'])\n",
      "TUPLA INTERMEDIA: ('tt1228705', 'Scarlett Johansson')\n",
      "TUPLA: ('Sam Rockwell', '1968', ['Moon', 'Tres anuncios en las afueras', 'Confesiones de una mente peligrosa', 'Siete psicópatas'], ['Reparto', 'Producción', 'Dirección'], ['Academy Awards USA Nom', 'Academy of Science Fiction Fantasy & Horror Films USA Nom', 'Berlin International Film Festival Gan', 'Boston Society of Film Critics Awards Nom', 'BAFTA Awards Nom'])\n",
      "TUPLA INTERMEDIA: ('tt1228705', 'Sam Rockwell')\n",
      "TUPLA: ('Mickey Rourke', '1952', ['Sin City: Ciudad del pecado', 'El luchador', 'El corazón del ángel', 'Iron Man 2'], ['Reparto', 'Guion', 'Producción'], ['Academy Awards USA Nom', 'Academy of Science Fiction Fantasy & Horror Films USA Gan', 'Boston Society of Film Critics Awards Gan', 'BAFTA Awards Gan', 'Critics Choice Awards Nom'])\n",
      "TUPLA INTERMEDIA: ('tt1228705', 'Mickey Rourke')\n",
      "TUPLA: ('Samuel L. Jackson', '1948', ['Pulp Fiction', 'Los odiosos ocho', 'Serpientes en el avión', 'Capitana Marvel'], ['Reparto', 'Producción', 'Equipos adicionales'], ['Academy Awards USA Nom', 'Academy of Science Fiction Fantasy & Horror Films USA Nom', 'Acapulco Black Film Festival Nom', 'Annie Awards Nom', 'Bambi Awards Gan'])\n",
      "TUPLA INTERMEDIA: ('tt1228705', 'Samuel L. Jackson')\n",
      "TUPLA: ('Clark Gregg', '1962', ['Los Vengadores', 'Agentes de S.H.I.E.L.D.', '2013–2020 • 136 episodios', 'Richard Campbell', 'Lord High Charlie'], ['Reparto', 'Dirección', 'Guion'], ['Academy of Science Fiction Fantasy & Horror Films USA Gan', 'Florida Film Critics Circle Awards Gan', 'Film Independent Spirit Awards Nom', 'Locarno International Film Festival Nom', 'National Board of Review USA Gan'])\n",
      "TUPLA INTERMEDIA: ('tt1228705', 'Clark Gregg')\n",
      "TUPLA: ('John Slattery', '1962', ['Spotlight', 'Destino oculto', 'Ant-Man', 'Capitán América: Civil War'], ['Reparto', 'Dirección', 'Producción'], ['Primetime Emmy Awards Nom', 'Satellite Awards Nom', 'Gotham Awards Gan', 'Film Independent Spirit Awards Gan', 'Monte-Carlo TV Festival Nom'])\n",
      "TUPLA INTERMEDIA: ('tt1228705', 'John Slattery')\n",
      "TUPLA: ('Garry Shandling', '1949', ['El show de Larry Sanders', '1992–1998 • 89 episodios', 'Guion(creator)', 'Senator Stern', 'Senator Stern'], ['Guion', 'Reparto', 'Producción'], ['American Comedy Awards USA Nom', 'BAFTA Awards Gan', 'CableACE Awards Nom', 'Primetime Emmy Awards Nom', 'Golden Globes USA Nom'])\n",
      "TUPLA INTERMEDIA: ('tt1228705', 'Garry Shandling')\n",
      "Vamos por la iteración: 2.\n",
      "TUPLA: ('Johnny Depp', '1963', ['Sweeney Todd: El barbero diabólico de la calle Fleet', 'Piratas del Caribe: La maldición de la Perla Negra', 'Piratas del Caribe: En el fin del mundo', 'Piratas del Caribe: El cofre del hombre muerto'], ['Reparto', 'Producción', 'Dirección'], ['Academy Awards USA Nom', 'Academy of Science Fiction Fantasy & Horror Films USA Nom', 'Blockbuster Entertainment Awards Gan', 'BAFTA Awards Nom', 'British Independent Film Awards Nom'])\n",
      "TUPLA INTERMEDIA: ('tt1243957', 'Johnny Depp')\n",
      "TUPLA: ('Angelina Jolie', '1975', ['Maléfica', 'Inocencia interrumpida', 'El intercambio', 'Lara Croft: Tomb Raider'], ['Reparto', 'Producción', 'Dirección'], ['Academy Awards USA Nom', 'Academy of Science Fiction Fantasy & Horror Films USA Nom', 'American Society of Cinematographers USA Gan', 'Berlin International Film Festival Gan', 'Blockbuster Entertainment Awards Gan'])\n",
      "TUPLA INTERMEDIA: ('tt1243957', 'Angelina Jolie')\n",
      "TUPLA: ('Paul Bettany', '1971', ['Bruja Escarlata y Visión', '2021 • 9 episodios'], ['Reparto', 'Producción', 'Guion'], ['Academy of Science Fiction Fantasy & Horror Films USA Nom', 'BAFTA Awards Nom', 'British Independent Film Awards Nom', 'Critics Choice Awards Nom', 'Camerimage Nom'])\n",
      "TUPLA INTERMEDIA: ('tt1243957', 'Paul Bettany')\n",
      "TUPLA: ('Timothy Dalton', '1946', ['007: Alta tensión', '007: Licencia para matar', 'Arma fatal', 'Rocketeer'], ['Reparto', 'Banda sonora'], ['Biarritz International Festival of Audiovisual Programming Gan', 'TV Guide Awards Gan', 'Jupiter Award Nom', 'Behind the Voice Actors Awards Nom', 'The Stinkers Bad Movie Awards Nom'])\n",
      "TUPLA INTERMEDIA: ('tt1243957', 'Timothy Dalton')\n",
      "TUPLA: ('Steven Berkoff', '1937', ['Octopussy', 'La naranja mecánica', 'Superdetective en Hollywood', 'The Tourist'], ['Reparto', 'Guion', 'Dirección'], ['San Diego Film Critics Society Awards Gan', 'British Horror Film Festival UK Nom', 'UK Film Festival UK Gan', 'Tabloid Witch Awards Gan', 'Independent Horror Movie Awards Gan'])\n",
      "TUPLA INTERMEDIA: ('tt1243957', 'Steven Berkoff')\n",
      "TUPLA: ('Rufus Sewell', '1967', ['Dark City', 'El ilusionista', 'Destino de caballero', 'Judy'], ['Reparto', 'Banda sonora'], ['BAFTA Awards Nom', 'Critics Choice Awards Nom', 'Primetime Emmy Awards Nom', 'Monte-Carlo TV Festival Nom', 'Teen Choice Awards Nom'])\n",
      "TUPLA INTERMEDIA: ('tt1243957', 'Rufus Sewell')\n",
      "TUPLA: ('Christian De Sica', '1951', ['The Tourist', 'Faccione', 'Il conte Max', 'Il figlio più piccolo'], ['Reparto', 'Guion', 'Dirección'], ['David di Donatello Awards Gan', 'Italian National Syndicate of Film Journalists Gan', 'Telegatto Italy Gan', 'Golden Globes Italy Gan', 'Kineo Awards Italy Gan'])\n",
      "TUPLA INTERMEDIA: ('tt1243957', 'Christian De Sica')\n",
      "TUPLA: ('Alessio Boni', '1966', ['La mejor juventud', 'The Tourist', 'La chica en la niebla', 'Camino sin retorno'], ['Reparto', 'Equipos adicionales', 'Dirección'], ['Italian National Syndicate of Film Journalists Nom', 'Monte-Carlo TV Festival Nom', 'Montecatini International Short Film Festival Gan', 'Salerno Shadowline Film Festival Gan', 'Flaiano International Prizes Gan'])\n",
      "TUPLA INTERMEDIA: ('tt1243957', 'Alessio Boni')\n",
      "TUPLA: ('Daniele Pecci', None, ['The Tourist', 'Tengo algo que deciros', 'Orgoglio', '2004–2006 • 39 episodios', 'Edoardo di Balsano'], ['Reparto'], ['CinEuphoria Awards Gan', 'Contribuir a esta página ir '])\n",
      "TUPLA INTERMEDIA: ('tt1243957', 'Daniele Pecci')\n",
      "No ha sido posible clicar.\n",
      "Vamos por la iteración: 3.\n",
      "TUPLA: ('Bruce Willis', '1955', ['Jungla de cristal', 'Pulp Fiction', 'Luz de luna', '1985–1989 • 66 episodios', '1999'], ['Reparto', 'Producción', 'Guion'], ['Academy of Science Fiction Fantasy & Horror Films USA Nom', 'American Comedy Awards USA Nom', 'Blockbuster Entertainment Awards Nom', 'Boston Society of Film Critics Awards Nom', 'Critics Choice Awards Nom'])\n",
      "TUPLA INTERMEDIA: ('tt1245526', 'Bruce Willis')\n",
      "TUPLA: ('Mary-Louise Parker', '1964', ['Weeds', '2005–2012 • 102 episodios', '2010', 'Harper Pitt', 'Proctor'], ['Reparto', 'Producción', 'Equipos adicionales'], ['Primetime Emmy Awards Nom', 'Gemini Awards Gan', 'Genie Awards Nom', 'Golden Globes USA Nom', 'Satellite Awards Nom'])\n",
      "TUPLA INTERMEDIA: ('tt1245526', 'Mary-Louise Parker')\n",
      "TUPLA: ('Heidi von Palleske', None, ['Inseparables', 'Amigo o enemigo', 'RED', 'El guardián'], ['Reparto', 'Guion', 'Dirección de casting'], None)\n",
      "TUPLA INTERMEDIA: ('tt1245526', 'Heidi von Palleske')\n",
      "TUPLA: ('Jefferson Brown', '1976', ['Carrie', 'RED', 'Please Kill Mr. Know It All', 'Mr. Viral'], ['Reparto', 'Producción', 'Banda sonora'], ['Canadian Comedy Awards Nom', 'Contribuir a esta página ir '])\n",
      "TUPLA INTERMEDIA: ('tt1245526', 'Jefferson Brown')\n",
      "TUPLA: ('Karl Urban', '1972', ['Star Trek', 'El señor de los anillos: Las dos torres', 'El señor de los anillos: El retorno del rey', 'Doom'], ['Reparto', 'Producción', 'Equipos adicionales'], ['Boston Society of Film Critics Awards Gan', 'Critics Choice Awards Gan', 'National Board of Review USA Gan', 'New Zealand Film and TV Awards (I) Nom', 'Screen Actors Guild Awards Gan'])\n",
      "TUPLA INTERMEDIA: ('tt1245526', 'Karl Urban')\n",
      "TUPLA: ('Chris Owens', None, ['RED', 'El increíble Hulk', 'Expediente X', '1996–2018 • 14 episodios', '2003'], ['Reparto', 'Equipos adicionales'], ['Canadian Comedy Awards Nom', 'Genie Awards Nom', 'Screen Actors Guild Awards Nom', 'Contribuir a esta página ir '])\n",
      "TUPLA INTERMEDIA: ('tt1245526', 'Chris Owens')\n",
      "TUPLA: ('Rebecca Pidgeon', '1965', ['State and Main', 'RED', 'El último golpe', 'El caso Winslow'], ['Reparto', 'Composición', 'Guion'], ['Florida Film Critics Circle Awards Gan', 'Satellite Awards Nom', 'National Board of Review USA Gan', 'Online Film Critics Society Awards Gan', 'Phoenix Film Critics Society Awards Nom'])\n",
      "TUPLA INTERMEDIA: ('tt1245526', 'Rebecca Pidgeon')\n",
      "TUPLA: ('Morgan Freeman', '1937', ['Seven', 'Paseando a Miss Daisy', 'El caballero oscuro', 'Million Dollar Baby'], ['Reparto', 'Producción', 'Dirección'], ['Academy Awards USA Nom', 'Academy of Science Fiction Fantasy & Horror Films USA Nom', 'Acapulco Black Film Festival Gan', 'American Comedy Awards USA Nom', 'American Film Institute USA Gan'])\n",
      "TUPLA INTERMEDIA: ('tt1245526', 'Morgan Freeman')\n",
      "TUPLA: ('Jaqueline Fleming', '1977', ['The Quad', '2017–2018 • 5 episodios', 'Laundry Woman #1(as Jacqueline Fleming)', 'Serie de TV', '7,0'], ['Reparto', 'Producción', 'Guion'], ['Harlem International Film Festival Gan', 'Downtown Film Festival Los Angeles Gan', 'Telly Awards Gan', 'Nocturna Nom'])\n",
      "TUPLA INTERMEDIA: ('tt1245526', 'Jaqueline Fleming')\n",
      "TUPLA: ('Randy Wade Kelley', None, ['RED', 'Explode for Me', 'Eleven Hundred to Lubbock', '7,8'], ['Reparto', 'Equipos adicionales'], None)\n",
      "TUPLA INTERMEDIA: ('tt1245526', 'Randy Wade Kelley')\n",
      "Vamos por la iteración: 4.\n",
      "TUPLA: ('Dolph Lundgren', '1957', ['Rocky IV', 'The Punisher: Vengador', 'Masters del universo', 'Soldado universal'], ['Reparto', 'Producción', 'Dirección'], ['Napierville Cinema Festival Gan', 'Málaga International Week of Fantastic Cinema Gan', 'CineRockom International Film Festival Gan', 'Contribuir a esta página ir '])\n",
      "TUPLA INTERMEDIA: ('tt1261862', 'Dolph Lundgren')\n",
      "TUPLA: ('Stefanie von Pfetten', '1973', ['Cracked', '2013 • 13 episodios', 'Rebecca Smith', 'Serie de TV', '6,2'], ['Reparto'], None)\n",
      "TUPLA INTERMEDIA: ('tt1261862', 'Stefanie von Pfetten')\n",
      "TUPLA: ('Samantha Ferris', '1969', ['El hombre de las sombras', 'Chantaje', 'La hora de la araña', 'Stargate SG-1', '1999 • 2 episodios'], ['Reparto'], ['Fangoria Chainsaw Awards Nom', 'Contribuir a esta página ir '])\n",
      "TUPLA INTERMEDIA: ('tt1261862', 'Samantha Ferris')\n",
      "TUPLA: ('David James Lewis', '1976', ['Dirk Gently: Agencia de investigaciones holísticas', '2016 • 6 episodios', '2013', '2019', '2023'], ['Reparto', 'Producción', 'Guion'], ['Leo Awards Nom', 'Maverick Movie Awards Nom', 'Vancouver Web Fest Nom', 'UBCP/ACTRA Awards Vancouver Nom'])\n",
      "TUPLA INTERMEDIA: ('tt1261862', 'David James Lewis')\n",
      "TUPLA: ('Lindsay Maxwell', '1981', ['Novio por una noche', 'Sobrenatural', '2007–2018 • 3 episodios', 'BrittanyCandyTiffany'], ['Reparto'], None)\n",
      "TUPLA INTERMEDIA: ('tt1261862', 'Lindsay Maxwell')\n",
      "TUPLA: ('John Tench', None, ['Colonia V', 'Watchmen', 'Shooter: El tirador', 'Rompedientes'], ['Reparto', 'Dirección', 'Guion'], ['Leo Awards Nom', '13 Horror Gan', 'Contribuir a esta página ir '])\n",
      "TUPLA INTERMEDIA: ('tt1261862', 'John Tench')\n",
      "TUPLA: ('Bo Svenson', '1941', ['Malditos bastardos', 'Kill Bill: Volumen 2', 'Pisando fuerte III: Encuentro final', 'North Dallas Forty'], ['Reparto', 'Guion', 'Producción'], ['Academy of Science Fiction Fantasy & Horror Films USA Gan', 'Golden Apple Awards Nom', 'Image Awards (NAACP) Nom', 'Rhode Island International Film Festival Nom', 'Rome Independent Film Festival Nom'])\n",
      "TUPLA INTERMEDIA: ('tt1261862', 'Bo Svenson')\n",
      "TUPLA: ('Katelyn Mager', None, ['Percy Jackson y el mar de los monstruos', 'Discovered', 'Cuando habla el corazón', '2014–2015 • 9 episodios', '2015'], ['Reparto'], ['Young Artist Awards Nom', 'The Joey Awards Vancouver Nom', 'Young Entertainer Awards Nom', 'Contribuir a esta página ir '])\n",
      "TUPLA INTERMEDIA: ('tt1261862', 'Katelyn Mager')\n",
      "TUPLA: ('Monique Ganderton', '1980', ['Vengadores: Endgame', 'Vengadores: Infinity War', 'Atómica', 'Capitana Marvel'], ['Especialistas', 'Reparto', 'Dirección de la segunda unidad o asistencia a dirección'], ['Screen Actors Guild Awards Nom', 'Taurus World Stunt Awards Gan', 'Online Film & Television Association Nom', 'Contribuir a esta página ir '])\n",
      "TUPLA INTERMEDIA: ('tt1261862', 'Monique Ganderton')\n",
      "No ha sido posible clicar.\n",
      "Vamos por la iteración: 5.\n",
      "No ha sido posible clicar.\n",
      "No ha sido posible clicar.\n",
      "No ha sido posible clicar.\n",
      "No ha sido posible clicar.\n"
     ]
    }
   ],
   "source": [
    "# Llamamos a todas las funciones para extraer los datos\n",
    "\n",
    "driver1 = None\n",
    "driver1 = abrir_navegador(driver1, url_imdb, selector_cookies_imdb)\n",
    "\n",
    "contador = 0 # Creamos un contador para saber por que iteración vamos\n",
    "\n",
    "# Iterar por los ids_imdbs para pasarlos por el campo search de la web de imdb:\n",
    "for peli in lista_tuplas[:100]:\n",
    "    id_imdb = peli[-1]\n",
    "    contador += 1\n",
    "    print(f\"Vamos por la iteración: {contador}.\")\n",
    "\n",
    "    # Pasamos el id_imdb al buscador de imdb\n",
    "    driver1.find_element(\"css selector\", \"#suggestion-search\").send_keys(id_imdb, Keys.ENTER)\n",
    "    sleep(5)\n",
    "\n",
    "    # Pinchamos en cast & crew            \n",
    "    driver1.find_element(\"css selector\", \"#__next > main > div > section.ipc-page-background.ipc-page-background--base.sc-c41b9732-0.NeSef > section > div:nth-child(5) > section > section > div.sc-66ec1b32-0.kbbKze > div > div:nth-child(2) > ul > li:nth-child(1) > a\").click()\n",
    "    sleep(3)\n",
    "\n",
    "\n",
    "    for select_actor in lista_select_actores:    \n",
    "        # Creamos todas las variables que vamos a guardar en la tupla\n",
    "        nombre = que_hace = anio_nasc = conocido_por = premios = None\n",
    "\n",
    "        # Pinchamos en el actor\n",
    "        pinchar_actor = clicar(select_actor, driver1)\n",
    "        sleep(4)\n",
    "        if pinchar_actor:\n",
    "            pass\n",
    "        else:\n",
    "            continue\n",
    "        \n",
    "        # Extraímos los datos de imdb\n",
    "        nombre_que_hace = extrae_datos(selector_nombre_que_hace, driver1)\n",
    "        if nombre_que_hace:\n",
    "            try:\n",
    "                nombre = nombre_que_hace.split('\\n')[0]\n",
    "                nombre = re.sub(r'\\(.*?\\)', '', nombre)\n",
    "            except:\n",
    "                pass\n",
    "\n",
    "            try:\n",
    "                que_hace = nombre_que_hace.split('\\n')[1:] # que_hace = extrae_datos(selector_nombre_que_hace, driver1)\n",
    "            except:\n",
    "                pass\n",
    "\n",
    "        try:\n",
    "            anio_nasc = extrae_datos(selector_anio_nasc, driver1)[-4:]\n",
    "            patron = r'^\\d{4}$'\n",
    "            if re.match(patron, anio_nasc):\n",
    "                pass\n",
    "            else:\n",
    "                anio_nasc = None\n",
    "        except:\n",
    "            pass\n",
    "        \n",
    "        try:\n",
    "            conocido_por = extrae_datos(selector_conocido_por, driver1).split('\\n')[::4]\n",
    "        except:\n",
    "            pass\n",
    "        \n",
    "        # Pinchamos en los awards\n",
    "        pinchar_awards = clicar(selector_awards_click, driver1)\n",
    "        sleep(6)\n",
    "\n",
    "        # Extraemos los premios usando la función que extrae los premios\n",
    "        if pinchar_awards:\n",
    "            premios = extrae_premios(select_premios, driver1)\n",
    "            sleep(2)\n",
    "        else:\n",
    "            driver1.back()\n",
    "            sleep(4)\n",
    "            continue\n",
    "        \n",
    "        # Creamos la tupla con todos los datos y la tupla para la tabla intermedia\n",
    "        tupla = nombre, anio_nasc, conocido_por, que_hace, premios\n",
    "        tupla_intermedia = id_imdb, nombre\n",
    "        print(\"TUPLA:\", tupla)\n",
    "        print(\"TUPLA INTERMEDIA:\", tupla_intermedia)\n",
    "                    \n",
    "        none_count = tupla.count(None) # Cuenta cuántos Nones hay en la tupla \n",
    "        if none_count > 2: # Si hay mas de 2 Nones, no hagas nada\n",
    "            pass\n",
    "        elif none_count > 0:\n",
    "            if None in tupla_intermedia: # Si hay un None en la tupla intermedia\n",
    "                pass\n",
    "            else:\n",
    "                tuplas_tabla_intermedia.append(tupla_intermedia)\n",
    "                resultados_parciales.append(tupla)\n",
    "        else:\n",
    "            if None in tupla_intermedia:\n",
    "                pass\n",
    "            else:\n",
    "                tuplas_tabla_intermedia.append(tupla_intermedia)\n",
    "                resultados_completos.append(tupla)\n",
    "        \n",
    "        driver1.back()\n",
    "        sleep(4)\n",
    "        driver1.back()\n",
    "        sleep(5)\n",
    "\n",
    "driver1.close()"
   ]
  },
  {
   "cell_type": "code",
   "execution_count": null,
   "metadata": {},
   "outputs": [],
   "source": [
    "# Guardar los datos de manera permanente\n",
    "\n",
    "df_resultados_completos = pd.DataFrame(resultados_completos)\n",
    "df_resultados_parciales = pd.DataFrame(resultados_parciales)\n",
    "df_tuplas_tabla_intermedia = pd.DataFrame(tuplas_tabla_intermedia)\n",
    "\n",
    "df_resultados_completos.to_csv('resultados_completos_F3_laura.csv') # Cambiar nombre !!! \n",
    "df_resultados_parciales.to_csv('resultados_parciales_F3_laura.csv')\n",
    "df_tuplas_tabla_intermedia.to_csv('tuplas_tabla_intermedia_F3_laura.csv') \n",
    "\n",
    "df_resultados_completos.to_json('resultados_completos_F3_laura.json') \n",
    "df_resultados_parciales.to_json('resultados_parciales_F3_laura.json')\n",
    "df_tuplas_tabla_intermedia.to_json('tuplas_tabla_intermedia_F3_laura.json')\n"
   ]
  }
 ],
 "metadata": {
  "kernelspec": {
   "display_name": "base",
   "language": "python",
   "name": "python3"
  },
  "language_info": {
   "codemirror_mode": {
    "name": "ipython",
    "version": 3
   },
   "file_extension": ".py",
   "mimetype": "text/x-python",
   "name": "python",
   "nbconvert_exporter": "python",
   "pygments_lexer": "ipython3",
   "version": "3.11.7"
  }
 },
 "nbformat": 4,
 "nbformat_minor": 2
}
