{
 "cells": [
  {
   "cell_type": "markdown",
   "metadata": {},
   "source": [
    "El siguiente paso es extraer información detallada de los 10 principales actores de cada una de las películas extraidas en la fase 1 utilizando Selenium (desde la página e IMDB). Debereis solo tener en cuenta los 10 primeros actores de cada película o corto (en caso de que los haya)La información que deberás extraer es:\n",
    "\n",
    "Nombre.\n",
    "\n",
    "Año nacimiento.\n",
    "\n",
    "¿Por qué es conocido?\n",
    "\n",
    "¿Qué hace?\n",
    "\n",
    "Premios.\n",
    "\n",
    "NOTA: La información de la API deberá ser almacenada en una lista de tuplas. Cada tupla corresponderá a una película. Siguiendo el siguiente ejemplo:"
   ]
  },
  {
   "cell_type": "code",
   "execution_count": null,
   "metadata": {},
   "outputs": [],
   "source": [
    "[(\"Adam Sadler\", 1966, [\"El aguador\", \"Little Nicky\", \"Un papá genial\", \"El chico ideal\" ], [\"Reparto\", \"Producción\", \"Guion\"] , [\"American Comedy Awards, USA\", \"Annie Awards\"],   ),  \n",
    "...]"
   ]
  },
  {
   "cell_type": "code",
   "execution_count": 7,
   "metadata": {},
   "outputs": [],
   "source": [
    "# Importar librerías para tratamiento de datos\n",
    "# -----------------------------------------------------------------------\n",
    "import pandas as pd  \n",
    "\n",
    "# Importar librerías para web scraping y manipulación de datos\n",
    "# -----------------------------------------------------------------------\n",
    "from bs4 import BeautifulSoup\n",
    "import requests\n",
    "\n",
    "# Importar librerías para automatización de navegadores web con Selenium\n",
    "# -----------------------------------------------------------------------\n",
    "from selenium import webdriver  \n",
    "from webdriver_manager.chrome import ChromeDriverManager  \n",
    "from selenium.webdriver.common.keys import Keys  \n",
    "from selenium.webdriver.support.ui import Select \n",
    "\n",
    "# Importar librerías para pausar la ejecución\n",
    "# -----------------------------------------------------------------------\n",
    "from time import sleep  \n"
   ]
  },
  {
   "cell_type": "markdown",
   "metadata": {},
   "source": [
    "# Recuperamos la lista final de tuplas"
   ]
  },
  {
   "cell_type": "code",
   "execution_count": 13,
   "metadata": {},
   "outputs": [],
   "source": [
    "# Traer resultado tuplas total extraídos en la Fase 1\n",
    "df = pd.read_csv('resultado_tuplas_total.csv', header=None)\n",
    "lista_tuplas = [tuple(row) for row in df.values]"
   ]
  },
  {
   "cell_type": "code",
   "execution_count": 14,
   "metadata": {},
   "outputs": [],
   "source": [
    "lista_tuplas = lista_tuplas[1:]"
   ]
  },
  {
   "cell_type": "code",
   "execution_count": 15,
   "metadata": {},
   "outputs": [
    {
     "data": {
      "text/plain": [
       "[('Movie', 'The A-Team', 2010.0, 6.0, 'tt0429493'),\n",
       " ('Movie', 'Segurança Nacional', 2010.0, 5.0, 'tt0439801'),\n",
       " ('Movie', 'Komaram Puli', 2010.0, 9.0, 'tt0464162'),\n",
       " ('Movie', 'Prince of Persia: The Sands of Time', 2010.0, 5.0, 'tt0473075'),\n",
       " ('Movie', 'Unstoppable', 2010.0, 12.0, 'tt0477080'),\n",
       " ('Movie', 'The Losers', 2010.0, 4.0, 'tt0480255'),\n",
       " ('Movie', 'Clash of the Titans', 2010.0, 4.0, 'tt0800320'),\n",
       " ('Movie', 'Cross the Line', 2010.0, 11.0, 'tt0810815'),\n",
       " ('Short', 'Red Princess Blues', 2010.0, nan, 'tt0903012'),\n",
       " ('Movie', 'Westbrick Murders', 2010.0, 5.0, 'tt0903036')]"
      ]
     },
     "execution_count": 15,
     "metadata": {},
     "output_type": "execute_result"
    }
   ],
   "source": [
    "lista_tuplas[:10]"
   ]
  },
  {
   "cell_type": "code",
   "execution_count": 16,
   "metadata": {},
   "outputs": [
    {
     "name": "stdout",
     "output_type": "stream",
     "text": [
      "tt0429493\n",
      "The A-Team\n"
     ]
    }
   ],
   "source": [
    "# Bucle for para realizar pruebas\n",
    "for peli in lista_tuplas[:]: # Prueba: Iterando para extraer el id_imdb y el nombre \n",
    "    id_imdb = peli[-1]\n",
    "    nombre = peli[1]\n",
    "    print(id_imdb)\n",
    "    print(nombre)\n",
    "    break"
   ]
  },
  {
   "cell_type": "code",
   "execution_count": 17,
   "metadata": {},
   "outputs": [],
   "source": [
    "# Creación de la variables que vamos a usar en la extración con Selenium\n",
    "url_imdb = \"https://www.imdb.com/\"\n",
    "selector_cookies_imdb = \"#__next > div > div > div.sc-jrcTuL.bPmWiM > div > button.icb-btn.sc-bcXHqe.sc-dkrFOg.sc-iBYQkv.dcvrLS.ddtuHe.dRCGjd\""
   ]
  },
  {
   "cell_type": "code",
   "execution_count": 18,
   "metadata": {},
   "outputs": [],
   "source": [
    "# Creacción de las listas donde vamos a almacenar los resultados de la extración.\n",
    "resultados_completos = []\n",
    "resultados_parciales = [] # Nos permitimos añadir tuplas con hasta 2 valores nulos.\n",
    "not_found = []"
   ]
  },
  {
   "cell_type": "code",
   "execution_count": 19,
   "metadata": {},
   "outputs": [],
   "source": [
    "# Creamos una función para abrir el navegador \n",
    "def abrir_navegador(driver, url, selector):\n",
    "    driver = webdriver.Chrome() # Inicializa el navegador Chrome\n",
    "    sleep(3)\n",
    "    driver.maximize_window() # Maximiza la ventana\n",
    "    driver.get(url) # Navega a la url pasada por parámetro\n",
    "    sleep(3)\n",
    "    try:\n",
    "        driver.find_element(\"css selector\", selector).click() # Intentamos aceptar las cookies\n",
    "        sleep(3)\n",
    "    except: # Si salta error, imprime un mensaje avisando.\n",
    "        print(\"No ha sido posible aceptar las cookies, puede que no saltó el aviso o que se haya cambiado el selector.\")\n",
    "    \n",
    "    return driver # retorna el driver que será usado para las demás tareas"
   ]
  },
  {
   "cell_type": "code",
   "execution_count": 109,
   "metadata": {},
   "outputs": [],
   "source": [
    "# Listas de selectores CSS para hacer iteraciones\n",
    "\n",
    "selector_nombre_que_hace = [\"#__next > main > div > section.ipc-page-background.ipc-page-background--base.sc-c41b9732-0.NeSef > section > div:nth-child(5) > section > section > div.sc-491663c0-3.bdjVSf > div\"]\n",
    "selector_anio_nasc = [\"#__next > main > div > section.ipc-page-background.ipc-page-background--base.sc-c41b9732-0.NeSef > section > div:nth-child(5) > section > section > div.sc-491663c0-4.yjUiO > div.sc-491663c0-6.lnlBxO > div.sc-491663c0-11.cvvyMK > section > aside > div > span:nth-child(2)\"]\n",
    "selector_conocido_por = [\"#__next > main > div > section.ipc-page-background.ipc-page-background--base.sc-c41b9732-0.NeSef > div > section > div > div.sc-978e9339-1.ihWZgK.ipc-page-grid__item.ipc-page-grid__item--span-2 > div.celwidget > section:nth-child(1) > div.sc-1c5b3162-0.fFgRFS > div > div.ipc-sub-grid.ipc-sub-grid--page-span-2.ipc-sub-grid--wraps-at-above-l.ipc-shoveler__grid\"]\n",
    "\n",
    "\n",
    "selector_awards_click = [\"#__next > main > div > section.ipc-page-background.ipc-page-background--base.sc-c41b9732-0.NeSef > section > div:nth-child(5) > section > section > div.sc-66ec1b32-0.kbbKze > div > div:nth-child(2) > ul > li:nth-child(2) > a\"]\n",
    "# Hay que hacer .click() en el selector awards y luego driver.back()\n",
    "\n",
    "selector_awards = \"#jump-to\"\n",
    "\n",
    "\n",
    "\n",
    "# Selectores de actores\n",
    "select_actor1 = [\"#fullcredits_content > table.cast_list > tbody > tr:nth-child(2) > td:nth-child(2) > a\"]\n",
    "select_actor2 = [\"#fullcredits_content > table.cast_list > tbody > tr:nth-child(3) > td:nth-child(2) > a\"]\n",
    "select_actor3 = [\"#fullcredits_content > table.cast_list > tbody > tr:nth-child(4) > td:nth-child(2) > a\"]\n",
    "select_actor4 = [\"#fullcredits_content > table.cast_list > tbody > tr:nth-child(5) > td:nth-child(2) > a\"]\n",
    "select_actor5 = [\"#fullcredits_content > table.cast_list > tbody > tr:nth-child(6) > td:nth-child(2) > a\"]\n",
    "select_actor6 = [\"#fullcredits_content > table.cast_list > tbody > tr:nth-child(7) > td:nth-child(2) > a\"]\n",
    "select_actor7 = [\"#fullcredits_content > table.cast_list > tbody > tr:nth-child(8) > td:nth-child(2) > a\"]\n",
    "select_actor8 = [\"#fullcredits_content > table.cast_list > tbody > tr:nth-child(9) > td:nth-child(2) > a\"]\n",
    "select_actor9 = [\"#fullcredits_content > table.cast_list > tbody > tr:nth-child(10) > td:nth-child(2) > a\"]\n",
    "select_actor10 = [\"#fullcredits_content > table.cast_list > tbody > tr:nth-child(11) > td:nth-child(2) > a\"]\n",
    "lista_select_actores = [select_actor1, select_actor2, select_actor3, select_actor4, select_actor5, select_actor6, select_actor7, select_actor8, select_actor9, select_actor10]\n"
   ]
  },
  {
   "cell_type": "code",
   "execution_count": 82,
   "metadata": {},
   "outputs": [],
   "source": [
    "# Creamos una función para iterar por los selectores haciendo los try except para extraer datos de imdb\n",
    "def extrae_datos(lista_selector, driver):\n",
    "    for selector in lista_selector:\n",
    "        try:\n",
    "            dato = driver.find_element(\"css selector\", selector).text\n",
    "            sleep(2)\n",
    "            return dato \n",
    "        except Exception as e:\n",
    "            excepcion = e\n",
    "\n",
    "    error = f\"No se ha podido extraer el dato, error de tipo: {excepcion}.\"\n",
    "    not_found.append(error)\n",
    "    dato = None\n",
    "    return dato"
   ]
  },
  {
   "cell_type": "code",
   "execution_count": 111,
   "metadata": {},
   "outputs": [],
   "source": [
    "def clicar(lista_selector, driver):\n",
    "    for selector in lista_selector:\n",
    "        try:\n",
    "            driver.find_element(\"css selector\", selector).click()\n",
    "            return True\n",
    "        except Exception as e:\n",
    "            print(f\"No ha sido posible clicar. Error:{e}.\")\n",
    "            return False"
   ]
  },
  {
   "cell_type": "code",
   "execution_count": 112,
   "metadata": {},
   "outputs": [],
   "source": [
    "# Llamamos a todas las funciones para extraer los datos\n",
    "\n",
    "driver1 = None\n",
    "driver1 = abrir_navegador(driver1, url_imdb, selector_cookies_imdb)\n",
    "\n",
    "contador = 0 # Creamos un contador para saber por que iteración vamos\n",
    "\n",
    "'''\n",
    "Maíra: 0:50, 200:400 ok, next = 400:1000\n",
    "Yami: 50:100\n",
    "Laura: 100:150\n",
    "Carolina: 150:200\n",
    "'''\n",
    "\n",
    "# Iterar por los ids_imdbs para pasarlos por el campo search de la web de imdb:\n",
    "for peli in lista_tuplas[:5]:\n",
    "    id_imdb = peli[-1]\n",
    "\n",
    "    # Pasamos el id_imdb al buscador de imdb\n",
    "    driver1.find_element(\"css selector\", \"#suggestion-search\").send_keys(id_imdb, Keys.ENTER)\n",
    "    sleep(5)\n",
    "\n",
    "    # Pinchamos en cast & crew\n",
    "    driver1.find_element(\"css selector\", \"#__next > main > div > section.ipc-page-background.ipc-page-background--base.sc-c41b9732-0.NeSef > section > div:nth-child(5) > section > section > div.sc-66ec1b32-0.kbbKze > div > div:nth-child(2) > ul > li:nth-child(1) > a\").click()\n",
    "    sleep(3)\n",
    "\n",
    "    for select_actor in lista_select_actores:    \n",
    "        # Pinchamos en el actor\n",
    "        pinchar_actor = clicar(select_actor, driver1)\n",
    "        sleep(3)\n",
    "\n",
    "        # Extraímos los datos de imdb\n",
    "        nombre_que_hace = extrae_datos(selector_nombre_que_hace, driver1)\n",
    "        nombre = nombre_que_hace.split('\\n')[0]\n",
    "        que_hace = nombre_que_hace.split('\\n')[1:] # que_hace = extrae_datos(selector_nombre_que_hace, driver1)\n",
    "        anio_nasc = extrae_datos(selector_anio_nasc, driver1)[-4:]\n",
    "        conocido_por = extrae_datos(selector_conocido_por, driver1).split('\\n')[::4]\n",
    "\n",
    "        # Pinchamos en los awards\n",
    "        pinchar_awards = clicar(selector_awards_click, driver1)\n",
    "        sleep(6)\n",
    "        premios = extrae_datos(selector_awards, driver1)\n",
    "\n",
    "        break\n",
    "        sleep(2)\n",
    "        driver1.back()\n",
    "        sleep(3)\n",
    "        driver1.back()\n",
    "        sleep(3)\n",
    "\n",
    "        \n",
    "    break\n",
    "\n",
    "\n",
    "\n",
    "\n",
    "\n",
    "\n",
    "\n",
    "\n",
    "\n",
    "\n",
    "\n",
    "\n",
    "\n",
    "\n",
    "\n",
    "    # texto_actores = driver1.find_element(\"css selector\", \"#fullcredits_content\").text\n",
    "    # lista_texto_actores = texto_actores.split('\\n')\n",
    "    # lista_10_actores = []\n",
    "    # lista_10_actores_limpio = []\n",
    "    # for elemento in lista_texto_actores:\n",
    "    #     elemento_cast = elemento\n",
    "    #     cast = elemento.startswith('Cast')\n",
    "    #     if cast:\n",
    "    #         indice_cast = lista_texto_actores.index(elemento_cast)\n",
    "    #         lista_10_actores.extend(lista_texto_actores[indice_cast+1:indice_cast+11])\n",
    "    #         break\n",
    "\n",
    "    # for actor in lista_10_actores:\n",
    "    #     actor_limpio = actor.split(' ... ')[0]\n",
    "    #     lista_10_actores_limpio.append(actor_limpio)\n",
    "    \n",
    "    # print(lista_10_actores_limpio)\n",
    "\n",
    "\n",
    "\n",
    "\n",
    "    # # Creamos la tupla y la añadimos a la lista que corresponda (completa o sin tomatometer)\n",
    "    # if tomatometer:\n",
    "    #     tupla = imdb_rating, tomatometer, direccion, guionista, argumento, genero, duracion, nombre\n",
    "    #     if None in tupla:\n",
    "    #         contador += 1\n",
    "    #         print(f\"La tupla de la peli {nombre} no está completa: {tupla} Vamos por la iteración: {contador}\")\n",
    "    #     else:\n",
    "    #         resultados_completos.append(tupla)\n",
    "    #         contador += 1\n",
    "    #         print(f\"Hemos añadido la peli {nombre} a la lista completa. Vamos por la iteración: {contador}.\")\n",
    "    # else:\n",
    "    #     tupla = imdb_rating, direccion, guionista, argumento, genero, duracion, nombre\n",
    "    #     if None in tupla:\n",
    "    #         contador += 1\n",
    "    #         print(f\"La tupla de la peli {nombre} no está completa: {tupla} Vamos por la iteración: {contador}\")\n",
    "    #     else:\n",
    "    #         tupla = imdb_rating, tomatometer, direccion, guionista, argumento, genero, duracion, nombre\n",
    "    #         resultados_sin_tomatometer.append(tupla)\n",
    "    #         contador += 1\n",
    "    #         print(f\"Hemos añadido la peli {nombre} a la lista sin tomatometer. Vamos por la iteración: {contador}.\")\n",
    "\n",
    "driver1.close()"
   ]
  },
  {
   "cell_type": "code",
   "execution_count": 88,
   "metadata": {},
   "outputs": [
    {
     "data": {
      "text/plain": [
       "['Actor', 'Producer', 'Soundtrack']"
      ]
     },
     "execution_count": 88,
     "metadata": {},
     "output_type": "execute_result"
    }
   ],
   "source": [
    "nombre.split('\\n')[1:]"
   ]
  },
  {
   "cell_type": "code",
   "execution_count": 86,
   "metadata": {},
   "outputs": [
    {
     "data": {
      "text/plain": [
       "'Liam Neeson\\nActor\\nProducer\\nSoundtrack'"
      ]
     },
     "execution_count": 86,
     "metadata": {},
     "output_type": "execute_result"
    }
   ],
   "source": [
    "nombre"
   ]
  },
  {
   "cell_type": "code",
   "execution_count": 113,
   "metadata": {},
   "outputs": [
    {
     "data": {
      "text/plain": [
       "'Liam Neeson'"
      ]
     },
     "execution_count": 113,
     "metadata": {},
     "output_type": "execute_result"
    }
   ],
   "source": [
    "nombre"
   ]
  },
  {
   "cell_type": "code",
   "execution_count": 114,
   "metadata": {},
   "outputs": [
    {
     "data": {
      "text/plain": [
       "['Actor', 'Producer', 'Soundtrack']"
      ]
     },
     "execution_count": 114,
     "metadata": {},
     "output_type": "execute_result"
    }
   ],
   "source": [
    "que_hace"
   ]
  },
  {
   "cell_type": "code",
   "execution_count": 115,
   "metadata": {},
   "outputs": [
    {
     "data": {
      "text/plain": [
       "'1952'"
      ]
     },
     "execution_count": 115,
     "metadata": {},
     "output_type": "execute_result"
    }
   ],
   "source": [
    "anio_nasc"
   ]
  },
  {
   "cell_type": "code",
   "execution_count": 117,
   "metadata": {},
   "outputs": [
    {
     "data": {
      "text/plain": [
       "['Kinsey', \"Schindler's List\", 'The Grey', 'The A-Team']"
      ]
     },
     "execution_count": 117,
     "metadata": {},
     "output_type": "execute_result"
    }
   ],
   "source": [
    "conocido_por"
   ]
  },
  {
   "cell_type": "code",
   "execution_count": 119,
   "metadata": {},
   "outputs": [
    {
     "data": {
      "text/plain": [
       "''"
      ]
     },
     "execution_count": 119,
     "metadata": {},
     "output_type": "execute_result"
    }
   ],
   "source": [
    "premios"
   ]
  },
  {
   "cell_type": "code",
   "execution_count": null,
   "metadata": {},
   "outputs": [],
   "source": []
  }
 ],
 "metadata": {
  "kernelspec": {
   "display_name": "base",
   "language": "python",
   "name": "python3"
  },
  "language_info": {
   "codemirror_mode": {
    "name": "ipython",
    "version": 3
   },
   "file_extension": ".py",
   "mimetype": "text/x-python",
   "name": "python",
   "nbconvert_exporter": "python",
   "pygments_lexer": "ipython3",
   "version": "3.11.9"
  }
 },
 "nbformat": 4,
 "nbformat_minor": 2
}
