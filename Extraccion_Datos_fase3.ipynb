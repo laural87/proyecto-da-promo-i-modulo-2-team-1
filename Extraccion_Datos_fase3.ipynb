{
 "cells": [
  {
   "cell_type": "markdown",
   "metadata": {},
   "source": [
    "El siguiente paso es extraer información detallada de los 10 principales actores de cada una de las películas extraidas en la fase 1 utilizando Selenium (desde la página e IMDB). Debereis solo tener en cuenta los 10 primeros actores de cada película o corto (en caso de que los haya)La información que deberás extraer es:\n",
    "\n",
    "Nombre.\n",
    "\n",
    "Año nacimiento.\n",
    "\n",
    "¿Por qué es conocido?\n",
    "\n",
    "¿Qué hace?\n",
    "\n",
    "Premios.\n",
    "\n",
    "NOTA: La información de la API deberá ser almacenada en una lista de tuplas. Cada tupla corresponderá a una película. Siguiendo el siguiente ejemplo:"
   ]
  },
  {
   "cell_type": "code",
   "execution_count": null,
   "metadata": {},
   "outputs": [],
   "source": [
    "[(\"Adam Sadler\", 1966, [\"El aguador\", \"Little Nicky\", \"Un papá genial\", \"El chico ideal\" ], [\"Reparto\", \"Producción\", \"Guion\"] , [\"American Comedy Awards, USA\", \"Annie Awards\"],   ),  \n",
    "...]"
   ]
  }
 ],
 "metadata": {
  "kernelspec": {
   "display_name": "base",
   "language": "python",
   "name": "python3"
  },
  "language_info": {
   "name": "python",
   "version": "3.11.9"
  }
 },
 "nbformat": 4,
 "nbformat_minor": 2
}
